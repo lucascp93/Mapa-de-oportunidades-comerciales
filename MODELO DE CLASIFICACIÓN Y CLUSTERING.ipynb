{
 "cells": [
  {
   "cell_type": "markdown",
   "metadata": {},
   "source": [
    "## **IMPORTAMOS LAS LIBRERÍAS :**"
   ]
  },
  {
   "cell_type": "code",
   "execution_count": 1,
   "metadata": {
    "ExecuteTime": {
     "end_time": "2019-10-10T03:39:46.563976Z",
     "start_time": "2019-10-10T03:39:45.775080Z"
    }
   },
   "outputs": [],
   "source": [
    "from IPython.display import Image\n",
    "import pandas as pd\n",
    "import numpy as np\n",
    "import matplotlib.pyplot as plt\n",
    "import seaborn as sns\n",
    "from sklearn.preprocessing import MinMaxScaler\n",
    "scaler = MinMaxScaler()\n",
    "#Preprocessing \n",
    "from sklearn.preprocessing import StandardScaler\n",
    "#Otros \n",
    "from scipy.stats import norm\n",
    "from scipy import stats\n",
    "import warnings #nos sirve para ignorar los warnings que puedan aparecer. Se utiliza aca solo con fines esteticos\n",
    "warnings.filterwarnings('ignore')\n",
    "%matplotlib inline\n",
    "from matplotlib.axes._axes import _log as matplotlib_axes_logger\n",
    "matplotlib_axes_logger.setLevel('ERROR')\n",
    "from IPython.display import Image\n",
    "from pandas import DataFrame, read_excel, merge"
   ]
  },
  {
   "cell_type": "code",
   "execution_count": 2,
   "metadata": {},
   "outputs": [],
   "source": [
    "from sklearn import svm\n",
    "from sklearn.svm import SVC\n",
    "from sklearn.model_selection import train_test_split\n",
    "from sklearn.metrics import accuracy_score\n",
    "from sklearn.model_selection import cross_val_score\n",
    "from sklearn.metrics import roc_curve, auc\n",
    "from sklearn import metrics\n",
    "from sklearn.model_selection import GridSearchCV\n",
    "from sklearn.metrics import confusion_matrix\n",
    "from sklearn.linear_model import LogisticRegression\n",
    "from sklearn.feature_selection import RFECV\n",
    "from sklearn import linear_model\n",
    "from sklearn.linear_model import LassoCV, LassoLarsCV, LassoLarsIC\n",
    "from sklearn.linear_model import Lasso\n",
    "from sklearn.linear_model import lasso_path\n",
    "from sklearn.feature_selection import VarianceThreshold\n",
    "from sklearn.decomposition import PCA\n",
    "from sklearn.model_selection import train_test_split\n",
    "from sklearn.linear_model import LinearRegression\n",
    "from sklearn.svm import SVR\n",
    "from sklearn.svm import LinearSVR\n",
    "from sklearn.neighbors import KNeighborsRegressor\n",
    "from sklearn.metrics import mean_squared_error, r2_score\n",
    "from sklearn.model_selection import GridSearchCV\n",
    "from sklearn import preprocessing\n",
    "from sklearn.metrics import mean_absolute_error\n"
   ]
  },
  {
   "cell_type": "code",
   "execution_count": 3,
   "metadata": {},
   "outputs": [],
   "source": [
    "import xgboost as xgb\n",
    "from xgboost import XGBClassifier\n",
    "from sklearn import model_selection\n",
    "from sklearn.metrics import accuracy_score\n",
    "from sklearn.preprocessing import LabelEncoder\n",
    "from sklearn.preprocessing import OneHotEncoder"
   ]
  },
  {
   "cell_type": "markdown",
   "metadata": {},
   "source": [
    "## **READ CSV:** "
   ]
  },
  {
   "cell_type": "markdown",
   "metadata": {},
   "source": [
    "**Read_CSV:** Descargamos de https://data.buenosaires.gob.ar/dataset/mapa-oportunidades-comerciales-moc, el dataset de RUBROS COMERCIALES del año 2017. Luego con el comando de Pandas \"pd.read_csv\" indicamos donde se ubica el dataset a ser leido. Una vez leido guardamos la tabla como un DataFrame de Pandas en el elemento \"ZONAS\"; \"RUBROS\"."
   ]
  },
  {
   "cell_type": "code",
   "execution_count": 55,
   "metadata": {
    "ExecuteTime": {
     "end_time": "2019-10-10T03:39:47.564945Z",
     "start_time": "2019-10-10T03:39:47.560063Z"
    },
    "scrolled": true
   },
   "outputs": [
    {
     "data": {
      "text/plain": [
       "'/Users/toto/Documents/UTN 2019/Ciencia de Datos/TP DE LA MATERIA'"
      ]
     },
     "execution_count": 55,
     "metadata": {},
     "output_type": "execute_result"
    }
   ],
   "source": [
    "pwd "
   ]
  },
  {
   "cell_type": "code",
   "execution_count": 56,
   "metadata": {
    "ExecuteTime": {
     "end_time": "2019-10-10T03:40:39.310989Z",
     "start_time": "2019-10-10T03:40:39.284241Z"
    }
   },
   "outputs": [],
   "source": [
    "Zonas = pd.read_csv('zonas.csv', delimiter=';')\n",
    "Rubros = pd.read_csv('rubros.csv', delimiter=';')"
   ]
  },
  {
   "cell_type": "markdown",
   "metadata": {},
   "source": [
    "## **EDA:**  (ANÁLISIS EXPLORATORIO DE DATOS) "
   ]
  },
  {
   "cell_type": "code",
   "execution_count": 57,
   "metadata": {
    "ExecuteTime": {
     "end_time": "2019-10-10T03:40:41.711831Z",
     "start_time": "2019-10-10T03:40:41.697944Z"
    }
   },
   "outputs": [
    {
     "data": {
      "text/html": [
       "<div>\n",
       "<style scoped>\n",
       "    .dataframe tbody tr th:only-of-type {\n",
       "        vertical-align: middle;\n",
       "    }\n",
       "\n",
       "    .dataframe tbody tr th {\n",
       "        vertical-align: top;\n",
       "    }\n",
       "\n",
       "    .dataframe thead th {\n",
       "        text-align: right;\n",
       "    }\n",
       "</style>\n",
       "<table border=\"1\" class=\"dataframe\">\n",
       "  <thead>\n",
       "    <tr style=\"text-align: right;\">\n",
       "      <th></th>\n",
       "      <th>MOC_ZONAS_ID</th>\n",
       "      <th>PK_TIEMPO_ID</th>\n",
       "      <th>POBLACION_FLOTANTE</th>\n",
       "      <th>POBLACION_VIVIENTE</th>\n",
       "      <th>POBLACION_TRABAJADORA</th>\n",
       "      <th>CANTIDAD_HOGARES</th>\n",
       "      <th>PRECIO_PROMEDIO_ALQUILER_LOCAL</th>\n",
       "      <th>PRECIO_MAX_ALQUILER_LOCAL</th>\n",
       "      <th>PRECIO_MIN_ALQUILER_LOCAL</th>\n",
       "      <th>SUPERFICIE_M2_PROMEDIO_ALQUILER</th>\n",
       "      <th>...</th>\n",
       "      <th>RUBRO_MENOS_PREDOMINANTE</th>\n",
       "      <th>PRECIO_PROMEDIO_VENTA_LOCAL</th>\n",
       "      <th>PRECIO_MAX_VENTA_LOCAL</th>\n",
       "      <th>PRECIO_MIN_VENTA_LOCAL</th>\n",
       "      <th>SUPERFICIE_M2_PROMEDIO_VENTA</th>\n",
       "      <th>SUPERFICIE_M2_MAX_VENTA</th>\n",
       "      <th>SUPERFICIE_M2_MIN_VENTA</th>\n",
       "      <th>NIVEL_LOCALES_RUBRO_PREDOMINANTE</th>\n",
       "      <th>NIVEL_LOCALES_RUBRO_MENOS_PREDOMINANTE</th>\n",
       "      <th>FECHA</th>\n",
       "    </tr>\n",
       "  </thead>\n",
       "  <tbody>\n",
       "    <tr>\n",
       "      <th>0</th>\n",
       "      <td>1</td>\n",
       "      <td>591673</td>\n",
       "      <td>3</td>\n",
       "      <td>6726</td>\n",
       "      <td>3732</td>\n",
       "      <td>2465</td>\n",
       "      <td>58128.80</td>\n",
       "      <td>162999.60</td>\n",
       "      <td>26000.00</td>\n",
       "      <td>322.26</td>\n",
       "      <td>...</td>\n",
       "      <td>HELADERIAS</td>\n",
       "      <td>1144213.52</td>\n",
       "      <td>2800000.0</td>\n",
       "      <td>25000.0</td>\n",
       "      <td>4918.06</td>\n",
       "      <td>7857.1</td>\n",
       "      <td>2720.6</td>\n",
       "      <td>1</td>\n",
       "      <td>1</td>\n",
       "      <td>2017-07-01 00:00:00.000</td>\n",
       "    </tr>\n",
       "    <tr>\n",
       "      <th>1</th>\n",
       "      <td>2</td>\n",
       "      <td>591673</td>\n",
       "      <td>5</td>\n",
       "      <td>589</td>\n",
       "      <td>348</td>\n",
       "      <td>255</td>\n",
       "      <td>34854.58</td>\n",
       "      <td>47068.93</td>\n",
       "      <td>20401.40</td>\n",
       "      <td>167.54</td>\n",
       "      <td>...</td>\n",
       "      <td>VETERINARIA</td>\n",
       "      <td>NaN</td>\n",
       "      <td>NaN</td>\n",
       "      <td>NaN</td>\n",
       "      <td>NaN</td>\n",
       "      <td>NaN</td>\n",
       "      <td>NaN</td>\n",
       "      <td>1</td>\n",
       "      <td>1</td>\n",
       "      <td>2017-07-01 00:00:00.000</td>\n",
       "    </tr>\n",
       "    <tr>\n",
       "      <th>2</th>\n",
       "      <td>3</td>\n",
       "      <td>591673</td>\n",
       "      <td>2</td>\n",
       "      <td>10764</td>\n",
       "      <td>5967</td>\n",
       "      <td>3622</td>\n",
       "      <td>10606.00</td>\n",
       "      <td>13311.99</td>\n",
       "      <td>7900.00</td>\n",
       "      <td>120.67</td>\n",
       "      <td>...</td>\n",
       "      <td>INSTITUCIONES DEPORTIVAS</td>\n",
       "      <td>273333.33</td>\n",
       "      <td>550000.0</td>\n",
       "      <td>60000.0</td>\n",
       "      <td>1662.77</td>\n",
       "      <td>2200.0</td>\n",
       "      <td>1166.7</td>\n",
       "      <td>1</td>\n",
       "      <td>1</td>\n",
       "      <td>2017-07-01 00:00:00.000</td>\n",
       "    </tr>\n",
       "    <tr>\n",
       "      <th>3</th>\n",
       "      <td>4</td>\n",
       "      <td>591673</td>\n",
       "      <td>2</td>\n",
       "      <td>6690</td>\n",
       "      <td>3927</td>\n",
       "      <td>2379</td>\n",
       "      <td>25500.53</td>\n",
       "      <td>150000.00</td>\n",
       "      <td>6436.93</td>\n",
       "      <td>154.71</td>\n",
       "      <td>...</td>\n",
       "      <td>VETERINARIA</td>\n",
       "      <td>286636.36</td>\n",
       "      <td>530000.0</td>\n",
       "      <td>90000.0</td>\n",
       "      <td>1416.98</td>\n",
       "      <td>2323.2</td>\n",
       "      <td>679.5</td>\n",
       "      <td>1</td>\n",
       "      <td>1</td>\n",
       "      <td>2017-07-01 00:00:00.000</td>\n",
       "    </tr>\n",
       "    <tr>\n",
       "      <th>4</th>\n",
       "      <td>5</td>\n",
       "      <td>591673</td>\n",
       "      <td>5</td>\n",
       "      <td>623</td>\n",
       "      <td>246</td>\n",
       "      <td>154</td>\n",
       "      <td>28014.00</td>\n",
       "      <td>28014.00</td>\n",
       "      <td>28014.00</td>\n",
       "      <td>304.50</td>\n",
       "      <td>...</td>\n",
       "      <td>INSTITUCIONES DEPORTIVAS</td>\n",
       "      <td>NaN</td>\n",
       "      <td>NaN</td>\n",
       "      <td>NaN</td>\n",
       "      <td>NaN</td>\n",
       "      <td>NaN</td>\n",
       "      <td>NaN</td>\n",
       "      <td>1</td>\n",
       "      <td>1</td>\n",
       "      <td>2017-07-01 00:00:00.000</td>\n",
       "    </tr>\n",
       "  </tbody>\n",
       "</table>\n",
       "<p>5 rows × 25 columns</p>\n",
       "</div>"
      ],
      "text/plain": [
       "   MOC_ZONAS_ID  PK_TIEMPO_ID  POBLACION_FLOTANTE  POBLACION_VIVIENTE  \\\n",
       "0             1        591673                   3                6726   \n",
       "1             2        591673                   5                 589   \n",
       "2             3        591673                   2               10764   \n",
       "3             4        591673                   2                6690   \n",
       "4             5        591673                   5                 623   \n",
       "\n",
       "   POBLACION_TRABAJADORA  CANTIDAD_HOGARES  PRECIO_PROMEDIO_ALQUILER_LOCAL  \\\n",
       "0                   3732              2465                        58128.80   \n",
       "1                    348               255                        34854.58   \n",
       "2                   5967              3622                        10606.00   \n",
       "3                   3927              2379                        25500.53   \n",
       "4                    246               154                        28014.00   \n",
       "\n",
       "   PRECIO_MAX_ALQUILER_LOCAL  PRECIO_MIN_ALQUILER_LOCAL  \\\n",
       "0                  162999.60                   26000.00   \n",
       "1                   47068.93                   20401.40   \n",
       "2                   13311.99                    7900.00   \n",
       "3                  150000.00                    6436.93   \n",
       "4                   28014.00                   28014.00   \n",
       "\n",
       "   SUPERFICIE_M2_PROMEDIO_ALQUILER  ...  RUBRO_MENOS_PREDOMINANTE  \\\n",
       "0                           322.26  ...                HELADERIAS   \n",
       "1                           167.54  ...               VETERINARIA   \n",
       "2                           120.67  ...  INSTITUCIONES DEPORTIVAS   \n",
       "3                           154.71  ...               VETERINARIA   \n",
       "4                           304.50  ...  INSTITUCIONES DEPORTIVAS   \n",
       "\n",
       "   PRECIO_PROMEDIO_VENTA_LOCAL PRECIO_MAX_VENTA_LOCAL  PRECIO_MIN_VENTA_LOCAL  \\\n",
       "0                   1144213.52              2800000.0                 25000.0   \n",
       "1                          NaN                    NaN                     NaN   \n",
       "2                    273333.33               550000.0                 60000.0   \n",
       "3                    286636.36               530000.0                 90000.0   \n",
       "4                          NaN                    NaN                     NaN   \n",
       "\n",
       "   SUPERFICIE_M2_PROMEDIO_VENTA SUPERFICIE_M2_MAX_VENTA  \\\n",
       "0                       4918.06                  7857.1   \n",
       "1                           NaN                     NaN   \n",
       "2                       1662.77                  2200.0   \n",
       "3                       1416.98                  2323.2   \n",
       "4                           NaN                     NaN   \n",
       "\n",
       "   SUPERFICIE_M2_MIN_VENTA  NIVEL_LOCALES_RUBRO_PREDOMINANTE  \\\n",
       "0                   2720.6                                 1   \n",
       "1                      NaN                                 1   \n",
       "2                   1166.7                                 1   \n",
       "3                    679.5                                 1   \n",
       "4                      NaN                                 1   \n",
       "\n",
       "   NIVEL_LOCALES_RUBRO_MENOS_PREDOMINANTE                    FECHA  \n",
       "0                                       1  2017-07-01 00:00:00.000  \n",
       "1                                       1  2017-07-01 00:00:00.000  \n",
       "2                                       1  2017-07-01 00:00:00.000  \n",
       "3                                       1  2017-07-01 00:00:00.000  \n",
       "4                                       1  2017-07-01 00:00:00.000  \n",
       "\n",
       "[5 rows x 25 columns]"
      ]
     },
     "execution_count": 57,
     "metadata": {},
     "output_type": "execute_result"
    }
   ],
   "source": [
    "Zonas.head()"
   ]
  },
  {
   "cell_type": "code",
   "execution_count": 58,
   "metadata": {
    "ExecuteTime": {
     "end_time": "2019-10-10T03:40:42.661605Z",
     "start_time": "2019-10-10T03:40:42.646730Z"
    }
   },
   "outputs": [
    {
     "data": {
      "text/html": [
       "<div>\n",
       "<style scoped>\n",
       "    .dataframe tbody tr th:only-of-type {\n",
       "        vertical-align: middle;\n",
       "    }\n",
       "\n",
       "    .dataframe tbody tr th {\n",
       "        vertical-align: top;\n",
       "    }\n",
       "\n",
       "    .dataframe thead th {\n",
       "        text-align: right;\n",
       "    }\n",
       "</style>\n",
       "<table border=\"1\" class=\"dataframe\">\n",
       "  <thead>\n",
       "    <tr style=\"text-align: right;\">\n",
       "      <th></th>\n",
       "      <th>MOC_RUBROS_ID</th>\n",
       "      <th>MOC_ZONAS_ID</th>\n",
       "      <th>RUBRO</th>\n",
       "      <th>NIVEL_RIESGO</th>\n",
       "      <th>FACTURACION_PROM_ACTUAL</th>\n",
       "      <th>INDICE_CRECIMIENTO</th>\n",
       "      <th>INDICE_ESTABILIDAD</th>\n",
       "      <th>INDICE_APERTURA</th>\n",
       "      <th>INDICE_CIERRE</th>\n",
       "      <th>INDICE_SUPERVIVENCIA</th>\n",
       "      <th>...</th>\n",
       "      <th>SUP_MENOS_1</th>\n",
       "      <th>SUP_ENTRE_1_Y_2</th>\n",
       "      <th>SUP_ENTRE_2_Y_3</th>\n",
       "      <th>SUP_ENTRE_3_Y_4</th>\n",
       "      <th>SUP_ENTRE_4_Y_5</th>\n",
       "      <th>SUP_MAS_5</th>\n",
       "      <th>FACTURACION_PROM_ANIO_ANT</th>\n",
       "      <th>NIVEL_LOCALES</th>\n",
       "      <th>INDICE_CIERRE_ANIO_ANT</th>\n",
       "      <th>INDICE_APERTURA_ANIO_ANT</th>\n",
       "    </tr>\n",
       "  </thead>\n",
       "  <tbody>\n",
       "    <tr>\n",
       "      <th>0</th>\n",
       "      <td>1</td>\n",
       "      <td>1</td>\n",
       "      <td>INSUMOS PARA EL HOGAR</td>\n",
       "      <td>5.0</td>\n",
       "      <td>1.0</td>\n",
       "      <td>3.0</td>\n",
       "      <td>1.0</td>\n",
       "      <td>0.0</td>\n",
       "      <td>16.67</td>\n",
       "      <td>0.0</td>\n",
       "      <td>...</td>\n",
       "      <td>0.0</td>\n",
       "      <td>10.00</td>\n",
       "      <td>45.00</td>\n",
       "      <td>15.00</td>\n",
       "      <td>0.00</td>\n",
       "      <td>30.00</td>\n",
       "      <td>2.0</td>\n",
       "      <td>1.0</td>\n",
       "      <td>16.67</td>\n",
       "      <td>16.67</td>\n",
       "    </tr>\n",
       "    <tr>\n",
       "      <th>1</th>\n",
       "      <td>2</td>\n",
       "      <td>2</td>\n",
       "      <td>INSUMOS PARA EL HOGAR</td>\n",
       "      <td>NaN</td>\n",
       "      <td>NaN</td>\n",
       "      <td>NaN</td>\n",
       "      <td>NaN</td>\n",
       "      <td>0.0</td>\n",
       "      <td>0.00</td>\n",
       "      <td>NaN</td>\n",
       "      <td>...</td>\n",
       "      <td>NaN</td>\n",
       "      <td>NaN</td>\n",
       "      <td>NaN</td>\n",
       "      <td>NaN</td>\n",
       "      <td>NaN</td>\n",
       "      <td>NaN</td>\n",
       "      <td>NaN</td>\n",
       "      <td>NaN</td>\n",
       "      <td>NaN</td>\n",
       "      <td>NaN</td>\n",
       "    </tr>\n",
       "    <tr>\n",
       "      <th>2</th>\n",
       "      <td>3</td>\n",
       "      <td>3</td>\n",
       "      <td>INSUMOS PARA EL HOGAR</td>\n",
       "      <td>1.0</td>\n",
       "      <td>4.0</td>\n",
       "      <td>4.0</td>\n",
       "      <td>2.0</td>\n",
       "      <td>0.0</td>\n",
       "      <td>0.00</td>\n",
       "      <td>100.0</td>\n",
       "      <td>...</td>\n",
       "      <td>0.0</td>\n",
       "      <td>18.18</td>\n",
       "      <td>27.27</td>\n",
       "      <td>27.27</td>\n",
       "      <td>27.27</td>\n",
       "      <td>0.00</td>\n",
       "      <td>4.0</td>\n",
       "      <td>1.0</td>\n",
       "      <td>NaN</td>\n",
       "      <td>33.33</td>\n",
       "    </tr>\n",
       "    <tr>\n",
       "      <th>3</th>\n",
       "      <td>4</td>\n",
       "      <td>4</td>\n",
       "      <td>INSUMOS PARA EL HOGAR</td>\n",
       "      <td>1.0</td>\n",
       "      <td>2.0</td>\n",
       "      <td>4.0</td>\n",
       "      <td>4.0</td>\n",
       "      <td>0.0</td>\n",
       "      <td>0.00</td>\n",
       "      <td>100.0</td>\n",
       "      <td>...</td>\n",
       "      <td>0.0</td>\n",
       "      <td>0.00</td>\n",
       "      <td>0.00</td>\n",
       "      <td>14.29</td>\n",
       "      <td>0.00</td>\n",
       "      <td>85.71</td>\n",
       "      <td>3.0</td>\n",
       "      <td>1.0</td>\n",
       "      <td>NaN</td>\n",
       "      <td>NaN</td>\n",
       "    </tr>\n",
       "    <tr>\n",
       "      <th>4</th>\n",
       "      <td>5</td>\n",
       "      <td>5</td>\n",
       "      <td>INSUMOS PARA EL HOGAR</td>\n",
       "      <td>NaN</td>\n",
       "      <td>NaN</td>\n",
       "      <td>NaN</td>\n",
       "      <td>NaN</td>\n",
       "      <td>0.0</td>\n",
       "      <td>0.00</td>\n",
       "      <td>NaN</td>\n",
       "      <td>...</td>\n",
       "      <td>NaN</td>\n",
       "      <td>NaN</td>\n",
       "      <td>NaN</td>\n",
       "      <td>NaN</td>\n",
       "      <td>NaN</td>\n",
       "      <td>NaN</td>\n",
       "      <td>NaN</td>\n",
       "      <td>NaN</td>\n",
       "      <td>NaN</td>\n",
       "      <td>NaN</td>\n",
       "    </tr>\n",
       "  </tbody>\n",
       "</table>\n",
       "<p>5 rows × 22 columns</p>\n",
       "</div>"
      ],
      "text/plain": [
       "   MOC_RUBROS_ID  MOC_ZONAS_ID                  RUBRO  NIVEL_RIESGO  \\\n",
       "0              1             1  INSUMOS PARA EL HOGAR           5.0   \n",
       "1              2             2  INSUMOS PARA EL HOGAR           NaN   \n",
       "2              3             3  INSUMOS PARA EL HOGAR           1.0   \n",
       "3              4             4  INSUMOS PARA EL HOGAR           1.0   \n",
       "4              5             5  INSUMOS PARA EL HOGAR           NaN   \n",
       "\n",
       "   FACTURACION_PROM_ACTUAL  INDICE_CRECIMIENTO  INDICE_ESTABILIDAD  \\\n",
       "0                      1.0                 3.0                 1.0   \n",
       "1                      NaN                 NaN                 NaN   \n",
       "2                      4.0                 4.0                 2.0   \n",
       "3                      2.0                 4.0                 4.0   \n",
       "4                      NaN                 NaN                 NaN   \n",
       "\n",
       "   INDICE_APERTURA  INDICE_CIERRE  INDICE_SUPERVIVENCIA  ...  SUP_MENOS_1  \\\n",
       "0              0.0          16.67                   0.0  ...          0.0   \n",
       "1              0.0           0.00                   NaN  ...          NaN   \n",
       "2              0.0           0.00                 100.0  ...          0.0   \n",
       "3              0.0           0.00                 100.0  ...          0.0   \n",
       "4              0.0           0.00                   NaN  ...          NaN   \n",
       "\n",
       "   SUP_ENTRE_1_Y_2  SUP_ENTRE_2_Y_3  SUP_ENTRE_3_Y_4  SUP_ENTRE_4_Y_5  \\\n",
       "0            10.00            45.00            15.00             0.00   \n",
       "1              NaN              NaN              NaN              NaN   \n",
       "2            18.18            27.27            27.27            27.27   \n",
       "3             0.00             0.00            14.29             0.00   \n",
       "4              NaN              NaN              NaN              NaN   \n",
       "\n",
       "   SUP_MAS_5  FACTURACION_PROM_ANIO_ANT  NIVEL_LOCALES  \\\n",
       "0      30.00                        2.0            1.0   \n",
       "1        NaN                        NaN            NaN   \n",
       "2       0.00                        4.0            1.0   \n",
       "3      85.71                        3.0            1.0   \n",
       "4        NaN                        NaN            NaN   \n",
       "\n",
       "   INDICE_CIERRE_ANIO_ANT  INDICE_APERTURA_ANIO_ANT  \n",
       "0                   16.67                     16.67  \n",
       "1                     NaN                       NaN  \n",
       "2                     NaN                     33.33  \n",
       "3                     NaN                       NaN  \n",
       "4                     NaN                       NaN  \n",
       "\n",
       "[5 rows x 22 columns]"
      ]
     },
     "execution_count": 58,
     "metadata": {},
     "output_type": "execute_result"
    }
   ],
   "source": [
    "Rubros.head(5)"
   ]
  },
  {
   "cell_type": "code",
   "execution_count": 59,
   "metadata": {
    "ExecuteTime": {
     "end_time": "2019-10-10T03:40:45.763350Z",
     "start_time": "2019-10-10T03:40:45.761036Z"
    }
   },
   "outputs": [
    {
     "data": {
      "text/plain": [
       "(161, 25)"
      ]
     },
     "execution_count": 59,
     "metadata": {},
     "output_type": "execute_result"
    }
   ],
   "source": [
    "Zonas.shape"
   ]
  },
  {
   "cell_type": "code",
   "execution_count": 60,
   "metadata": {
    "ExecuteTime": {
     "end_time": "2019-10-10T03:40:46.083551Z",
     "start_time": "2019-10-10T03:40:46.081259Z"
    },
    "scrolled": true
   },
   "outputs": [
    {
     "data": {
      "text/plain": [
       "(2898, 22)"
      ]
     },
     "execution_count": 60,
     "metadata": {},
     "output_type": "execute_result"
    }
   ],
   "source": [
    "Rubros.shape"
   ]
  },
  {
   "cell_type": "markdown",
   "metadata": {},
   "source": [
    "**LIMPIEZA DE LOS DATOS**"
   ]
  },
  {
   "cell_type": "code",
   "execution_count": 61,
   "metadata": {
    "ExecuteTime": {
     "end_time": "2019-10-10T03:42:56.103219Z",
     "start_time": "2019-10-10T03:42:56.093408Z"
    }
   },
   "outputs": [
    {
     "data": {
      "text/plain": [
       "MOC_ZONAS_ID                                 0\n",
       "PK_TIEMPO_ID                                 0\n",
       "POBLACION_FLOTANTE                           0\n",
       "POBLACION_VIVIENTE                           0\n",
       "POBLACION_TRABAJADORA                        0\n",
       "CANTIDAD_HOGARES                             0\n",
       "PRECIO_PROMEDIO_ALQUILER_LOCAL               7\n",
       "PRECIO_MAX_ALQUILER_LOCAL                    7\n",
       "PRECIO_MIN_ALQUILER_LOCAL                    7\n",
       "SUPERFICIE_M2_PROMEDIO_ALQUILER              7\n",
       "SUPERFICIE_M2_MAX_ALQUILER                   7\n",
       "SUPERFICIE_M2_MIN_ALQUILER                   7\n",
       "RUBRO_PREDOMINANTE                           0\n",
       "FACTURACION_PROM_RUBRO_PREDOMINANTE          0\n",
       "FACTURACION_PROM_RUBRO_MENOS_PREDOMINANTE    0\n",
       "RUBRO_MENOS_PREDOMINANTE                     0\n",
       "PRECIO_PROMEDIO_VENTA_LOCAL                  8\n",
       "PRECIO_MAX_VENTA_LOCAL                       8\n",
       "PRECIO_MIN_VENTA_LOCAL                       8\n",
       "SUPERFICIE_M2_PROMEDIO_VENTA                 8\n",
       "SUPERFICIE_M2_MAX_VENTA                      8\n",
       "SUPERFICIE_M2_MIN_VENTA                      8\n",
       "NIVEL_LOCALES_RUBRO_PREDOMINANTE             0\n",
       "NIVEL_LOCALES_RUBRO_MENOS_PREDOMINANTE       0\n",
       "FECHA                                        0\n",
       "dtype: int64"
      ]
     },
     "execution_count": 61,
     "metadata": {},
     "output_type": "execute_result"
    }
   ],
   "source": [
    "Zonas_nulls = Zonas.isnull().sum()\n",
    "Zonas_nulls"
   ]
  },
  {
   "cell_type": "code",
   "execution_count": 62,
   "metadata": {
    "ExecuteTime": {
     "end_time": "2019-10-10T03:42:56.471053Z",
     "start_time": "2019-10-10T03:42:56.229032Z"
    }
   },
   "outputs": [
    {
     "data": {
      "text/html": [
       "<div>\n",
       "<style scoped>\n",
       "    .dataframe tbody tr th:only-of-type {\n",
       "        vertical-align: middle;\n",
       "    }\n",
       "\n",
       "    .dataframe tbody tr th {\n",
       "        vertical-align: top;\n",
       "    }\n",
       "\n",
       "    .dataframe thead th {\n",
       "        text-align: right;\n",
       "    }\n",
       "</style>\n",
       "<table border=\"1\" class=\"dataframe\">\n",
       "  <thead>\n",
       "    <tr style=\"text-align: right;\">\n",
       "      <th></th>\n",
       "      <th>Total</th>\n",
       "      <th>Percent</th>\n",
       "    </tr>\n",
       "  </thead>\n",
       "  <tbody>\n",
       "    <tr>\n",
       "      <th>SUPERFICIE_M2_MIN_VENTA</th>\n",
       "      <td>8</td>\n",
       "      <td>0.05</td>\n",
       "    </tr>\n",
       "    <tr>\n",
       "      <th>SUPERFICIE_M2_MAX_VENTA</th>\n",
       "      <td>8</td>\n",
       "      <td>0.05</td>\n",
       "    </tr>\n",
       "    <tr>\n",
       "      <th>SUPERFICIE_M2_PROMEDIO_VENTA</th>\n",
       "      <td>8</td>\n",
       "      <td>0.05</td>\n",
       "    </tr>\n",
       "    <tr>\n",
       "      <th>PRECIO_MIN_VENTA_LOCAL</th>\n",
       "      <td>8</td>\n",
       "      <td>0.05</td>\n",
       "    </tr>\n",
       "    <tr>\n",
       "      <th>PRECIO_MAX_VENTA_LOCAL</th>\n",
       "      <td>8</td>\n",
       "      <td>0.05</td>\n",
       "    </tr>\n",
       "    <tr>\n",
       "      <th>PRECIO_PROMEDIO_VENTA_LOCAL</th>\n",
       "      <td>8</td>\n",
       "      <td>0.05</td>\n",
       "    </tr>\n",
       "    <tr>\n",
       "      <th>PRECIO_MAX_ALQUILER_LOCAL</th>\n",
       "      <td>7</td>\n",
       "      <td>0.04</td>\n",
       "    </tr>\n",
       "    <tr>\n",
       "      <th>SUPERFICIE_M2_MIN_ALQUILER</th>\n",
       "      <td>7</td>\n",
       "      <td>0.04</td>\n",
       "    </tr>\n",
       "    <tr>\n",
       "      <th>PRECIO_MIN_ALQUILER_LOCAL</th>\n",
       "      <td>7</td>\n",
       "      <td>0.04</td>\n",
       "    </tr>\n",
       "    <tr>\n",
       "      <th>PRECIO_PROMEDIO_ALQUILER_LOCAL</th>\n",
       "      <td>7</td>\n",
       "      <td>0.04</td>\n",
       "    </tr>\n",
       "    <tr>\n",
       "      <th>SUPERFICIE_M2_PROMEDIO_ALQUILER</th>\n",
       "      <td>7</td>\n",
       "      <td>0.04</td>\n",
       "    </tr>\n",
       "    <tr>\n",
       "      <th>SUPERFICIE_M2_MAX_ALQUILER</th>\n",
       "      <td>7</td>\n",
       "      <td>0.04</td>\n",
       "    </tr>\n",
       "  </tbody>\n",
       "</table>\n",
       "</div>"
      ],
      "text/plain": [
       "                                 Total  Percent\n",
       "SUPERFICIE_M2_MIN_VENTA              8     0.05\n",
       "SUPERFICIE_M2_MAX_VENTA              8     0.05\n",
       "SUPERFICIE_M2_PROMEDIO_VENTA         8     0.05\n",
       "PRECIO_MIN_VENTA_LOCAL               8     0.05\n",
       "PRECIO_MAX_VENTA_LOCAL               8     0.05\n",
       "PRECIO_PROMEDIO_VENTA_LOCAL          8     0.05\n",
       "PRECIO_MAX_ALQUILER_LOCAL            7     0.04\n",
       "SUPERFICIE_M2_MIN_ALQUILER           7     0.04\n",
       "PRECIO_MIN_ALQUILER_LOCAL            7     0.04\n",
       "PRECIO_PROMEDIO_ALQUILER_LOCAL       7     0.04\n",
       "SUPERFICIE_M2_PROMEDIO_ALQUILER      7     0.04\n",
       "SUPERFICIE_M2_MAX_ALQUILER           7     0.04"
      ]
     },
     "execution_count": 62,
     "metadata": {},
     "output_type": "execute_result"
    }
   ],
   "source": [
    "total_Zonas = Zonas.isnull().sum().sort_values(ascending=False)\n",
    "percent_Zonas = (Zonas.isnull().sum()/Zonas.isnull().count()).sort_values(ascending=False)\n",
    "missing_data_Zonas = np.round(pd.concat([total_Zonas, percent_Zonas], axis=1, keys=['Total', 'Percent']),2)\n",
    "missing_data_Zonas.head(12)"
   ]
  },
  {
   "cell_type": "code",
   "execution_count": 63,
   "metadata": {
    "ExecuteTime": {
     "end_time": "2019-10-10T03:42:56.574164Z",
     "start_time": "2019-10-10T03:42:56.570093Z"
    }
   },
   "outputs": [
    {
     "data": {
      "text/plain": [
       "MOC_RUBROS_ID                    False\n",
       "MOC_ZONAS_ID                     False\n",
       "RUBRO                            False\n",
       "NIVEL_RIESGO                      True\n",
       "FACTURACION_PROM_ACTUAL           True\n",
       "INDICE_CRECIMIENTO                True\n",
       "INDICE_ESTABILIDAD                True\n",
       "INDICE_APERTURA                  False\n",
       "INDICE_CIERRE                    False\n",
       "INDICE_SUPERVIVENCIA              True\n",
       "IND_AP_ACT_VS_IND_AP_ANIO_ANT     True\n",
       "IND_CL_ACT_VS_IND_CL_ANIO_ANT     True\n",
       "SUP_MENOS_1                       True\n",
       "SUP_ENTRE_1_Y_2                   True\n",
       "SUP_ENTRE_2_Y_3                   True\n",
       "SUP_ENTRE_3_Y_4                   True\n",
       "SUP_ENTRE_4_Y_5                   True\n",
       "SUP_MAS_5                         True\n",
       "FACTURACION_PROM_ANIO_ANT         True\n",
       "NIVEL_LOCALES                     True\n",
       "INDICE_CIERRE_ANIO_ANT            True\n",
       "INDICE_APERTURA_ANIO_ANT          True\n",
       "dtype: bool"
      ]
     },
     "execution_count": 63,
     "metadata": {},
     "output_type": "execute_result"
    }
   ],
   "source": [
    "Rubros_nulls = Rubros.isnull().any()\n",
    "Rubros_nulls"
   ]
  },
  {
   "cell_type": "code",
   "execution_count": 64,
   "metadata": {
    "ExecuteTime": {
     "end_time": "2019-10-10T03:42:56.684276Z",
     "start_time": "2019-10-10T03:42:56.672495Z"
    }
   },
   "outputs": [
    {
     "data": {
      "text/html": [
       "<div>\n",
       "<style scoped>\n",
       "    .dataframe tbody tr th:only-of-type {\n",
       "        vertical-align: middle;\n",
       "    }\n",
       "\n",
       "    .dataframe tbody tr th {\n",
       "        vertical-align: top;\n",
       "    }\n",
       "\n",
       "    .dataframe thead th {\n",
       "        text-align: right;\n",
       "    }\n",
       "</style>\n",
       "<table border=\"1\" class=\"dataframe\">\n",
       "  <thead>\n",
       "    <tr style=\"text-align: right;\">\n",
       "      <th></th>\n",
       "      <th>Total</th>\n",
       "      <th>Percent</th>\n",
       "    </tr>\n",
       "  </thead>\n",
       "  <tbody>\n",
       "    <tr>\n",
       "      <th>INDICE_CIERRE_ANIO_ANT</th>\n",
       "      <td>1510</td>\n",
       "      <td>0.52</td>\n",
       "    </tr>\n",
       "    <tr>\n",
       "      <th>IND_CL_ACT_VS_IND_CL_ANIO_ANT</th>\n",
       "      <td>1502</td>\n",
       "      <td>0.52</td>\n",
       "    </tr>\n",
       "    <tr>\n",
       "      <th>INDICE_APERTURA_ANIO_ANT</th>\n",
       "      <td>832</td>\n",
       "      <td>0.29</td>\n",
       "    </tr>\n",
       "    <tr>\n",
       "      <th>IND_AP_ACT_VS_IND_AP_ANIO_ANT</th>\n",
       "      <td>831</td>\n",
       "      <td>0.29</td>\n",
       "    </tr>\n",
       "    <tr>\n",
       "      <th>INDICE_SUPERVIVENCIA</th>\n",
       "      <td>360</td>\n",
       "      <td>0.12</td>\n",
       "    </tr>\n",
       "    <tr>\n",
       "      <th>INDICE_CRECIMIENTO</th>\n",
       "      <td>186</td>\n",
       "      <td>0.06</td>\n",
       "    </tr>\n",
       "    <tr>\n",
       "      <th>FACTURACION_PROM_ACTUAL</th>\n",
       "      <td>170</td>\n",
       "      <td>0.06</td>\n",
       "    </tr>\n",
       "    <tr>\n",
       "      <th>NIVEL_LOCALES</th>\n",
       "      <td>155</td>\n",
       "      <td>0.05</td>\n",
       "    </tr>\n",
       "    <tr>\n",
       "      <th>FACTURACION_PROM_ANIO_ANT</th>\n",
       "      <td>154</td>\n",
       "      <td>0.05</td>\n",
       "    </tr>\n",
       "    <tr>\n",
       "      <th>INDICE_ESTABILIDAD</th>\n",
       "      <td>149</td>\n",
       "      <td>0.05</td>\n",
       "    </tr>\n",
       "    <tr>\n",
       "      <th>NIVEL_RIESGO</th>\n",
       "      <td>149</td>\n",
       "      <td>0.05</td>\n",
       "    </tr>\n",
       "    <tr>\n",
       "      <th>SUP_MAS_5</th>\n",
       "      <td>113</td>\n",
       "      <td>0.04</td>\n",
       "    </tr>\n",
       "    <tr>\n",
       "      <th>SUP_ENTRE_3_Y_4</th>\n",
       "      <td>113</td>\n",
       "      <td>0.04</td>\n",
       "    </tr>\n",
       "    <tr>\n",
       "      <th>SUP_ENTRE_2_Y_3</th>\n",
       "      <td>113</td>\n",
       "      <td>0.04</td>\n",
       "    </tr>\n",
       "    <tr>\n",
       "      <th>SUP_ENTRE_1_Y_2</th>\n",
       "      <td>113</td>\n",
       "      <td>0.04</td>\n",
       "    </tr>\n",
       "    <tr>\n",
       "      <th>SUP_MENOS_1</th>\n",
       "      <td>113</td>\n",
       "      <td>0.04</td>\n",
       "    </tr>\n",
       "    <tr>\n",
       "      <th>SUP_ENTRE_4_Y_5</th>\n",
       "      <td>113</td>\n",
       "      <td>0.04</td>\n",
       "    </tr>\n",
       "  </tbody>\n",
       "</table>\n",
       "</div>"
      ],
      "text/plain": [
       "                               Total  Percent\n",
       "INDICE_CIERRE_ANIO_ANT          1510     0.52\n",
       "IND_CL_ACT_VS_IND_CL_ANIO_ANT   1502     0.52\n",
       "INDICE_APERTURA_ANIO_ANT         832     0.29\n",
       "IND_AP_ACT_VS_IND_AP_ANIO_ANT    831     0.29\n",
       "INDICE_SUPERVIVENCIA             360     0.12\n",
       "INDICE_CRECIMIENTO               186     0.06\n",
       "FACTURACION_PROM_ACTUAL          170     0.06\n",
       "NIVEL_LOCALES                    155     0.05\n",
       "FACTURACION_PROM_ANIO_ANT        154     0.05\n",
       "INDICE_ESTABILIDAD               149     0.05\n",
       "NIVEL_RIESGO                     149     0.05\n",
       "SUP_MAS_5                        113     0.04\n",
       "SUP_ENTRE_3_Y_4                  113     0.04\n",
       "SUP_ENTRE_2_Y_3                  113     0.04\n",
       "SUP_ENTRE_1_Y_2                  113     0.04\n",
       "SUP_MENOS_1                      113     0.04\n",
       "SUP_ENTRE_4_Y_5                  113     0.04"
      ]
     },
     "execution_count": 64,
     "metadata": {},
     "output_type": "execute_result"
    }
   ],
   "source": [
    "total_Rubro = Rubros.isnull().sum().sort_values(ascending=False)\n",
    "percent_Rubro = (Rubros.isnull().sum()/Rubros.isnull().count()).sort_values(ascending=False)\n",
    "missing_data_Rubro = np.round(pd.concat([total_Rubro, percent_Rubro], axis=1, keys=['Total', 'Percent']),2)\n",
    "missing_data_Rubro.head(17)"
   ]
  },
  {
   "cell_type": "code",
   "execution_count": 65,
   "metadata": {
    "ExecuteTime": {
     "end_time": "2019-10-10T03:42:57.759259Z",
     "start_time": "2019-10-10T03:42:57.756605Z"
    }
   },
   "outputs": [
    {
     "data": {
      "text/plain": [
       "Index(['MOC_ZONAS_ID', 'PK_TIEMPO_ID', 'POBLACION_FLOTANTE',\n",
       "       'POBLACION_VIVIENTE', 'POBLACION_TRABAJADORA', 'CANTIDAD_HOGARES',\n",
       "       'PRECIO_PROMEDIO_ALQUILER_LOCAL', 'PRECIO_MAX_ALQUILER_LOCAL',\n",
       "       'PRECIO_MIN_ALQUILER_LOCAL', 'SUPERFICIE_M2_PROMEDIO_ALQUILER',\n",
       "       'SUPERFICIE_M2_MAX_ALQUILER', 'SUPERFICIE_M2_MIN_ALQUILER',\n",
       "       'RUBRO_PREDOMINANTE', 'FACTURACION_PROM_RUBRO_PREDOMINANTE',\n",
       "       'FACTURACION_PROM_RUBRO_MENOS_PREDOMINANTE', 'RUBRO_MENOS_PREDOMINANTE',\n",
       "       'PRECIO_PROMEDIO_VENTA_LOCAL', 'PRECIO_MAX_VENTA_LOCAL',\n",
       "       'PRECIO_MIN_VENTA_LOCAL', 'SUPERFICIE_M2_PROMEDIO_VENTA',\n",
       "       'SUPERFICIE_M2_MAX_VENTA', 'SUPERFICIE_M2_MIN_VENTA',\n",
       "       'NIVEL_LOCALES_RUBRO_PREDOMINANTE',\n",
       "       'NIVEL_LOCALES_RUBRO_MENOS_PREDOMINANTE', 'FECHA'],\n",
       "      dtype='object')"
      ]
     },
     "execution_count": 65,
     "metadata": {},
     "output_type": "execute_result"
    }
   ],
   "source": [
    "Zonas.columns"
   ]
  },
  {
   "cell_type": "code",
   "execution_count": 66,
   "metadata": {
    "ExecuteTime": {
     "end_time": "2019-10-10T03:42:59.672962Z",
     "start_time": "2019-10-10T03:42:59.669980Z"
    }
   },
   "outputs": [
    {
     "data": {
      "text/plain": [
       "Index(['MOC_RUBROS_ID', 'MOC_ZONAS_ID', 'RUBRO', 'NIVEL_RIESGO',\n",
       "       'FACTURACION_PROM_ACTUAL', 'INDICE_CRECIMIENTO', 'INDICE_ESTABILIDAD',\n",
       "       'INDICE_APERTURA', 'INDICE_CIERRE', 'INDICE_SUPERVIVENCIA',\n",
       "       'IND_AP_ACT_VS_IND_AP_ANIO_ANT', 'IND_CL_ACT_VS_IND_CL_ANIO_ANT',\n",
       "       'SUP_MENOS_1', 'SUP_ENTRE_1_Y_2', 'SUP_ENTRE_2_Y_3', 'SUP_ENTRE_3_Y_4',\n",
       "       'SUP_ENTRE_4_Y_5', 'SUP_MAS_5', 'FACTURACION_PROM_ANIO_ANT',\n",
       "       'NIVEL_LOCALES', 'INDICE_CIERRE_ANIO_ANT', 'INDICE_APERTURA_ANIO_ANT'],\n",
       "      dtype='object')"
      ]
     },
     "execution_count": 66,
     "metadata": {},
     "output_type": "execute_result"
    }
   ],
   "source": [
    "Rubros.columns"
   ]
  },
  {
   "cell_type": "code",
   "execution_count": 67,
   "metadata": {
    "ExecuteTime": {
     "end_time": "2019-10-10T03:43:00.182319Z",
     "start_time": "2019-10-10T03:43:00.136089Z"
    }
   },
   "outputs": [
    {
     "data": {
      "text/html": [
       "<div>\n",
       "<style scoped>\n",
       "    .dataframe tbody tr th:only-of-type {\n",
       "        vertical-align: middle;\n",
       "    }\n",
       "\n",
       "    .dataframe tbody tr th {\n",
       "        vertical-align: top;\n",
       "    }\n",
       "\n",
       "    .dataframe thead th {\n",
       "        text-align: right;\n",
       "    }\n",
       "</style>\n",
       "<table border=\"1\" class=\"dataframe\">\n",
       "  <thead>\n",
       "    <tr style=\"text-align: right;\">\n",
       "      <th></th>\n",
       "      <th>MOC_ZONAS_ID</th>\n",
       "      <th>PK_TIEMPO_ID</th>\n",
       "      <th>POBLACION_FLOTANTE</th>\n",
       "      <th>POBLACION_VIVIENTE</th>\n",
       "      <th>POBLACION_TRABAJADORA</th>\n",
       "      <th>CANTIDAD_HOGARES</th>\n",
       "      <th>PRECIO_PROMEDIO_ALQUILER_LOCAL</th>\n",
       "      <th>PRECIO_MAX_ALQUILER_LOCAL</th>\n",
       "      <th>PRECIO_MIN_ALQUILER_LOCAL</th>\n",
       "      <th>SUPERFICIE_M2_PROMEDIO_ALQUILER</th>\n",
       "      <th>...</th>\n",
       "      <th>FACTURACION_PROM_RUBRO_PREDOMINANTE</th>\n",
       "      <th>FACTURACION_PROM_RUBRO_MENOS_PREDOMINANTE</th>\n",
       "      <th>PRECIO_PROMEDIO_VENTA_LOCAL</th>\n",
       "      <th>PRECIO_MAX_VENTA_LOCAL</th>\n",
       "      <th>PRECIO_MIN_VENTA_LOCAL</th>\n",
       "      <th>SUPERFICIE_M2_PROMEDIO_VENTA</th>\n",
       "      <th>SUPERFICIE_M2_MAX_VENTA</th>\n",
       "      <th>SUPERFICIE_M2_MIN_VENTA</th>\n",
       "      <th>NIVEL_LOCALES_RUBRO_PREDOMINANTE</th>\n",
       "      <th>NIVEL_LOCALES_RUBRO_MENOS_PREDOMINANTE</th>\n",
       "    </tr>\n",
       "  </thead>\n",
       "  <tbody>\n",
       "    <tr>\n",
       "      <th>count</th>\n",
       "      <td>161.000000</td>\n",
       "      <td>161.0</td>\n",
       "      <td>161.000000</td>\n",
       "      <td>161.000000</td>\n",
       "      <td>161.000000</td>\n",
       "      <td>161.000000</td>\n",
       "      <td>154.000000</td>\n",
       "      <td>1.540000e+02</td>\n",
       "      <td>154.000000</td>\n",
       "      <td>154.000000</td>\n",
       "      <td>...</td>\n",
       "      <td>161.000000</td>\n",
       "      <td>161.00000</td>\n",
       "      <td>1.530000e+02</td>\n",
       "      <td>1.530000e+02</td>\n",
       "      <td>153.000000</td>\n",
       "      <td>153.000000</td>\n",
       "      <td>153.000000</td>\n",
       "      <td>153.000000</td>\n",
       "      <td>161.000000</td>\n",
       "      <td>161.000000</td>\n",
       "    </tr>\n",
       "    <tr>\n",
       "      <th>mean</th>\n",
       "      <td>81.000000</td>\n",
       "      <td>591673.0</td>\n",
       "      <td>2.347826</td>\n",
       "      <td>17951.248447</td>\n",
       "      <td>10273.881988</td>\n",
       "      <td>7143.689441</td>\n",
       "      <td>27001.372922</td>\n",
       "      <td>1.304347e+05</td>\n",
       "      <td>4757.462468</td>\n",
       "      <td>245.980714</td>\n",
       "      <td>...</td>\n",
       "      <td>4.422360</td>\n",
       "      <td>2.21118</td>\n",
       "      <td>3.420876e+05</td>\n",
       "      <td>1.390293e+06</td>\n",
       "      <td>65788.882353</td>\n",
       "      <td>2508.841830</td>\n",
       "      <td>8489.986144</td>\n",
       "      <td>1022.924118</td>\n",
       "      <td>2.049689</td>\n",
       "      <td>1.583851</td>\n",
       "    </tr>\n",
       "    <tr>\n",
       "      <th>std</th>\n",
       "      <td>46.620811</td>\n",
       "      <td>0.0</td>\n",
       "      <td>0.976351</td>\n",
       "      <td>8673.621310</td>\n",
       "      <td>5105.533507</td>\n",
       "      <td>3830.758489</td>\n",
       "      <td>16008.828191</td>\n",
       "      <td>1.775241e+05</td>\n",
       "      <td>4675.978131</td>\n",
       "      <td>112.695552</td>\n",
       "      <td>...</td>\n",
       "      <td>1.034648</td>\n",
       "      <td>1.56289</td>\n",
       "      <td>2.085541e+05</td>\n",
       "      <td>1.591449e+06</td>\n",
       "      <td>69898.529025</td>\n",
       "      <td>1281.047189</td>\n",
       "      <td>13616.545958</td>\n",
       "      <td>618.141516</td>\n",
       "      <td>1.192693</td>\n",
       "      <td>1.170251</td>\n",
       "    </tr>\n",
       "    <tr>\n",
       "      <th>min</th>\n",
       "      <td>1.000000</td>\n",
       "      <td>591673.0</td>\n",
       "      <td>1.000000</td>\n",
       "      <td>74.000000</td>\n",
       "      <td>72.000000</td>\n",
       "      <td>45.000000</td>\n",
       "      <td>4122.190000</td>\n",
       "      <td>7.700000e+03</td>\n",
       "      <td>1100.000000</td>\n",
       "      <td>78.700000</td>\n",
       "      <td>...</td>\n",
       "      <td>1.000000</td>\n",
       "      <td>1.00000</td>\n",
       "      <td>4.750000e+04</td>\n",
       "      <td>5.700000e+04</td>\n",
       "      <td>11900.000000</td>\n",
       "      <td>965.800000</td>\n",
       "      <td>1000.000000</td>\n",
       "      <td>306.500000</td>\n",
       "      <td>1.000000</td>\n",
       "      <td>1.000000</td>\n",
       "    </tr>\n",
       "    <tr>\n",
       "      <th>25%</th>\n",
       "      <td>41.000000</td>\n",
       "      <td>591673.0</td>\n",
       "      <td>2.000000</td>\n",
       "      <td>10823.000000</td>\n",
       "      <td>6029.000000</td>\n",
       "      <td>3950.000000</td>\n",
       "      <td>15237.562500</td>\n",
       "      <td>4.050000e+04</td>\n",
       "      <td>3000.000000</td>\n",
       "      <td>168.025000</td>\n",
       "      <td>...</td>\n",
       "      <td>4.000000</td>\n",
       "      <td>1.00000</td>\n",
       "      <td>1.894412e+05</td>\n",
       "      <td>4.500000e+05</td>\n",
       "      <td>35000.000000</td>\n",
       "      <td>1639.250000</td>\n",
       "      <td>2812.500000</td>\n",
       "      <td>684.210000</td>\n",
       "      <td>1.000000</td>\n",
       "      <td>1.000000</td>\n",
       "    </tr>\n",
       "    <tr>\n",
       "      <th>50%</th>\n",
       "      <td>81.000000</td>\n",
       "      <td>591673.0</td>\n",
       "      <td>2.000000</td>\n",
       "      <td>16675.000000</td>\n",
       "      <td>9663.000000</td>\n",
       "      <td>6700.000000</td>\n",
       "      <td>23372.080000</td>\n",
       "      <td>7.624799e+04</td>\n",
       "      <td>3800.000000</td>\n",
       "      <td>212.340000</td>\n",
       "      <td>...</td>\n",
       "      <td>5.000000</td>\n",
       "      <td>1.00000</td>\n",
       "      <td>2.965882e+05</td>\n",
       "      <td>9.350000e+05</td>\n",
       "      <td>49800.000000</td>\n",
       "      <td>2190.240000</td>\n",
       "      <td>4450.000000</td>\n",
       "      <td>875.000000</td>\n",
       "      <td>2.000000</td>\n",
       "      <td>1.000000</td>\n",
       "    </tr>\n",
       "    <tr>\n",
       "      <th>75%</th>\n",
       "      <td>121.000000</td>\n",
       "      <td>591673.0</td>\n",
       "      <td>3.000000</td>\n",
       "      <td>24138.000000</td>\n",
       "      <td>13997.000000</td>\n",
       "      <td>9708.000000</td>\n",
       "      <td>35336.687500</td>\n",
       "      <td>1.484542e+05</td>\n",
       "      <td>4725.000000</td>\n",
       "      <td>299.990000</td>\n",
       "      <td>...</td>\n",
       "      <td>5.000000</td>\n",
       "      <td>3.00000</td>\n",
       "      <td>4.209677e+05</td>\n",
       "      <td>1.800000e+06</td>\n",
       "      <td>70000.000000</td>\n",
       "      <td>3022.220000</td>\n",
       "      <td>8000.000000</td>\n",
       "      <td>1209.700000</td>\n",
       "      <td>3.000000</td>\n",
       "      <td>2.000000</td>\n",
       "    </tr>\n",
       "    <tr>\n",
       "      <th>max</th>\n",
       "      <td>161.000000</td>\n",
       "      <td>591673.0</td>\n",
       "      <td>5.000000</td>\n",
       "      <td>42529.000000</td>\n",
       "      <td>25740.000000</td>\n",
       "      <td>19810.000000</td>\n",
       "      <td>93839.290000</td>\n",
       "      <td>1.412690e+06</td>\n",
       "      <td>40000.000000</td>\n",
       "      <td>708.350000</td>\n",
       "      <td>...</td>\n",
       "      <td>5.000000</td>\n",
       "      <td>5.00000</td>\n",
       "      <td>1.144214e+06</td>\n",
       "      <td>1.200000e+07</td>\n",
       "      <td>700000.000000</td>\n",
       "      <td>9062.250000</td>\n",
       "      <td>125000.000000</td>\n",
       "      <td>5833.300000</td>\n",
       "      <td>5.000000</td>\n",
       "      <td>5.000000</td>\n",
       "    </tr>\n",
       "  </tbody>\n",
       "</table>\n",
       "<p>8 rows × 22 columns</p>\n",
       "</div>"
      ],
      "text/plain": [
       "       MOC_ZONAS_ID  PK_TIEMPO_ID  POBLACION_FLOTANTE  POBLACION_VIVIENTE  \\\n",
       "count    161.000000         161.0          161.000000          161.000000   \n",
       "mean      81.000000      591673.0            2.347826        17951.248447   \n",
       "std       46.620811           0.0            0.976351         8673.621310   \n",
       "min        1.000000      591673.0            1.000000           74.000000   \n",
       "25%       41.000000      591673.0            2.000000        10823.000000   \n",
       "50%       81.000000      591673.0            2.000000        16675.000000   \n",
       "75%      121.000000      591673.0            3.000000        24138.000000   \n",
       "max      161.000000      591673.0            5.000000        42529.000000   \n",
       "\n",
       "       POBLACION_TRABAJADORA  CANTIDAD_HOGARES  \\\n",
       "count             161.000000        161.000000   \n",
       "mean            10273.881988       7143.689441   \n",
       "std              5105.533507       3830.758489   \n",
       "min                72.000000         45.000000   \n",
       "25%              6029.000000       3950.000000   \n",
       "50%              9663.000000       6700.000000   \n",
       "75%             13997.000000       9708.000000   \n",
       "max             25740.000000      19810.000000   \n",
       "\n",
       "       PRECIO_PROMEDIO_ALQUILER_LOCAL  PRECIO_MAX_ALQUILER_LOCAL  \\\n",
       "count                      154.000000               1.540000e+02   \n",
       "mean                     27001.372922               1.304347e+05   \n",
       "std                      16008.828191               1.775241e+05   \n",
       "min                       4122.190000               7.700000e+03   \n",
       "25%                      15237.562500               4.050000e+04   \n",
       "50%                      23372.080000               7.624799e+04   \n",
       "75%                      35336.687500               1.484542e+05   \n",
       "max                      93839.290000               1.412690e+06   \n",
       "\n",
       "       PRECIO_MIN_ALQUILER_LOCAL  SUPERFICIE_M2_PROMEDIO_ALQUILER  ...  \\\n",
       "count                 154.000000                       154.000000  ...   \n",
       "mean                 4757.462468                       245.980714  ...   \n",
       "std                  4675.978131                       112.695552  ...   \n",
       "min                  1100.000000                        78.700000  ...   \n",
       "25%                  3000.000000                       168.025000  ...   \n",
       "50%                  3800.000000                       212.340000  ...   \n",
       "75%                  4725.000000                       299.990000  ...   \n",
       "max                 40000.000000                       708.350000  ...   \n",
       "\n",
       "       FACTURACION_PROM_RUBRO_PREDOMINANTE  \\\n",
       "count                           161.000000   \n",
       "mean                              4.422360   \n",
       "std                               1.034648   \n",
       "min                               1.000000   \n",
       "25%                               4.000000   \n",
       "50%                               5.000000   \n",
       "75%                               5.000000   \n",
       "max                               5.000000   \n",
       "\n",
       "       FACTURACION_PROM_RUBRO_MENOS_PREDOMINANTE  PRECIO_PROMEDIO_VENTA_LOCAL  \\\n",
       "count                                  161.00000                 1.530000e+02   \n",
       "mean                                     2.21118                 3.420876e+05   \n",
       "std                                      1.56289                 2.085541e+05   \n",
       "min                                      1.00000                 4.750000e+04   \n",
       "25%                                      1.00000                 1.894412e+05   \n",
       "50%                                      1.00000                 2.965882e+05   \n",
       "75%                                      3.00000                 4.209677e+05   \n",
       "max                                      5.00000                 1.144214e+06   \n",
       "\n",
       "       PRECIO_MAX_VENTA_LOCAL  PRECIO_MIN_VENTA_LOCAL  \\\n",
       "count            1.530000e+02              153.000000   \n",
       "mean             1.390293e+06            65788.882353   \n",
       "std              1.591449e+06            69898.529025   \n",
       "min              5.700000e+04            11900.000000   \n",
       "25%              4.500000e+05            35000.000000   \n",
       "50%              9.350000e+05            49800.000000   \n",
       "75%              1.800000e+06            70000.000000   \n",
       "max              1.200000e+07           700000.000000   \n",
       "\n",
       "       SUPERFICIE_M2_PROMEDIO_VENTA  SUPERFICIE_M2_MAX_VENTA  \\\n",
       "count                    153.000000               153.000000   \n",
       "mean                    2508.841830              8489.986144   \n",
       "std                     1281.047189             13616.545958   \n",
       "min                      965.800000              1000.000000   \n",
       "25%                     1639.250000              2812.500000   \n",
       "50%                     2190.240000              4450.000000   \n",
       "75%                     3022.220000              8000.000000   \n",
       "max                     9062.250000            125000.000000   \n",
       "\n",
       "       SUPERFICIE_M2_MIN_VENTA  NIVEL_LOCALES_RUBRO_PREDOMINANTE  \\\n",
       "count               153.000000                        161.000000   \n",
       "mean               1022.924118                          2.049689   \n",
       "std                 618.141516                          1.192693   \n",
       "min                 306.500000                          1.000000   \n",
       "25%                 684.210000                          1.000000   \n",
       "50%                 875.000000                          2.000000   \n",
       "75%                1209.700000                          3.000000   \n",
       "max                5833.300000                          5.000000   \n",
       "\n",
       "       NIVEL_LOCALES_RUBRO_MENOS_PREDOMINANTE  \n",
       "count                              161.000000  \n",
       "mean                                 1.583851  \n",
       "std                                  1.170251  \n",
       "min                                  1.000000  \n",
       "25%                                  1.000000  \n",
       "50%                                  1.000000  \n",
       "75%                                  2.000000  \n",
       "max                                  5.000000  \n",
       "\n",
       "[8 rows x 22 columns]"
      ]
     },
     "execution_count": 67,
     "metadata": {},
     "output_type": "execute_result"
    }
   ],
   "source": [
    "Zonas.describe()"
   ]
  },
  {
   "cell_type": "code",
   "execution_count": 68,
   "metadata": {
    "ExecuteTime": {
     "end_time": "2019-10-10T03:43:08.444170Z",
     "start_time": "2019-10-10T03:43:08.399284Z"
    }
   },
   "outputs": [
    {
     "data": {
      "text/html": [
       "<div>\n",
       "<style scoped>\n",
       "    .dataframe tbody tr th:only-of-type {\n",
       "        vertical-align: middle;\n",
       "    }\n",
       "\n",
       "    .dataframe tbody tr th {\n",
       "        vertical-align: top;\n",
       "    }\n",
       "\n",
       "    .dataframe thead th {\n",
       "        text-align: right;\n",
       "    }\n",
       "</style>\n",
       "<table border=\"1\" class=\"dataframe\">\n",
       "  <thead>\n",
       "    <tr style=\"text-align: right;\">\n",
       "      <th></th>\n",
       "      <th>MOC_RUBROS_ID</th>\n",
       "      <th>MOC_ZONAS_ID</th>\n",
       "      <th>NIVEL_RIESGO</th>\n",
       "      <th>FACTURACION_PROM_ACTUAL</th>\n",
       "      <th>INDICE_CRECIMIENTO</th>\n",
       "      <th>INDICE_ESTABILIDAD</th>\n",
       "      <th>INDICE_APERTURA</th>\n",
       "      <th>INDICE_CIERRE</th>\n",
       "      <th>INDICE_SUPERVIVENCIA</th>\n",
       "      <th>IND_AP_ACT_VS_IND_AP_ANIO_ANT</th>\n",
       "      <th>...</th>\n",
       "      <th>SUP_MENOS_1</th>\n",
       "      <th>SUP_ENTRE_1_Y_2</th>\n",
       "      <th>SUP_ENTRE_2_Y_3</th>\n",
       "      <th>SUP_ENTRE_3_Y_4</th>\n",
       "      <th>SUP_ENTRE_4_Y_5</th>\n",
       "      <th>SUP_MAS_5</th>\n",
       "      <th>FACTURACION_PROM_ANIO_ANT</th>\n",
       "      <th>NIVEL_LOCALES</th>\n",
       "      <th>INDICE_CIERRE_ANIO_ANT</th>\n",
       "      <th>INDICE_APERTURA_ANIO_ANT</th>\n",
       "    </tr>\n",
       "  </thead>\n",
       "  <tbody>\n",
       "    <tr>\n",
       "      <th>count</th>\n",
       "      <td>2898.000000</td>\n",
       "      <td>2898.000000</td>\n",
       "      <td>2749.000000</td>\n",
       "      <td>2728.000000</td>\n",
       "      <td>2712.000000</td>\n",
       "      <td>2749.000000</td>\n",
       "      <td>2898.000000</td>\n",
       "      <td>2898.000000</td>\n",
       "      <td>2538.000000</td>\n",
       "      <td>2067.000000</td>\n",
       "      <td>...</td>\n",
       "      <td>2785.000000</td>\n",
       "      <td>2785.000000</td>\n",
       "      <td>2785.000000</td>\n",
       "      <td>2785.000000</td>\n",
       "      <td>2785.00000</td>\n",
       "      <td>2785.000000</td>\n",
       "      <td>2744.000000</td>\n",
       "      <td>2743.000000</td>\n",
       "      <td>1388.000000</td>\n",
       "      <td>2066.000000</td>\n",
       "    </tr>\n",
       "    <tr>\n",
       "      <th>mean</th>\n",
       "      <td>1449.500000</td>\n",
       "      <td>81.000000</td>\n",
       "      <td>1.779920</td>\n",
       "      <td>3.523460</td>\n",
       "      <td>3.362463</td>\n",
       "      <td>3.242270</td>\n",
       "      <td>4.424896</td>\n",
       "      <td>2.440901</td>\n",
       "      <td>85.994878</td>\n",
       "      <td>-72.811572</td>\n",
       "      <td>...</td>\n",
       "      <td>3.209436</td>\n",
       "      <td>11.852560</td>\n",
       "      <td>12.950671</td>\n",
       "      <td>11.553896</td>\n",
       "      <td>7.73265</td>\n",
       "      <td>52.700664</td>\n",
       "      <td>3.495262</td>\n",
       "      <td>1.813708</td>\n",
       "      <td>12.922370</td>\n",
       "      <td>21.772386</td>\n",
       "    </tr>\n",
       "    <tr>\n",
       "      <th>std</th>\n",
       "      <td>836.724865</td>\n",
       "      <td>46.483821</td>\n",
       "      <td>1.043426</td>\n",
       "      <td>1.561888</td>\n",
       "      <td>0.977561</td>\n",
       "      <td>0.986932</td>\n",
       "      <td>9.507299</td>\n",
       "      <td>6.971838</td>\n",
       "      <td>26.890169</td>\n",
       "      <td>44.634215</td>\n",
       "      <td>...</td>\n",
       "      <td>7.292053</td>\n",
       "      <td>15.058441</td>\n",
       "      <td>14.047338</td>\n",
       "      <td>13.700888</td>\n",
       "      <td>11.11506</td>\n",
       "      <td>22.736519</td>\n",
       "      <td>1.566829</td>\n",
       "      <td>1.223673</td>\n",
       "      <td>14.200312</td>\n",
       "      <td>18.096290</td>\n",
       "    </tr>\n",
       "    <tr>\n",
       "      <th>min</th>\n",
       "      <td>1.000000</td>\n",
       "      <td>1.000000</td>\n",
       "      <td>1.000000</td>\n",
       "      <td>1.000000</td>\n",
       "      <td>1.000000</td>\n",
       "      <td>1.000000</td>\n",
       "      <td>0.000000</td>\n",
       "      <td>0.000000</td>\n",
       "      <td>0.000000</td>\n",
       "      <td>-100.000000</td>\n",
       "      <td>...</td>\n",
       "      <td>0.000000</td>\n",
       "      <td>0.000000</td>\n",
       "      <td>0.000000</td>\n",
       "      <td>0.000000</td>\n",
       "      <td>0.00000</td>\n",
       "      <td>0.000000</td>\n",
       "      <td>1.000000</td>\n",
       "      <td>1.000000</td>\n",
       "      <td>1.030000</td>\n",
       "      <td>2.130000</td>\n",
       "    </tr>\n",
       "    <tr>\n",
       "      <th>25%</th>\n",
       "      <td>725.250000</td>\n",
       "      <td>41.000000</td>\n",
       "      <td>1.000000</td>\n",
       "      <td>2.000000</td>\n",
       "      <td>3.000000</td>\n",
       "      <td>2.000000</td>\n",
       "      <td>0.000000</td>\n",
       "      <td>0.000000</td>\n",
       "      <td>80.000000</td>\n",
       "      <td>-100.000000</td>\n",
       "      <td>...</td>\n",
       "      <td>0.000000</td>\n",
       "      <td>2.500000</td>\n",
       "      <td>0.000000</td>\n",
       "      <td>0.000000</td>\n",
       "      <td>0.00000</td>\n",
       "      <td>41.430000</td>\n",
       "      <td>2.000000</td>\n",
       "      <td>1.000000</td>\n",
       "      <td>5.260000</td>\n",
       "      <td>11.110000</td>\n",
       "    </tr>\n",
       "    <tr>\n",
       "      <th>50%</th>\n",
       "      <td>1449.500000</td>\n",
       "      <td>81.000000</td>\n",
       "      <td>1.000000</td>\n",
       "      <td>4.000000</td>\n",
       "      <td>4.000000</td>\n",
       "      <td>4.000000</td>\n",
       "      <td>0.000000</td>\n",
       "      <td>0.000000</td>\n",
       "      <td>100.000000</td>\n",
       "      <td>-100.000000</td>\n",
       "      <td>...</td>\n",
       "      <td>0.880000</td>\n",
       "      <td>8.910000</td>\n",
       "      <td>10.530000</td>\n",
       "      <td>8.820000</td>\n",
       "      <td>5.45000</td>\n",
       "      <td>55.560000</td>\n",
       "      <td>4.000000</td>\n",
       "      <td>1.000000</td>\n",
       "      <td>8.720000</td>\n",
       "      <td>16.670000</td>\n",
       "    </tr>\n",
       "    <tr>\n",
       "      <th>75%</th>\n",
       "      <td>2173.750000</td>\n",
       "      <td>121.000000</td>\n",
       "      <td>2.000000</td>\n",
       "      <td>5.000000</td>\n",
       "      <td>4.000000</td>\n",
       "      <td>4.000000</td>\n",
       "      <td>5.560000</td>\n",
       "      <td>2.440000</td>\n",
       "      <td>100.000000</td>\n",
       "      <td>-60.000000</td>\n",
       "      <td>...</td>\n",
       "      <td>3.850000</td>\n",
       "      <td>15.100000</td>\n",
       "      <td>17.780000</td>\n",
       "      <td>15.790000</td>\n",
       "      <td>10.89000</td>\n",
       "      <td>66.670000</td>\n",
       "      <td>5.000000</td>\n",
       "      <td>2.000000</td>\n",
       "      <td>15.000000</td>\n",
       "      <td>25.000000</td>\n",
       "    </tr>\n",
       "    <tr>\n",
       "      <th>max</th>\n",
       "      <td>2898.000000</td>\n",
       "      <td>161.000000</td>\n",
       "      <td>5.000000</td>\n",
       "      <td>5.000000</td>\n",
       "      <td>5.000000</td>\n",
       "      <td>5.000000</td>\n",
       "      <td>100.000000</td>\n",
       "      <td>100.000000</td>\n",
       "      <td>100.000000</td>\n",
       "      <td>300.000000</td>\n",
       "      <td>...</td>\n",
       "      <td>100.000000</td>\n",
       "      <td>100.000000</td>\n",
       "      <td>100.000000</td>\n",
       "      <td>100.000000</td>\n",
       "      <td>100.00000</td>\n",
       "      <td>100.000000</td>\n",
       "      <td>5.000000</td>\n",
       "      <td>5.000000</td>\n",
       "      <td>150.000000</td>\n",
       "      <td>200.000000</td>\n",
       "    </tr>\n",
       "  </tbody>\n",
       "</table>\n",
       "<p>8 rows × 21 columns</p>\n",
       "</div>"
      ],
      "text/plain": [
       "       MOC_RUBROS_ID  MOC_ZONAS_ID  NIVEL_RIESGO  FACTURACION_PROM_ACTUAL  \\\n",
       "count    2898.000000   2898.000000   2749.000000              2728.000000   \n",
       "mean     1449.500000     81.000000      1.779920                 3.523460   \n",
       "std       836.724865     46.483821      1.043426                 1.561888   \n",
       "min         1.000000      1.000000      1.000000                 1.000000   \n",
       "25%       725.250000     41.000000      1.000000                 2.000000   \n",
       "50%      1449.500000     81.000000      1.000000                 4.000000   \n",
       "75%      2173.750000    121.000000      2.000000                 5.000000   \n",
       "max      2898.000000    161.000000      5.000000                 5.000000   \n",
       "\n",
       "       INDICE_CRECIMIENTO  INDICE_ESTABILIDAD  INDICE_APERTURA  INDICE_CIERRE  \\\n",
       "count         2712.000000         2749.000000      2898.000000    2898.000000   \n",
       "mean             3.362463            3.242270         4.424896       2.440901   \n",
       "std              0.977561            0.986932         9.507299       6.971838   \n",
       "min              1.000000            1.000000         0.000000       0.000000   \n",
       "25%              3.000000            2.000000         0.000000       0.000000   \n",
       "50%              4.000000            4.000000         0.000000       0.000000   \n",
       "75%              4.000000            4.000000         5.560000       2.440000   \n",
       "max              5.000000            5.000000       100.000000     100.000000   \n",
       "\n",
       "       INDICE_SUPERVIVENCIA  IND_AP_ACT_VS_IND_AP_ANIO_ANT  ...  SUP_MENOS_1  \\\n",
       "count           2538.000000                    2067.000000  ...  2785.000000   \n",
       "mean              85.994878                     -72.811572  ...     3.209436   \n",
       "std               26.890169                      44.634215  ...     7.292053   \n",
       "min                0.000000                    -100.000000  ...     0.000000   \n",
       "25%               80.000000                    -100.000000  ...     0.000000   \n",
       "50%              100.000000                    -100.000000  ...     0.880000   \n",
       "75%              100.000000                     -60.000000  ...     3.850000   \n",
       "max              100.000000                     300.000000  ...   100.000000   \n",
       "\n",
       "       SUP_ENTRE_1_Y_2  SUP_ENTRE_2_Y_3  SUP_ENTRE_3_Y_4  SUP_ENTRE_4_Y_5  \\\n",
       "count      2785.000000      2785.000000      2785.000000       2785.00000   \n",
       "mean         11.852560        12.950671        11.553896          7.73265   \n",
       "std          15.058441        14.047338        13.700888         11.11506   \n",
       "min           0.000000         0.000000         0.000000          0.00000   \n",
       "25%           2.500000         0.000000         0.000000          0.00000   \n",
       "50%           8.910000        10.530000         8.820000          5.45000   \n",
       "75%          15.100000        17.780000        15.790000         10.89000   \n",
       "max         100.000000       100.000000       100.000000        100.00000   \n",
       "\n",
       "         SUP_MAS_5  FACTURACION_PROM_ANIO_ANT  NIVEL_LOCALES  \\\n",
       "count  2785.000000                2744.000000    2743.000000   \n",
       "mean     52.700664                   3.495262       1.813708   \n",
       "std      22.736519                   1.566829       1.223673   \n",
       "min       0.000000                   1.000000       1.000000   \n",
       "25%      41.430000                   2.000000       1.000000   \n",
       "50%      55.560000                   4.000000       1.000000   \n",
       "75%      66.670000                   5.000000       2.000000   \n",
       "max     100.000000                   5.000000       5.000000   \n",
       "\n",
       "       INDICE_CIERRE_ANIO_ANT  INDICE_APERTURA_ANIO_ANT  \n",
       "count             1388.000000               2066.000000  \n",
       "mean                12.922370                 21.772386  \n",
       "std                 14.200312                 18.096290  \n",
       "min                  1.030000                  2.130000  \n",
       "25%                  5.260000                 11.110000  \n",
       "50%                  8.720000                 16.670000  \n",
       "75%                 15.000000                 25.000000  \n",
       "max                150.000000                200.000000  \n",
       "\n",
       "[8 rows x 21 columns]"
      ]
     },
     "execution_count": 68,
     "metadata": {},
     "output_type": "execute_result"
    }
   ],
   "source": [
    "Rubros.describe()"
   ]
  },
  {
   "cell_type": "code",
   "execution_count": 69,
   "metadata": {
    "ExecuteTime": {
     "end_time": "2019-10-10T03:43:29.854590Z",
     "start_time": "2019-10-10T03:43:29.849822Z"
    }
   },
   "outputs": [],
   "source": [
    "Rubros_1 = Rubros.drop(['INDICE_CIERRE_ANIO_ANT', 'IND_CL_ACT_VS_IND_CL_ANIO_ANT','INDICE_APERTURA_ANIO_ANT','FACTURACION_PROM_ANIO_ANT','IND_AP_ACT_VS_IND_AP_ANIO_ANT'], axis=1)\n",
    "Rubros_1 = Rubros_1.dropna(subset = [\"FACTURACION_PROM_ACTUAL\"])"
   ]
  },
  {
   "cell_type": "code",
   "execution_count": 70,
   "metadata": {
    "ExecuteTime": {
     "end_time": "2019-10-10T03:43:38.096419Z",
     "start_time": "2019-10-10T03:43:38.085650Z"
    }
   },
   "outputs": [
    {
     "data": {
      "text/html": [
       "<div>\n",
       "<style scoped>\n",
       "    .dataframe tbody tr th:only-of-type {\n",
       "        vertical-align: middle;\n",
       "    }\n",
       "\n",
       "    .dataframe tbody tr th {\n",
       "        vertical-align: top;\n",
       "    }\n",
       "\n",
       "    .dataframe thead th {\n",
       "        text-align: right;\n",
       "    }\n",
       "</style>\n",
       "<table border=\"1\" class=\"dataframe\">\n",
       "  <thead>\n",
       "    <tr style=\"text-align: right;\">\n",
       "      <th></th>\n",
       "      <th>Total</th>\n",
       "      <th>Percent</th>\n",
       "    </tr>\n",
       "  </thead>\n",
       "  <tbody>\n",
       "    <tr>\n",
       "      <th>INDICE_SUPERVIVENCIA</th>\n",
       "      <td>216</td>\n",
       "      <td>0.08</td>\n",
       "    </tr>\n",
       "    <tr>\n",
       "      <th>INDICE_CRECIMIENTO</th>\n",
       "      <td>16</td>\n",
       "      <td>0.01</td>\n",
       "    </tr>\n",
       "    <tr>\n",
       "      <th>NIVEL_LOCALES</th>\n",
       "      <td>5</td>\n",
       "      <td>0.00</td>\n",
       "    </tr>\n",
       "    <tr>\n",
       "      <th>NIVEL_RIESGO</th>\n",
       "      <td>1</td>\n",
       "      <td>0.00</td>\n",
       "    </tr>\n",
       "    <tr>\n",
       "      <th>INDICE_ESTABILIDAD</th>\n",
       "      <td>1</td>\n",
       "      <td>0.00</td>\n",
       "    </tr>\n",
       "  </tbody>\n",
       "</table>\n",
       "</div>"
      ],
      "text/plain": [
       "                      Total  Percent\n",
       "INDICE_SUPERVIVENCIA    216     0.08\n",
       "INDICE_CRECIMIENTO       16     0.01\n",
       "NIVEL_LOCALES             5     0.00\n",
       "NIVEL_RIESGO              1     0.00\n",
       "INDICE_ESTABILIDAD        1     0.00"
      ]
     },
     "execution_count": 70,
     "metadata": {},
     "output_type": "execute_result"
    }
   ],
   "source": [
    "total_Rubros_1 = Rubros_1.isnull().sum().sort_values(ascending=False)\n",
    "percent_Rubros_1 = (Rubros_1.isnull().sum()/Rubros_1.isnull().count()).sort_values(ascending=False)\n",
    "missing_data_Rubros_1 = np.round(pd.concat([total_Rubros_1, percent_Rubros_1], axis=1, keys=['Total', 'Percent']),2)\n",
    "missing_data_Rubros_1.head(5)"
   ]
  },
  {
   "cell_type": "code",
   "execution_count": 71,
   "metadata": {
    "ExecuteTime": {
     "end_time": "2019-10-10T03:43:38.327021Z",
     "start_time": "2019-10-10T03:43:38.322623Z"
    }
   },
   "outputs": [
    {
     "data": {
      "text/plain": [
       "(2728, 17)"
      ]
     },
     "execution_count": 71,
     "metadata": {},
     "output_type": "execute_result"
    }
   ],
   "source": [
    "Rubros_1.shape"
   ]
  },
  {
   "cell_type": "code",
   "execution_count": 72,
   "metadata": {
    "ExecuteTime": {
     "end_time": "2019-10-10T03:44:55.736380Z",
     "start_time": "2019-10-10T03:44:55.594602Z"
    }
   },
   "outputs": [
    {
     "data": {
      "image/png": "[encoded data removed]",
      "text/plain": [
       "<Figure size 864x576 with 1 Axes>"
      ]
     },
     "metadata": {
      "needs_background": "light"
     },
     "output_type": "display_data"
    }
   ],
   "source": [
    "plt.figure(figsize=(12, 8)) #Ejemplo\n",
    "sns.set_context(\"talk\")\n",
    "az = sns.countplot(x=\"FACTURACION_PROM_ACTUAL\", data=Rubros_1)\n",
    "plt.xticks(rotation=45)\n",
    "plt.title(\"ÍNDICE DE FACTURACIÓN ACTUAL POR RUBRO\")\n",
    "plt.show()"
   ]
  },
  {
   "cell_type": "code",
   "execution_count": 73,
   "metadata": {
    "ExecuteTime": {
     "end_time": "2019-10-10T03:44:56.541188Z",
     "start_time": "2019-10-10T03:44:56.513076Z"
    },
    "scrolled": true
   },
   "outputs": [
    {
     "name": "stdout",
     "output_type": "stream",
     "text": [
      "Variables mas importantes con respecto a nuestro objetivo\n",
      "FACTURACION_PROM_ACTUAL    1.000000\n",
      "NIVEL_LOCALES              0.391911\n",
      "INDICE_ESTABILIDAD         0.329109\n",
      "SUP_MAS_5                  0.297745\n",
      "INDICE_SUPERVIVENCIA       0.065792\n",
      "MOC_ZONAS_ID               0.039722\n",
      "MOC_RUBROS_ID              0.034348\n",
      "NIVEL_RIESGO              -0.001666\n",
      "SUP_ENTRE_4_Y_5           -0.020039\n",
      "INDICE_CIERRE             -0.083037\n",
      "SUP_ENTRE_2_Y_3           -0.101122\n",
      "SUP_ENTRE_3_Y_4           -0.104229\n",
      "SUP_MENOS_1               -0.125193\n",
      "INDICE_CRECIMIENTO        -0.134525\n",
      "INDICE_APERTURA           -0.161961\n",
      "SUP_ENTRE_1_Y_2           -0.197736\n",
      "Name: FACTURACION_PROM_ACTUAL, dtype: float64\n"
     ]
    }
   ],
   "source": [
    "print(\"Variables mas importantes con respecto a nuestro objetivo\")\n",
    "corr = Rubros_1.corr()\n",
    "corr.sort_values([\"FACTURACION_PROM_ACTUAL\"], ascending = False, inplace = True)\n",
    "print(corr.FACTURACION_PROM_ACTUAL)"
   ]
  },
  {
   "cell_type": "markdown",
   "metadata": {},
   "source": [
    "Con la función de Seaborn *sns.heatmap* les queda un buen mapa de correlación"
   ]
  },
  {
   "cell_type": "code",
   "execution_count": 74,
   "metadata": {
    "ExecuteTime": {
     "end_time": "2019-10-10T03:47:03.157575Z",
     "start_time": "2019-10-10T03:47:02.885842Z"
    }
   },
   "outputs": [
    {
     "data": {
      "image/png": "[encoded data removed]",
      "text/plain": [
       "<Figure size 2520x1440 with 2 Axes>"
      ]
     },
     "metadata": {
      "needs_background": "light"
     },
     "output_type": "display_data"
    }
   ],
   "source": [
    "#Pueden cambiar los colores y mas cosas utilizando los parámetros\n",
    "plt.figure(figsize=(35, 20))\n",
    "hm = sns.heatmap(corr, cbar = True,square= True, annot = True)\n",
    "plt.show()"
   ]
  },
  {
   "cell_type": "code",
   "execution_count": 75,
   "metadata": {
    "ExecuteTime": {
     "end_time": "2019-10-10T03:47:05.077697Z",
     "start_time": "2019-10-10T03:47:05.074416Z"
    }
   },
   "outputs": [
    {
     "name": "stdout",
     "output_type": "stream",
     "text": [
      "Variables mas importantes con respecto a nuestro objetivo\n",
      "INDICE_ESTABILIDAD         1.000000\n",
      "SUP_MAS_5                  0.595066\n",
      "FACTURACION_PROM_ACTUAL    0.329109\n",
      "NIVEL_LOCALES              0.220400\n",
      "INDICE_SUPERVIVENCIA       0.089558\n",
      "MOC_RUBROS_ID              0.039101\n",
      "INDICE_CRECIMIENTO        -0.001369\n",
      "MOC_ZONAS_ID              -0.005287\n",
      "SUP_ENTRE_4_Y_5           -0.102941\n",
      "SUP_MENOS_1               -0.179524\n",
      "SUP_ENTRE_3_Y_4           -0.214088\n",
      "SUP_ENTRE_2_Y_3           -0.256759\n",
      "INDICE_APERTURA           -0.262896\n",
      "NIVEL_RIESGO              -0.305893\n",
      "SUP_ENTRE_1_Y_2           -0.323413\n",
      "INDICE_CIERRE             -0.454641\n",
      "Name: INDICE_ESTABILIDAD, dtype: float64\n"
     ]
    }
   ],
   "source": [
    "print(\"Variables mas importantes con respecto a nuestro objetivo\")\n",
    "corr.sort_values([\"INDICE_ESTABILIDAD\"], ascending = False, inplace = True)\n",
    "print(corr.INDICE_ESTABILIDAD)"
   ]
  },
  {
   "cell_type": "code",
   "execution_count": 76,
   "metadata": {
    "ExecuteTime": {
     "end_time": "2019-10-10T03:47:06.280819Z",
     "start_time": "2019-10-10T03:47:06.273490Z"
    }
   },
   "outputs": [
    {
     "name": "stdout",
     "output_type": "stream",
     "text": [
      "Variables mas importantes con respecto a nuestro objetivo\n",
      "NIVEL_RIESGO               1.000000\n",
      "INDICE_CIERRE              0.557793\n",
      "NIVEL_LOCALES              0.145022\n",
      "SUP_ENTRE_2_Y_3            0.108779\n",
      "SUP_ENTRE_1_Y_2            0.037286\n",
      "MOC_ZONAS_ID               0.023241\n",
      "SUP_MENOS_1                0.017254\n",
      "INDICE_APERTURA            0.001577\n",
      "FACTURACION_PROM_ACTUAL   -0.001666\n",
      "SUP_ENTRE_4_Y_5           -0.031189\n",
      "SUP_MAS_5                 -0.036599\n",
      "MOC_RUBROS_ID             -0.050725\n",
      "SUP_ENTRE_3_Y_4           -0.069623\n",
      "INDICE_CRECIMIENTO        -0.197379\n",
      "INDICE_ESTABILIDAD        -0.305893\n",
      "INDICE_SUPERVIVENCIA      -0.810293\n",
      "Name: NIVEL_RIESGO, dtype: float64\n"
     ]
    }
   ],
   "source": [
    "print(\"Variables mas importantes con respecto a nuestro objetivo\")\n",
    "corr = Rubros_1.corr()\n",
    "corr.sort_values([\"NIVEL_RIESGO\"], ascending = False, inplace = True)\n",
    "print(corr.NIVEL_RIESGO)"
   ]
  },
  {
   "cell_type": "code",
   "execution_count": 77,
   "metadata": {
    "ExecuteTime": {
     "end_time": "2019-10-10T03:47:08.297384Z",
     "start_time": "2019-10-10T03:47:08.290508Z"
    }
   },
   "outputs": [
    {
     "data": {
      "text/plain": [
       "MOC_RUBROS_ID                     2897\n",
       "MOC_ZONAS_ID                       161\n",
       "RUBRO                      VETERINARIA\n",
       "NIVEL_RIESGO                         5\n",
       "FACTURACION_PROM_ACTUAL              5\n",
       "INDICE_CRECIMIENTO                   5\n",
       "INDICE_ESTABILIDAD                   5\n",
       "INDICE_APERTURA                    100\n",
       "INDICE_CIERRE                      100\n",
       "INDICE_SUPERVIVENCIA               100\n",
       "SUP_MENOS_1                        100\n",
       "SUP_ENTRE_1_Y_2                    100\n",
       "SUP_ENTRE_2_Y_3                    100\n",
       "SUP_ENTRE_3_Y_4                    100\n",
       "SUP_ENTRE_4_Y_5                    100\n",
       "SUP_MAS_5                          100\n",
       "NIVEL_LOCALES                        5\n",
       "dtype: object"
      ]
     },
     "execution_count": 77,
     "metadata": {},
     "output_type": "execute_result"
    }
   ],
   "source": [
    "np.max(Rubros_1)"
   ]
  },
  {
   "cell_type": "code",
   "execution_count": 78,
   "metadata": {},
   "outputs": [
    {
     "data": {
      "text/plain": [
       "(2728, 17)"
      ]
     },
     "execution_count": 78,
     "metadata": {},
     "output_type": "execute_result"
    }
   ],
   "source": [
    "Rubros_1.fillna(Rubros_1.mean(), inplace=True)\n",
    "Rubros_1.shape"
   ]
  },
  {
   "cell_type": "code",
   "execution_count": 79,
   "metadata": {},
   "outputs": [
    {
     "data": {
      "text/html": [
       "<div>\n",
       "<style scoped>\n",
       "    .dataframe tbody tr th:only-of-type {\n",
       "        vertical-align: middle;\n",
       "    }\n",
       "\n",
       "    .dataframe tbody tr th {\n",
       "        vertical-align: top;\n",
       "    }\n",
       "\n",
       "    .dataframe thead th {\n",
       "        text-align: right;\n",
       "    }\n",
       "</style>\n",
       "<table border=\"1\" class=\"dataframe\">\n",
       "  <thead>\n",
       "    <tr style=\"text-align: right;\">\n",
       "      <th></th>\n",
       "      <th>Total</th>\n",
       "      <th>Percent</th>\n",
       "    </tr>\n",
       "  </thead>\n",
       "  <tbody>\n",
       "    <tr>\n",
       "      <th>NIVEL_LOCALES</th>\n",
       "      <td>0</td>\n",
       "      <td>0.0</td>\n",
       "    </tr>\n",
       "    <tr>\n",
       "      <th>INDICE_APERTURA</th>\n",
       "      <td>0</td>\n",
       "      <td>0.0</td>\n",
       "    </tr>\n",
       "    <tr>\n",
       "      <th>MOC_ZONAS_ID</th>\n",
       "      <td>0</td>\n",
       "      <td>0.0</td>\n",
       "    </tr>\n",
       "    <tr>\n",
       "      <th>RUBRO</th>\n",
       "      <td>0</td>\n",
       "      <td>0.0</td>\n",
       "    </tr>\n",
       "    <tr>\n",
       "      <th>NIVEL_RIESGO</th>\n",
       "      <td>0</td>\n",
       "      <td>0.0</td>\n",
       "    </tr>\n",
       "  </tbody>\n",
       "</table>\n",
       "</div>"
      ],
      "text/plain": [
       "                 Total  Percent\n",
       "NIVEL_LOCALES        0      0.0\n",
       "INDICE_APERTURA      0      0.0\n",
       "MOC_ZONAS_ID         0      0.0\n",
       "RUBRO                0      0.0\n",
       "NIVEL_RIESGO         0      0.0"
      ]
     },
     "execution_count": 79,
     "metadata": {},
     "output_type": "execute_result"
    }
   ],
   "source": [
    "total_Rubros_1 = Rubros_1.isnull().sum().sort_values(ascending=False)\n",
    "percent_Rubros_1 = (Rubros_1.isnull().sum()/Rubros_1.isnull().count()).sort_values(ascending=False)\n",
    "missing_data_Rubros_1 = np.round(pd.concat([total_Rubros_1, percent_Rubros_1], axis=1, keys=['Total', 'Percent']),2)\n",
    "missing_data_Rubros_1.head(5)"
   ]
  },
  {
   "cell_type": "markdown",
   "metadata": {},
   "source": [
    "## **DUMMIES :**"
   ]
  },
  {
   "cell_type": "markdown",
   "metadata": {},
   "source": [
    "**DUMIES RUBRO**"
   ]
  },
  {
   "cell_type": "code",
   "execution_count": 80,
   "metadata": {},
   "outputs": [],
   "source": [
    "Rubros_1_dummies = pd.get_dummies (Rubros_1['RUBRO'])"
   ]
  },
  {
   "cell_type": "code",
   "execution_count": 81,
   "metadata": {},
   "outputs": [
    {
     "data": {
      "text/html": [
       "<div>\n",
       "<style scoped>\n",
       "    .dataframe tbody tr th:only-of-type {\n",
       "        vertical-align: middle;\n",
       "    }\n",
       "\n",
       "    .dataframe tbody tr th {\n",
       "        vertical-align: top;\n",
       "    }\n",
       "\n",
       "    .dataframe thead th {\n",
       "        text-align: right;\n",
       "    }\n",
       "</style>\n",
       "<table border=\"1\" class=\"dataframe\">\n",
       "  <thead>\n",
       "    <tr style=\"text-align: right;\">\n",
       "      <th></th>\n",
       "      <th>BARES Y CAFES</th>\n",
       "      <th>CARNES Y VERDURAS</th>\n",
       "      <th>COMIDA AL PASO</th>\n",
       "      <th>FERRETERIA Y CONSTRUCCION</th>\n",
       "      <th>FIAMBRERIAS Y DIETETICAS</th>\n",
       "      <th>HELADERIAS</th>\n",
       "      <th>INDUMENTARIA</th>\n",
       "      <th>INSTITUCIONES DEPORTIVAS</th>\n",
       "      <th>INSUMOS PARA EL HOGAR</th>\n",
       "      <th>KIOSCOS Y LOTERIAS</th>\n",
       "      <th>MUSICA Y LIBRERIA</th>\n",
       "      <th>OPTICA Y JOYERIAS</th>\n",
       "      <th>PANADERIAS</th>\n",
       "      <th>RESTAURANTES</th>\n",
       "      <th>SALUD Y COSMETICA</th>\n",
       "      <th>SUPERMERCADOS Y ALMACENES</th>\n",
       "      <th>TRATAMIENTOS ESTETICOS</th>\n",
       "      <th>VETERINARIA</th>\n",
       "    </tr>\n",
       "  </thead>\n",
       "  <tbody>\n",
       "    <tr>\n",
       "      <th>0</th>\n",
       "      <td>0</td>\n",
       "      <td>0</td>\n",
       "      <td>0</td>\n",
       "      <td>0</td>\n",
       "      <td>0</td>\n",
       "      <td>0</td>\n",
       "      <td>0</td>\n",
       "      <td>0</td>\n",
       "      <td>1</td>\n",
       "      <td>0</td>\n",
       "      <td>0</td>\n",
       "      <td>0</td>\n",
       "      <td>0</td>\n",
       "      <td>0</td>\n",
       "      <td>0</td>\n",
       "      <td>0</td>\n",
       "      <td>0</td>\n",
       "      <td>0</td>\n",
       "    </tr>\n",
       "    <tr>\n",
       "      <th>2</th>\n",
       "      <td>0</td>\n",
       "      <td>0</td>\n",
       "      <td>0</td>\n",
       "      <td>0</td>\n",
       "      <td>0</td>\n",
       "      <td>0</td>\n",
       "      <td>0</td>\n",
       "      <td>0</td>\n",
       "      <td>1</td>\n",
       "      <td>0</td>\n",
       "      <td>0</td>\n",
       "      <td>0</td>\n",
       "      <td>0</td>\n",
       "      <td>0</td>\n",
       "      <td>0</td>\n",
       "      <td>0</td>\n",
       "      <td>0</td>\n",
       "      <td>0</td>\n",
       "    </tr>\n",
       "    <tr>\n",
       "      <th>3</th>\n",
       "      <td>0</td>\n",
       "      <td>0</td>\n",
       "      <td>0</td>\n",
       "      <td>0</td>\n",
       "      <td>0</td>\n",
       "      <td>0</td>\n",
       "      <td>0</td>\n",
       "      <td>0</td>\n",
       "      <td>1</td>\n",
       "      <td>0</td>\n",
       "      <td>0</td>\n",
       "      <td>0</td>\n",
       "      <td>0</td>\n",
       "      <td>0</td>\n",
       "      <td>0</td>\n",
       "      <td>0</td>\n",
       "      <td>0</td>\n",
       "      <td>0</td>\n",
       "    </tr>\n",
       "    <tr>\n",
       "      <th>5</th>\n",
       "      <td>0</td>\n",
       "      <td>0</td>\n",
       "      <td>0</td>\n",
       "      <td>0</td>\n",
       "      <td>0</td>\n",
       "      <td>0</td>\n",
       "      <td>0</td>\n",
       "      <td>0</td>\n",
       "      <td>1</td>\n",
       "      <td>0</td>\n",
       "      <td>0</td>\n",
       "      <td>0</td>\n",
       "      <td>0</td>\n",
       "      <td>0</td>\n",
       "      <td>0</td>\n",
       "      <td>0</td>\n",
       "      <td>0</td>\n",
       "      <td>0</td>\n",
       "    </tr>\n",
       "    <tr>\n",
       "      <th>6</th>\n",
       "      <td>0</td>\n",
       "      <td>0</td>\n",
       "      <td>0</td>\n",
       "      <td>0</td>\n",
       "      <td>0</td>\n",
       "      <td>0</td>\n",
       "      <td>0</td>\n",
       "      <td>0</td>\n",
       "      <td>1</td>\n",
       "      <td>0</td>\n",
       "      <td>0</td>\n",
       "      <td>0</td>\n",
       "      <td>0</td>\n",
       "      <td>0</td>\n",
       "      <td>0</td>\n",
       "      <td>0</td>\n",
       "      <td>0</td>\n",
       "      <td>0</td>\n",
       "    </tr>\n",
       "  </tbody>\n",
       "</table>\n",
       "</div>"
      ],
      "text/plain": [
       "   BARES Y CAFES  CARNES Y VERDURAS  COMIDA AL PASO  \\\n",
       "0              0                  0               0   \n",
       "2              0                  0               0   \n",
       "3              0                  0               0   \n",
       "5              0                  0               0   \n",
       "6              0                  0               0   \n",
       "\n",
       "   FERRETERIA Y CONSTRUCCION  FIAMBRERIAS Y DIETETICAS  HELADERIAS  \\\n",
       "0                          0                         0           0   \n",
       "2                          0                         0           0   \n",
       "3                          0                         0           0   \n",
       "5                          0                         0           0   \n",
       "6                          0                         0           0   \n",
       "\n",
       "   INDUMENTARIA  INSTITUCIONES DEPORTIVAS  INSUMOS PARA EL HOGAR  \\\n",
       "0             0                         0                      1   \n",
       "2             0                         0                      1   \n",
       "3             0                         0                      1   \n",
       "5             0                         0                      1   \n",
       "6             0                         0                      1   \n",
       "\n",
       "   KIOSCOS Y LOTERIAS  MUSICA Y LIBRERIA  OPTICA Y JOYERIAS  PANADERIAS  \\\n",
       "0                   0                  0                  0           0   \n",
       "2                   0                  0                  0           0   \n",
       "3                   0                  0                  0           0   \n",
       "5                   0                  0                  0           0   \n",
       "6                   0                  0                  0           0   \n",
       "\n",
       "   RESTAURANTES  SALUD Y COSMETICA  SUPERMERCADOS Y ALMACENES  \\\n",
       "0             0                  0                          0   \n",
       "2             0                  0                          0   \n",
       "3             0                  0                          0   \n",
       "5             0                  0                          0   \n",
       "6             0                  0                          0   \n",
       "\n",
       "   TRATAMIENTOS ESTETICOS  VETERINARIA  \n",
       "0                       0            0  \n",
       "2                       0            0  \n",
       "3                       0            0  \n",
       "5                       0            0  \n",
       "6                       0            0  "
      ]
     },
     "execution_count": 81,
     "metadata": {},
     "output_type": "execute_result"
    }
   ],
   "source": [
    "Rubros_1_dummies.head()"
   ]
  },
  {
   "cell_type": "code",
   "execution_count": 82,
   "metadata": {},
   "outputs": [
    {
     "data": {
      "text/plain": [
       "(2728, 18)"
      ]
     },
     "execution_count": 82,
     "metadata": {},
     "output_type": "execute_result"
    }
   ],
   "source": [
    "Rubros_1_dummies.shape"
   ]
  },
  {
   "cell_type": "markdown",
   "metadata": {},
   "source": [
    "**DUMMIES ZONAS**"
   ]
  },
  {
   "cell_type": "code",
   "execution_count": 83,
   "metadata": {},
   "outputs": [],
   "source": [
    "Rubros_1_dummies2 = pd.get_dummies (Rubros_1['MOC_ZONAS_ID'])"
   ]
  },
  {
   "cell_type": "code",
   "execution_count": 84,
   "metadata": {},
   "outputs": [
    {
     "data": {
      "text/html": [
       "<div>\n",
       "<style scoped>\n",
       "    .dataframe tbody tr th:only-of-type {\n",
       "        vertical-align: middle;\n",
       "    }\n",
       "\n",
       "    .dataframe tbody tr th {\n",
       "        vertical-align: top;\n",
       "    }\n",
       "\n",
       "    .dataframe thead th {\n",
       "        text-align: right;\n",
       "    }\n",
       "</style>\n",
       "<table border=\"1\" class=\"dataframe\">\n",
       "  <thead>\n",
       "    <tr style=\"text-align: right;\">\n",
       "      <th></th>\n",
       "      <th>1</th>\n",
       "      <th>2</th>\n",
       "      <th>3</th>\n",
       "      <th>4</th>\n",
       "      <th>5</th>\n",
       "      <th>6</th>\n",
       "      <th>7</th>\n",
       "      <th>8</th>\n",
       "      <th>9</th>\n",
       "      <th>10</th>\n",
       "      <th>...</th>\n",
       "      <th>152</th>\n",
       "      <th>153</th>\n",
       "      <th>154</th>\n",
       "      <th>155</th>\n",
       "      <th>156</th>\n",
       "      <th>157</th>\n",
       "      <th>158</th>\n",
       "      <th>159</th>\n",
       "      <th>160</th>\n",
       "      <th>161</th>\n",
       "    </tr>\n",
       "  </thead>\n",
       "  <tbody>\n",
       "    <tr>\n",
       "      <th>0</th>\n",
       "      <td>1</td>\n",
       "      <td>0</td>\n",
       "      <td>0</td>\n",
       "      <td>0</td>\n",
       "      <td>0</td>\n",
       "      <td>0</td>\n",
       "      <td>0</td>\n",
       "      <td>0</td>\n",
       "      <td>0</td>\n",
       "      <td>0</td>\n",
       "      <td>...</td>\n",
       "      <td>0</td>\n",
       "      <td>0</td>\n",
       "      <td>0</td>\n",
       "      <td>0</td>\n",
       "      <td>0</td>\n",
       "      <td>0</td>\n",
       "      <td>0</td>\n",
       "      <td>0</td>\n",
       "      <td>0</td>\n",
       "      <td>0</td>\n",
       "    </tr>\n",
       "    <tr>\n",
       "      <th>2</th>\n",
       "      <td>0</td>\n",
       "      <td>0</td>\n",
       "      <td>1</td>\n",
       "      <td>0</td>\n",
       "      <td>0</td>\n",
       "      <td>0</td>\n",
       "      <td>0</td>\n",
       "      <td>0</td>\n",
       "      <td>0</td>\n",
       "      <td>0</td>\n",
       "      <td>...</td>\n",
       "      <td>0</td>\n",
       "      <td>0</td>\n",
       "      <td>0</td>\n",
       "      <td>0</td>\n",
       "      <td>0</td>\n",
       "      <td>0</td>\n",
       "      <td>0</td>\n",
       "      <td>0</td>\n",
       "      <td>0</td>\n",
       "      <td>0</td>\n",
       "    </tr>\n",
       "    <tr>\n",
       "      <th>3</th>\n",
       "      <td>0</td>\n",
       "      <td>0</td>\n",
       "      <td>0</td>\n",
       "      <td>1</td>\n",
       "      <td>0</td>\n",
       "      <td>0</td>\n",
       "      <td>0</td>\n",
       "      <td>0</td>\n",
       "      <td>0</td>\n",
       "      <td>0</td>\n",
       "      <td>...</td>\n",
       "      <td>0</td>\n",
       "      <td>0</td>\n",
       "      <td>0</td>\n",
       "      <td>0</td>\n",
       "      <td>0</td>\n",
       "      <td>0</td>\n",
       "      <td>0</td>\n",
       "      <td>0</td>\n",
       "      <td>0</td>\n",
       "      <td>0</td>\n",
       "    </tr>\n",
       "    <tr>\n",
       "      <th>5</th>\n",
       "      <td>0</td>\n",
       "      <td>0</td>\n",
       "      <td>0</td>\n",
       "      <td>0</td>\n",
       "      <td>0</td>\n",
       "      <td>1</td>\n",
       "      <td>0</td>\n",
       "      <td>0</td>\n",
       "      <td>0</td>\n",
       "      <td>0</td>\n",
       "      <td>...</td>\n",
       "      <td>0</td>\n",
       "      <td>0</td>\n",
       "      <td>0</td>\n",
       "      <td>0</td>\n",
       "      <td>0</td>\n",
       "      <td>0</td>\n",
       "      <td>0</td>\n",
       "      <td>0</td>\n",
       "      <td>0</td>\n",
       "      <td>0</td>\n",
       "    </tr>\n",
       "    <tr>\n",
       "      <th>6</th>\n",
       "      <td>0</td>\n",
       "      <td>0</td>\n",
       "      <td>0</td>\n",
       "      <td>0</td>\n",
       "      <td>0</td>\n",
       "      <td>0</td>\n",
       "      <td>1</td>\n",
       "      <td>0</td>\n",
       "      <td>0</td>\n",
       "      <td>0</td>\n",
       "      <td>...</td>\n",
       "      <td>0</td>\n",
       "      <td>0</td>\n",
       "      <td>0</td>\n",
       "      <td>0</td>\n",
       "      <td>0</td>\n",
       "      <td>0</td>\n",
       "      <td>0</td>\n",
       "      <td>0</td>\n",
       "      <td>0</td>\n",
       "      <td>0</td>\n",
       "    </tr>\n",
       "  </tbody>\n",
       "</table>\n",
       "<p>5 rows × 161 columns</p>\n",
       "</div>"
      ],
      "text/plain": [
       "   1    2    3    4    5    6    7    8    9    10   ...  152  153  154  155  \\\n",
       "0    1    0    0    0    0    0    0    0    0    0  ...    0    0    0    0   \n",
       "2    0    0    1    0    0    0    0    0    0    0  ...    0    0    0    0   \n",
       "3    0    0    0    1    0    0    0    0    0    0  ...    0    0    0    0   \n",
       "5    0    0    0    0    0    1    0    0    0    0  ...    0    0    0    0   \n",
       "6    0    0    0    0    0    0    1    0    0    0  ...    0    0    0    0   \n",
       "\n",
       "   156  157  158  159  160  161  \n",
       "0    0    0    0    0    0    0  \n",
       "2    0    0    0    0    0    0  \n",
       "3    0    0    0    0    0    0  \n",
       "5    0    0    0    0    0    0  \n",
       "6    0    0    0    0    0    0  \n",
       "\n",
       "[5 rows x 161 columns]"
      ]
     },
     "execution_count": 84,
     "metadata": {},
     "output_type": "execute_result"
    }
   ],
   "source": [
    "Rubros_1_dummies2.head()"
   ]
  },
  {
   "cell_type": "code",
   "execution_count": 85,
   "metadata": {},
   "outputs": [
    {
     "data": {
      "text/plain": [
       "(2728, 161)"
      ]
     },
     "execution_count": 85,
     "metadata": {},
     "output_type": "execute_result"
    }
   ],
   "source": [
    "Rubros_1_dummies2.shape"
   ]
  },
  {
   "cell_type": "markdown",
   "metadata": {},
   "source": [
    "CONCATENO"
   ]
  },
  {
   "cell_type": "code",
   "execution_count": 86,
   "metadata": {},
   "outputs": [],
   "source": [
    "Rubros_new = pd.concat ([Rubros_1,Rubros_1_dummies2,Rubros_1_dummies], axis=1)"
   ]
  },
  {
   "cell_type": "code",
   "execution_count": 87,
   "metadata": {},
   "outputs": [
    {
     "data": {
      "text/html": [
       "<div>\n",
       "<style scoped>\n",
       "    .dataframe tbody tr th:only-of-type {\n",
       "        vertical-align: middle;\n",
       "    }\n",
       "\n",
       "    .dataframe tbody tr th {\n",
       "        vertical-align: top;\n",
       "    }\n",
       "\n",
       "    .dataframe thead th {\n",
       "        text-align: right;\n",
       "    }\n",
       "</style>\n",
       "<table border=\"1\" class=\"dataframe\">\n",
       "  <thead>\n",
       "    <tr style=\"text-align: right;\">\n",
       "      <th></th>\n",
       "      <th>MOC_RUBROS_ID</th>\n",
       "      <th>MOC_ZONAS_ID</th>\n",
       "      <th>RUBRO</th>\n",
       "      <th>NIVEL_RIESGO</th>\n",
       "      <th>FACTURACION_PROM_ACTUAL</th>\n",
       "      <th>INDICE_CRECIMIENTO</th>\n",
       "      <th>INDICE_ESTABILIDAD</th>\n",
       "      <th>INDICE_APERTURA</th>\n",
       "      <th>INDICE_CIERRE</th>\n",
       "      <th>INDICE_SUPERVIVENCIA</th>\n",
       "      <th>...</th>\n",
       "      <th>INSUMOS PARA EL HOGAR</th>\n",
       "      <th>KIOSCOS Y LOTERIAS</th>\n",
       "      <th>MUSICA Y LIBRERIA</th>\n",
       "      <th>OPTICA Y JOYERIAS</th>\n",
       "      <th>PANADERIAS</th>\n",
       "      <th>RESTAURANTES</th>\n",
       "      <th>SALUD Y COSMETICA</th>\n",
       "      <th>SUPERMERCADOS Y ALMACENES</th>\n",
       "      <th>TRATAMIENTOS ESTETICOS</th>\n",
       "      <th>VETERINARIA</th>\n",
       "    </tr>\n",
       "  </thead>\n",
       "  <tbody>\n",
       "    <tr>\n",
       "      <th>0</th>\n",
       "      <td>1</td>\n",
       "      <td>1</td>\n",
       "      <td>INSUMOS PARA EL HOGAR</td>\n",
       "      <td>5.0</td>\n",
       "      <td>1.0</td>\n",
       "      <td>3.0</td>\n",
       "      <td>1.0</td>\n",
       "      <td>0.0</td>\n",
       "      <td>16.67</td>\n",
       "      <td>0.000000</td>\n",
       "      <td>...</td>\n",
       "      <td>1</td>\n",
       "      <td>0</td>\n",
       "      <td>0</td>\n",
       "      <td>0</td>\n",
       "      <td>0</td>\n",
       "      <td>0</td>\n",
       "      <td>0</td>\n",
       "      <td>0</td>\n",
       "      <td>0</td>\n",
       "      <td>0</td>\n",
       "    </tr>\n",
       "    <tr>\n",
       "      <th>2</th>\n",
       "      <td>3</td>\n",
       "      <td>3</td>\n",
       "      <td>INSUMOS PARA EL HOGAR</td>\n",
       "      <td>1.0</td>\n",
       "      <td>4.0</td>\n",
       "      <td>4.0</td>\n",
       "      <td>2.0</td>\n",
       "      <td>0.0</td>\n",
       "      <td>0.00</td>\n",
       "      <td>100.000000</td>\n",
       "      <td>...</td>\n",
       "      <td>1</td>\n",
       "      <td>0</td>\n",
       "      <td>0</td>\n",
       "      <td>0</td>\n",
       "      <td>0</td>\n",
       "      <td>0</td>\n",
       "      <td>0</td>\n",
       "      <td>0</td>\n",
       "      <td>0</td>\n",
       "      <td>0</td>\n",
       "    </tr>\n",
       "    <tr>\n",
       "      <th>3</th>\n",
       "      <td>4</td>\n",
       "      <td>4</td>\n",
       "      <td>INSUMOS PARA EL HOGAR</td>\n",
       "      <td>1.0</td>\n",
       "      <td>2.0</td>\n",
       "      <td>4.0</td>\n",
       "      <td>4.0</td>\n",
       "      <td>0.0</td>\n",
       "      <td>0.00</td>\n",
       "      <td>100.000000</td>\n",
       "      <td>...</td>\n",
       "      <td>1</td>\n",
       "      <td>0</td>\n",
       "      <td>0</td>\n",
       "      <td>0</td>\n",
       "      <td>0</td>\n",
       "      <td>0</td>\n",
       "      <td>0</td>\n",
       "      <td>0</td>\n",
       "      <td>0</td>\n",
       "      <td>0</td>\n",
       "    </tr>\n",
       "    <tr>\n",
       "      <th>5</th>\n",
       "      <td>6</td>\n",
       "      <td>6</td>\n",
       "      <td>INSUMOS PARA EL HOGAR</td>\n",
       "      <td>4.0</td>\n",
       "      <td>5.0</td>\n",
       "      <td>4.0</td>\n",
       "      <td>5.0</td>\n",
       "      <td>0.0</td>\n",
       "      <td>0.00</td>\n",
       "      <td>0.000000</td>\n",
       "      <td>...</td>\n",
       "      <td>1</td>\n",
       "      <td>0</td>\n",
       "      <td>0</td>\n",
       "      <td>0</td>\n",
       "      <td>0</td>\n",
       "      <td>0</td>\n",
       "      <td>0</td>\n",
       "      <td>0</td>\n",
       "      <td>0</td>\n",
       "      <td>0</td>\n",
       "    </tr>\n",
       "    <tr>\n",
       "      <th>6</th>\n",
       "      <td>7</td>\n",
       "      <td>7</td>\n",
       "      <td>INSUMOS PARA EL HOGAR</td>\n",
       "      <td>1.0</td>\n",
       "      <td>5.0</td>\n",
       "      <td>4.0</td>\n",
       "      <td>5.0</td>\n",
       "      <td>0.0</td>\n",
       "      <td>0.00</td>\n",
       "      <td>86.168392</td>\n",
       "      <td>...</td>\n",
       "      <td>1</td>\n",
       "      <td>0</td>\n",
       "      <td>0</td>\n",
       "      <td>0</td>\n",
       "      <td>0</td>\n",
       "      <td>0</td>\n",
       "      <td>0</td>\n",
       "      <td>0</td>\n",
       "      <td>0</td>\n",
       "      <td>0</td>\n",
       "    </tr>\n",
       "  </tbody>\n",
       "</table>\n",
       "<p>5 rows × 196 columns</p>\n",
       "</div>"
      ],
      "text/plain": [
       "   MOC_RUBROS_ID  MOC_ZONAS_ID                  RUBRO  NIVEL_RIESGO  \\\n",
       "0              1             1  INSUMOS PARA EL HOGAR           5.0   \n",
       "2              3             3  INSUMOS PARA EL HOGAR           1.0   \n",
       "3              4             4  INSUMOS PARA EL HOGAR           1.0   \n",
       "5              6             6  INSUMOS PARA EL HOGAR           4.0   \n",
       "6              7             7  INSUMOS PARA EL HOGAR           1.0   \n",
       "\n",
       "   FACTURACION_PROM_ACTUAL  INDICE_CRECIMIENTO  INDICE_ESTABILIDAD  \\\n",
       "0                      1.0                 3.0                 1.0   \n",
       "2                      4.0                 4.0                 2.0   \n",
       "3                      2.0                 4.0                 4.0   \n",
       "5                      5.0                 4.0                 5.0   \n",
       "6                      5.0                 4.0                 5.0   \n",
       "\n",
       "   INDICE_APERTURA  INDICE_CIERRE  INDICE_SUPERVIVENCIA  ...  \\\n",
       "0              0.0          16.67              0.000000  ...   \n",
       "2              0.0           0.00            100.000000  ...   \n",
       "3              0.0           0.00            100.000000  ...   \n",
       "5              0.0           0.00              0.000000  ...   \n",
       "6              0.0           0.00             86.168392  ...   \n",
       "\n",
       "   INSUMOS PARA EL HOGAR  KIOSCOS Y LOTERIAS  MUSICA Y LIBRERIA  \\\n",
       "0                      1                   0                  0   \n",
       "2                      1                   0                  0   \n",
       "3                      1                   0                  0   \n",
       "5                      1                   0                  0   \n",
       "6                      1                   0                  0   \n",
       "\n",
       "   OPTICA Y JOYERIAS  PANADERIAS  RESTAURANTES  SALUD Y COSMETICA  \\\n",
       "0                  0           0             0                  0   \n",
       "2                  0           0             0                  0   \n",
       "3                  0           0             0                  0   \n",
       "5                  0           0             0                  0   \n",
       "6                  0           0             0                  0   \n",
       "\n",
       "   SUPERMERCADOS Y ALMACENES  TRATAMIENTOS ESTETICOS  VETERINARIA  \n",
       "0                          0                       0            0  \n",
       "2                          0                       0            0  \n",
       "3                          0                       0            0  \n",
       "5                          0                       0            0  \n",
       "6                          0                       0            0  \n",
       "\n",
       "[5 rows x 196 columns]"
      ]
     },
     "execution_count": 87,
     "metadata": {},
     "output_type": "execute_result"
    }
   ],
   "source": [
    "Rubros_new.head()"
   ]
  },
  {
   "cell_type": "code",
   "execution_count": 88,
   "metadata": {},
   "outputs": [],
   "source": [
    "Rubros_new1 =Rubros_new.drop(['MOC_RUBROS_ID', 'MOC_ZONAS_ID','RUBRO'], axis=1)"
   ]
  },
  {
   "cell_type": "code",
   "execution_count": 149,
   "metadata": {},
   "outputs": [
    {
     "data": {
      "text/html": [
       "<div>\n",
       "<style scoped>\n",
       "    .dataframe tbody tr th:only-of-type {\n",
       "        vertical-align: middle;\n",
       "    }\n",
       "\n",
       "    .dataframe tbody tr th {\n",
       "        vertical-align: top;\n",
       "    }\n",
       "\n",
       "    .dataframe thead th {\n",
       "        text-align: right;\n",
       "    }\n",
       "</style>\n",
       "<table border=\"1\" class=\"dataframe\">\n",
       "  <thead>\n",
       "    <tr style=\"text-align: right;\">\n",
       "      <th></th>\n",
       "      <th>NIVEL_RIESGO</th>\n",
       "      <th>FACTURACION_PROM_ACTUAL</th>\n",
       "      <th>INDICE_CRECIMIENTO</th>\n",
       "      <th>INDICE_ESTABILIDAD</th>\n",
       "      <th>INDICE_APERTURA</th>\n",
       "      <th>INDICE_CIERRE</th>\n",
       "      <th>INDICE_SUPERVIVENCIA</th>\n",
       "      <th>SUP_MENOS_1</th>\n",
       "      <th>SUP_ENTRE_1_Y_2</th>\n",
       "      <th>SUP_ENTRE_2_Y_3</th>\n",
       "      <th>...</th>\n",
       "      <th>INSUMOS PARA EL HOGAR</th>\n",
       "      <th>KIOSCOS Y LOTERIAS</th>\n",
       "      <th>MUSICA Y LIBRERIA</th>\n",
       "      <th>OPTICA Y JOYERIAS</th>\n",
       "      <th>PANADERIAS</th>\n",
       "      <th>RESTAURANTES</th>\n",
       "      <th>SALUD Y COSMETICA</th>\n",
       "      <th>SUPERMERCADOS Y ALMACENES</th>\n",
       "      <th>TRATAMIENTOS ESTETICOS</th>\n",
       "      <th>VETERINARIA</th>\n",
       "    </tr>\n",
       "  </thead>\n",
       "  <tbody>\n",
       "    <tr>\n",
       "      <th>0</th>\n",
       "      <td>5.0</td>\n",
       "      <td>1.0</td>\n",
       "      <td>3.0</td>\n",
       "      <td>1.0</td>\n",
       "      <td>0.0</td>\n",
       "      <td>16.67</td>\n",
       "      <td>0.000000</td>\n",
       "      <td>0.0</td>\n",
       "      <td>10.00</td>\n",
       "      <td>45.00</td>\n",
       "      <td>...</td>\n",
       "      <td>1</td>\n",
       "      <td>0</td>\n",
       "      <td>0</td>\n",
       "      <td>0</td>\n",
       "      <td>0</td>\n",
       "      <td>0</td>\n",
       "      <td>0</td>\n",
       "      <td>0</td>\n",
       "      <td>0</td>\n",
       "      <td>0</td>\n",
       "    </tr>\n",
       "    <tr>\n",
       "      <th>2</th>\n",
       "      <td>1.0</td>\n",
       "      <td>4.0</td>\n",
       "      <td>4.0</td>\n",
       "      <td>2.0</td>\n",
       "      <td>0.0</td>\n",
       "      <td>0.00</td>\n",
       "      <td>100.000000</td>\n",
       "      <td>0.0</td>\n",
       "      <td>18.18</td>\n",
       "      <td>27.27</td>\n",
       "      <td>...</td>\n",
       "      <td>1</td>\n",
       "      <td>0</td>\n",
       "      <td>0</td>\n",
       "      <td>0</td>\n",
       "      <td>0</td>\n",
       "      <td>0</td>\n",
       "      <td>0</td>\n",
       "      <td>0</td>\n",
       "      <td>0</td>\n",
       "      <td>0</td>\n",
       "    </tr>\n",
       "    <tr>\n",
       "      <th>3</th>\n",
       "      <td>1.0</td>\n",
       "      <td>2.0</td>\n",
       "      <td>4.0</td>\n",
       "      <td>4.0</td>\n",
       "      <td>0.0</td>\n",
       "      <td>0.00</td>\n",
       "      <td>100.000000</td>\n",
       "      <td>0.0</td>\n",
       "      <td>0.00</td>\n",
       "      <td>0.00</td>\n",
       "      <td>...</td>\n",
       "      <td>1</td>\n",
       "      <td>0</td>\n",
       "      <td>0</td>\n",
       "      <td>0</td>\n",
       "      <td>0</td>\n",
       "      <td>0</td>\n",
       "      <td>0</td>\n",
       "      <td>0</td>\n",
       "      <td>0</td>\n",
       "      <td>0</td>\n",
       "    </tr>\n",
       "    <tr>\n",
       "      <th>5</th>\n",
       "      <td>4.0</td>\n",
       "      <td>5.0</td>\n",
       "      <td>4.0</td>\n",
       "      <td>5.0</td>\n",
       "      <td>0.0</td>\n",
       "      <td>0.00</td>\n",
       "      <td>0.000000</td>\n",
       "      <td>0.0</td>\n",
       "      <td>18.18</td>\n",
       "      <td>0.00</td>\n",
       "      <td>...</td>\n",
       "      <td>1</td>\n",
       "      <td>0</td>\n",
       "      <td>0</td>\n",
       "      <td>0</td>\n",
       "      <td>0</td>\n",
       "      <td>0</td>\n",
       "      <td>0</td>\n",
       "      <td>0</td>\n",
       "      <td>0</td>\n",
       "      <td>0</td>\n",
       "    </tr>\n",
       "    <tr>\n",
       "      <th>6</th>\n",
       "      <td>1.0</td>\n",
       "      <td>5.0</td>\n",
       "      <td>4.0</td>\n",
       "      <td>5.0</td>\n",
       "      <td>0.0</td>\n",
       "      <td>0.00</td>\n",
       "      <td>86.168392</td>\n",
       "      <td>0.0</td>\n",
       "      <td>11.11</td>\n",
       "      <td>0.00</td>\n",
       "      <td>...</td>\n",
       "      <td>1</td>\n",
       "      <td>0</td>\n",
       "      <td>0</td>\n",
       "      <td>0</td>\n",
       "      <td>0</td>\n",
       "      <td>0</td>\n",
       "      <td>0</td>\n",
       "      <td>0</td>\n",
       "      <td>0</td>\n",
       "      <td>0</td>\n",
       "    </tr>\n",
       "  </tbody>\n",
       "</table>\n",
       "<p>5 rows × 193 columns</p>\n",
       "</div>"
      ],
      "text/plain": [
       "   NIVEL_RIESGO  FACTURACION_PROM_ACTUAL  INDICE_CRECIMIENTO  \\\n",
       "0           5.0                      1.0                 3.0   \n",
       "2           1.0                      4.0                 4.0   \n",
       "3           1.0                      2.0                 4.0   \n",
       "5           4.0                      5.0                 4.0   \n",
       "6           1.0                      5.0                 4.0   \n",
       "\n",
       "   INDICE_ESTABILIDAD  INDICE_APERTURA  INDICE_CIERRE  INDICE_SUPERVIVENCIA  \\\n",
       "0                 1.0              0.0          16.67              0.000000   \n",
       "2                 2.0              0.0           0.00            100.000000   \n",
       "3                 4.0              0.0           0.00            100.000000   \n",
       "5                 5.0              0.0           0.00              0.000000   \n",
       "6                 5.0              0.0           0.00             86.168392   \n",
       "\n",
       "   SUP_MENOS_1  SUP_ENTRE_1_Y_2  SUP_ENTRE_2_Y_3  ...  INSUMOS PARA EL HOGAR  \\\n",
       "0          0.0            10.00            45.00  ...                      1   \n",
       "2          0.0            18.18            27.27  ...                      1   \n",
       "3          0.0             0.00             0.00  ...                      1   \n",
       "5          0.0            18.18             0.00  ...                      1   \n",
       "6          0.0            11.11             0.00  ...                      1   \n",
       "\n",
       "   KIOSCOS Y LOTERIAS  MUSICA Y LIBRERIA  OPTICA Y JOYERIAS  PANADERIAS  \\\n",
       "0                   0                  0                  0           0   \n",
       "2                   0                  0                  0           0   \n",
       "3                   0                  0                  0           0   \n",
       "5                   0                  0                  0           0   \n",
       "6                   0                  0                  0           0   \n",
       "\n",
       "   RESTAURANTES  SALUD Y COSMETICA  SUPERMERCADOS Y ALMACENES  \\\n",
       "0             0                  0                          0   \n",
       "2             0                  0                          0   \n",
       "3             0                  0                          0   \n",
       "5             0                  0                          0   \n",
       "6             0                  0                          0   \n",
       "\n",
       "   TRATAMIENTOS ESTETICOS  VETERINARIA  \n",
       "0                       0            0  \n",
       "2                       0            0  \n",
       "3                       0            0  \n",
       "5                       0            0  \n",
       "6                       0            0  \n",
       "\n",
       "[5 rows x 193 columns]"
      ]
     },
     "execution_count": 149,
     "metadata": {},
     "output_type": "execute_result"
    }
   ],
   "source": [
    "Rubros_new1.head()"
   ]
  },
  {
   "cell_type": "markdown",
   "metadata": {},
   "source": [
    "## **PREPROCESSING: AUTOSCALING (RUBROS) :**"
   ]
  },
  {
   "cell_type": "code",
   "execution_count": 150,
   "metadata": {},
   "outputs": [
    {
     "data": {
      "text/plain": [
       "StandardScaler(copy=True, with_mean=True, with_std=True)"
      ]
     },
     "execution_count": 150,
     "metadata": {},
     "output_type": "execute_result"
    }
   ],
   "source": [
    "# Step 4: auto scaling train- set (mean = 0, std = 1)\n",
    "scaler = preprocessing.StandardScaler().fit(Rubros_new1)\n",
    "scaler"
   ]
  },
  {
   "cell_type": "code",
   "execution_count": 151,
   "metadata": {},
   "outputs": [],
   "source": [
    "x_scal = scaler.transform(Rubros_new1)  "
   ]
  },
  {
   "cell_type": "code",
   "execution_count": 152,
   "metadata": {},
   "outputs": [
    {
     "name": "stdout",
     "output_type": "stream",
     "text": [
      "[ 1.97951789e-16 -2.08370304e-17 -5.20925759e-18 -6.35529426e-16\n",
      " -4.42786895e-17  6.77203487e-17  2.34416592e-16  2.34416592e-17\n",
      " -5.20925759e-18 -2.60462880e-17  8.59527503e-17 -8.33481215e-17\n",
      "  7.29296063e-17  2.08370304e-17 -1.43254584e-17 -1.30231440e-17\n",
      "  1.56277728e-17 -9.76735799e-18  1.30231440e-18 -2.60462880e-18\n",
      " -1.17208296e-17  2.60462880e-18 -1.69300872e-17 -7.81388639e-18\n",
      "  2.57207094e-17 -2.14881876e-17  1.82324016e-17  2.63718666e-17\n",
      "  2.60462880e-17 -1.49766156e-17 -1.43254584e-17 -2.08370304e-17\n",
      " -1.56277728e-17 -1.69300872e-17 -1.69300872e-17 -2.14881876e-17\n",
      " -2.14881876e-17 -2.14881876e-17 -7.81388639e-18 -1.69300872e-17\n",
      " -1.69300872e-17 -1.69300872e-17 -6.51157199e-18 -1.75812444e-17\n",
      " -1.75812444e-17 -1.88835588e-17 -1.75812444e-17 -1.75812444e-17\n",
      " -1.88835588e-17 -2.01858732e-17  1.30231440e-17 -2.40928164e-17\n",
      " -1.82324016e-17 -1.95347160e-17 -1.88835588e-17 -9.76735799e-18\n",
      " -1.95347160e-17 -9.76735799e-18 -2.05114518e-17 -1.82324016e-17\n",
      " -1.82324016e-17 -7.81388639e-18 -1.82324016e-17  2.66974452e-17\n",
      " -1.82324016e-17 -2.11626090e-17 -2.14881876e-17 -2.08370304e-17\n",
      " -2.01858732e-17 -1.69300872e-17 -1.98602946e-17 -1.69300872e-17\n",
      " -1.69300872e-17 -1.69300872e-17 -1.69300872e-17 -6.83715059e-18\n",
      " -1.95347160e-17 -1.75812444e-17 -1.75812444e-17 -1.82324016e-17\n",
      " -1.69300872e-17  2.47439736e-17 -1.69300872e-17 -7.48830779e-18\n",
      " -1.85579802e-17 -1.69300872e-17 -1.82324016e-17 -1.75812444e-17\n",
      " -2.14881876e-17 -1.79068230e-17 -1.46510370e-17 -1.39998798e-17\n",
      " -1.39998798e-17 -1.39998798e-17 -1.39998798e-17 -1.56277728e-17\n",
      " -1.56277728e-17 -1.49766156e-17 -1.95347160e-17  1.43254584e-17\n",
      " -1.66045086e-17 -1.82324016e-17 -1.82324016e-17 -1.66045086e-17\n",
      " -1.82324016e-17 -1.82324016e-17 -1.82324016e-17 -1.66045086e-17\n",
      " -1.66045086e-17 -1.62789300e-17 -1.53021942e-17 -7.16272919e-18\n",
      " -1.56277728e-17 -1.69300872e-17 -1.62789300e-17 -1.62789300e-17\n",
      " -1.66045086e-17 -1.75812444e-17 -1.95347160e-17 -1.82324016e-17\n",
      " -1.85579802e-17 -1.53021942e-17 -6.83715059e-18 -1.53021942e-17\n",
      " -1.92091374e-17 -1.62789300e-17 -1.88835588e-17 -1.92091374e-17\n",
      " -1.92091374e-17 -1.59533514e-17 -1.46510370e-17 -1.39998798e-17\n",
      "  2.47439736e-17 -1.39998798e-17 -7.16272919e-18 -1.49766156e-17\n",
      " -1.66045086e-17 -2.11626090e-17 -1.66045086e-17 -1.66045086e-17\n",
      " -2.18137662e-17 -7.81388639e-18 -1.66045086e-17 -1.66045086e-17\n",
      " -1.66045086e-17 -2.18137662e-17 -1.59533514e-17 -1.66045086e-17\n",
      " -1.66045086e-17 -3.90694320e-18 -1.59533514e-17 -1.98602946e-17\n",
      " -1.53021942e-17 -1.53021942e-17 -1.59533514e-17 -1.53021942e-17\n",
      " -2.05114518e-17 -2.31160806e-17 -1.69300872e-17 -1.69300872e-17\n",
      " -1.56277728e-17 -8.13946499e-18 -1.49766156e-17 -1.49766156e-17\n",
      " -1.49766156e-17 -1.49766156e-17 -1.92091374e-17 -1.53021942e-17\n",
      " -1.39998798e-17 -1.39998798e-17 -2.14881876e-17 -1.39998798e-17\n",
      " -8.79062219e-18 -1.39998798e-17 -2.01858732e-17 -4.16740607e-17\n",
      "  1.45859213e-16  2.08370304e-17  1.04185152e-16  4.16740607e-17\n",
      "  4.16740607e-17  2.08370304e-17 -6.25110911e-17  4.16740607e-17\n",
      "  6.25110911e-17  8.33481215e-17  4.16740607e-17  4.16740607e-17\n",
      "  2.08370304e-17  2.08370304e-17  6.25110911e-17 -2.08370304e-17\n",
      " -2.08370304e-17]\n",
      "[1. 1. 1. 1. 1. 1. 1. 1. 1. 1. 1. 1. 1. 1. 1. 1. 1. 1. 1. 1. 1. 1. 1. 1.\n",
      " 1. 1. 1. 1. 1. 1. 1. 1. 1. 1. 1. 1. 1. 1. 1. 1. 1. 1. 1. 1. 1. 1. 1. 1.\n",
      " 1. 1. 1. 1. 1. 1. 1. 1. 1. 1. 1. 1. 1. 1. 1. 1. 1. 1. 1. 1. 1. 1. 1. 1.\n",
      " 1. 1. 1. 1. 1. 1. 1. 1. 1. 1. 1. 1. 1. 1. 1. 1. 1. 1. 1. 1. 1. 1. 1. 1.\n",
      " 1. 1. 1. 1. 1. 1. 1. 1. 1. 1. 1. 1. 1. 1. 1. 1. 1. 1. 1. 1. 1. 1. 1. 1.\n",
      " 1. 1. 1. 1. 1. 1. 1. 1. 1. 1. 1. 1. 1. 1. 1. 1. 1. 1. 1. 1. 1. 1. 1. 1.\n",
      " 1. 1. 1. 1. 1. 1. 1. 1. 1. 1. 1. 1. 1. 1. 1. 1. 1. 1. 1. 1. 1. 1. 1. 1.\n",
      " 1. 1. 1. 1. 1. 1. 1. 1. 1. 1. 1. 1. 1. 1. 1. 1. 1. 1. 1. 1. 1. 1. 1. 1.\n",
      " 1.]\n"
     ]
    }
   ],
   "source": [
    "print (x_scal.mean(axis=0))\n",
    "print (x_scal.std(axis=0))\n",
    "\n",
    "#Se verifica que el x train tenga media = 0 y desvío igual a 1"
   ]
  },
  {
   "cell_type": "markdown",
   "metadata": {},
   "source": [
    "## **CLUSTERING (SIN PCA) :**"
   ]
  },
  {
   "cell_type": "code",
   "execution_count": 153,
   "metadata": {},
   "outputs": [],
   "source": [
    "from sklearn.cluster import KMeans\n",
    "from scipy.cluster.hierarchy import dendrogram, linkage \n",
    "from sklearn.cluster import AgglomerativeClustering\n",
    "from sklearn import metrics"
   ]
  },
  {
   "cell_type": "code",
   "execution_count": 154,
   "metadata": {},
   "outputs": [],
   "source": [
    "kmeans = KMeans(n_clusters=5, random_state=6).fit(x_scal)"
   ]
  },
  {
   "cell_type": "code",
   "execution_count": 155,
   "metadata": {},
   "outputs": [
    {
     "data": {
      "text/plain": [
       "array([2, 3, 1, ..., 3, 1, 2], dtype=int32)"
      ]
     },
     "execution_count": 155,
     "metadata": {},
     "output_type": "execute_result"
    }
   ],
   "source": [
    "kmeans.labels_"
   ]
  },
  {
   "cell_type": "code",
   "execution_count": 156,
   "metadata": {},
   "outputs": [
    {
     "data": {
      "text/plain": [
       "array([[ 2.53860230e-01,  6.37785637e-01, -5.77595056e-01,\n",
       "         4.65679830e-01, -2.15625457e-01,  7.90911664e-03,\n",
       "        -2.17760758e-03, -1.65267779e-01, -1.90040563e-01,\n",
       "        -1.18088909e-01, -1.91653128e-01, -2.26784042e-02,\n",
       "         3.70640558e-01,  1.49962107e+00, -5.72214315e-03,\n",
       "        -6.06562104e-02, -4.67023599e-02, -2.72152396e-02,\n",
       "        -3.31800758e-02,  1.40371298e-02, -1.22882951e-03,\n",
       "        -1.91494997e-02, -5.62399635e-02,  3.53418116e-03,\n",
       "         8.60653432e-03, -5.32016496e-02,  8.60653432e-03,\n",
       "        -3.13588196e-02, -1.90479128e-02, -5.72214315e-03,\n",
       "        -3.09810533e-02, -5.32016496e-02,  1.95367671e-02,\n",
       "        -5.72214315e-03, -5.72214315e-03,  2.47575806e-02,\n",
       "        -1.22882951e-03, -1.22882951e-03,  3.53418116e-03,\n",
       "        -5.72214315e-03, -5.72214315e-03,  1.95367671e-02,\n",
       "        -2.32470583e-02,  1.95367671e-02, -5.72214315e-03,\n",
       "        -2.72152396e-02,  1.95367671e-02,  1.95367671e-02,\n",
       "        -5.72214315e-03, -1.22882951e-03, -9.80752308e-03,\n",
       "        -6.64700094e-02, -3.09810533e-02, -1.22882951e-03,\n",
       "        -5.72214315e-03, -5.00282978e-02, -5.72214315e-03,\n",
       "        -2.32470583e-02, -2.72152396e-02, -5.72214315e-03,\n",
       "        -3.09810533e-02,  3.03154206e-02, -5.62399635e-02,\n",
       "        -1.90479128e-02,  9.53134976e-02, -1.22882951e-03,\n",
       "        -1.22882951e-03, -1.22882951e-03, -1.22882951e-03,\n",
       "        -3.09810533e-02, -5.32016496e-02, -5.72214315e-03,\n",
       "        -5.72214315e-03,  2.72125869e-01,  1.95367671e-02,\n",
       "        -5.00282978e-02, -2.72152396e-02, -5.62399635e-02,\n",
       "        -5.72214315e-03,  9.53134976e-02,  1.95367671e-02,\n",
       "         6.39154286e-02,  1.95367671e-02, -2.32470583e-02,\n",
       "        -1.22882951e-03,  1.95367671e-02, -5.72214315e-03,\n",
       "        -5.72214315e-03,  1.40371298e-02, -1.22882951e-03,\n",
       "         4.47956772e-02,  1.95367671e-02,  1.95367671e-02,\n",
       "         1.95367671e-02, -5.62399635e-02,  1.95367671e-02,\n",
       "        -5.72214315e-03,  1.95367671e-02,  2.47575806e-02,\n",
       "        -5.75329510e-02,  1.95367671e-02,  2.47575806e-02,\n",
       "        -1.22882951e-03,  1.95367671e-02, -5.32016496e-02,\n",
       "        -1.22882951e-03, -7.91880597e-02,  1.95367671e-02,\n",
       "         1.95367671e-02,  2.47575806e-02, -3.09810533e-02,\n",
       "        -2.32470583e-02, -2.72152396e-02, -2.72152396e-02,\n",
       "        -5.72214315e-03,  1.95367671e-02, -5.72214315e-03,\n",
       "        -5.72214315e-03, -1.22882951e-03,  1.95367671e-02,\n",
       "        -2.72152396e-02, -5.72214315e-03, -2.32470583e-02,\n",
       "        -5.72214315e-03, -1.22882951e-03,  1.95367671e-02,\n",
       "        -1.22882951e-03,  2.47575806e-02, -2.72152396e-02,\n",
       "         1.95367671e-02, -5.72214315e-03,  2.72125869e-01,\n",
       "         8.60653432e-03, -5.62399635e-02, -2.32470583e-02,\n",
       "        -5.72214315e-03, -5.72214315e-03, -5.32016496e-02,\n",
       "        -5.72214315e-03,  1.95367671e-02, -1.22882951e-03,\n",
       "         3.53418116e-03,  1.95367671e-02,  1.95367671e-02,\n",
       "        -5.72214315e-03, -2.72152396e-02, -3.09810533e-02,\n",
       "        -3.09810533e-02, -5.72214315e-03, -1.45826684e-02,\n",
       "        -5.72214315e-03, -2.72152396e-02, -5.72214315e-03,\n",
       "         9.53134976e-02,  2.72125869e-01,  1.95367671e-02,\n",
       "        -1.22882951e-03, -1.22882951e-03, -3.09810533e-02,\n",
       "         1.95367671e-02, -5.72214315e-03,  3.53418116e-03,\n",
       "        -5.72214315e-03, -3.09810533e-02,  1.95367671e-02,\n",
       "        -5.72214315e-03, -2.72152396e-02, -5.72214315e-03,\n",
       "        -5.72214315e-03, -3.09810533e-02, -2.72152396e-02,\n",
       "         1.95367671e-02,  2.47575806e-02,  1.95367671e-02,\n",
       "        -5.32016496e-02, -1.86366124e-01, -2.11991573e-01,\n",
       "        -2.04175371e-01, -2.39194101e-01, -2.37471483e-01,\n",
       "        -1.92542951e-01,  1.08594332e+00, -1.99484796e-01,\n",
       "        -2.11049891e-01, -2.04175371e-01,  7.97801722e-01,\n",
       "         1.37257248e-01, -2.19857088e-01, -1.93366933e-01,\n",
       "         8.90159945e-01, -2.40051792e-01, -2.17775819e-01,\n",
       "        -2.36066843e-01],\n",
       "       [-5.54663127e-01,  3.94209619e-02,  1.16960434e-01,\n",
       "         5.05751417e-01, -1.99300667e-01, -2.72334780e-01,\n",
       "         3.80539143e-01, -1.75185770e-01, -2.54057721e-01,\n",
       "        -2.56484019e-01, -7.11505031e-02, -1.30389996e-01,\n",
       "         4.77380625e-01, -4.41980491e-01,  6.01251250e-03,\n",
       "         6.33574992e-03,  2.14540963e-02,  3.65671940e-02,\n",
       "         5.84345465e-02,  2.73331696e-02, -2.77412803e-02,\n",
       "        -1.91494997e-02,  4.35173923e-02, -1.05341015e-02,\n",
       "         2.14540963e-02,  4.94288889e-02, -5.92044753e-03,\n",
       "         2.57605167e-04, -5.92044753e-03,  6.01251250e-03,\n",
       "         1.85141391e-02,  4.94288889e-02, -6.48911410e-03,\n",
       "         5.60190189e-02, -6.48911410e-03, -1.48795854e-02,\n",
       "        -1.48795854e-02, -4.06029751e-02,  2.72098563e-03,\n",
       "        -6.48911410e-03, -6.48911410e-03, -3.14923673e-02,\n",
       "         1.59760728e-02, -3.14923673e-02,  1.85141391e-02,\n",
       "        -1.48795854e-02, -1.89907407e-02, -1.89907407e-02,\n",
       "         1.85141391e-02, -1.48795854e-02, -2.51057025e-02,\n",
       "        -5.29248388e-03,  6.01251250e-03, -1.48795854e-02,\n",
       "         1.85141391e-02,  2.92311599e-02,  1.85141391e-02,\n",
       "        -1.05341015e-02, -2.01789054e-03,  3.10157657e-02,\n",
       "         1.85141391e-02,  2.72098563e-03,  1.85141391e-02,\n",
       "         2.14540963e-02,  6.01251250e-03,  3.65671940e-02,\n",
       "         2.37054992e-02, -2.77412803e-02, -2.01789054e-03,\n",
       "         1.85141391e-02, -2.77412803e-02, -6.48911410e-03,\n",
       "        -6.48911410e-03, -6.89972471e-02, -6.48911410e-03,\n",
       "         8.22515085e-02, -2.01789054e-03,  3.10157657e-02,\n",
       "         5.60190189e-02, -5.64956205e-02, -6.89972471e-02,\n",
       "         7.76682438e-03,  1.85141391e-02, -2.37891887e-02,\n",
       "        -2.77412803e-02, -4.39939939e-02,  6.01251250e-03,\n",
       "         1.85141391e-02,  1.31681076e-02, -4.06029751e-02,\n",
       "        -3.14923673e-02,  6.01251250e-03, -1.89907407e-02,\n",
       "        -6.48911410e-03, -1.89907407e-02, -4.39939939e-02,\n",
       "         6.01251250e-03, -3.14923673e-02, -1.48795854e-02,\n",
       "         3.07204736e-02, -1.89907407e-02,  2.37054992e-02,\n",
       "         3.65671940e-02, -6.48911410e-03,  3.65671940e-02,\n",
       "         1.08438043e-02,  6.22905838e-02, -4.39939939e-02,\n",
       "        -1.89907407e-02, -2.01789054e-03,  6.01251250e-03,\n",
       "         1.59760728e-02,  3.65671940e-02,  4.94288889e-02,\n",
       "        -1.89907407e-02,  1.85141391e-02,  6.01251250e-03,\n",
       "         1.85141391e-02, -1.48795854e-02,  1.85141391e-02,\n",
       "        -2.01789054e-03,  1.85141391e-02, -2.37891887e-02,\n",
       "         1.85141391e-02,  1.08438043e-02, -4.39939939e-02,\n",
       "        -2.77412803e-02, -6.63263649e-02,  2.37054992e-02,\n",
       "        -6.48911410e-03, -5.64956205e-02, -6.89972471e-02,\n",
       "        -5.92044753e-03,  6.85206455e-02, -2.37891887e-02,\n",
       "         6.01251250e-03, -3.14923673e-02,  7.51522786e-02,\n",
       "         6.01251250e-03, -3.14923673e-02, -1.48795854e-02,\n",
       "         2.72098563e-03, -3.14923673e-02, -3.14923673e-02,\n",
       "        -4.39939939e-02,  4.94288889e-02, -1.89907407e-02,\n",
       "         6.01251250e-03,  6.01251250e-03, -1.51620166e-02,\n",
       "         6.01251250e-03,  4.94288889e-02, -6.48911410e-03,\n",
       "        -4.39939939e-02, -6.89972471e-02, -1.89907407e-02,\n",
       "        -2.01789054e-03, -4.06029751e-02,  3.10157657e-02,\n",
       "         6.01251250e-03, -6.48911410e-03,  4.24862471e-02,\n",
       "         4.35173923e-02, -1.89907407e-02, -1.89907407e-02,\n",
       "         1.85141391e-02,  1.08438043e-02, -6.48911410e-03,\n",
       "         3.10157657e-02,  1.85141391e-02,  1.08438043e-02,\n",
       "        -1.89907407e-02,  2.37054992e-02, -3.14923673e-02,\n",
       "         2.37054992e-02,  1.11517995e-01,  1.52714268e-01,\n",
       "        -1.39622879e-01, -2.47948783e-01, -9.37127064e-02,\n",
       "        -8.36446591e-02, -2.41847903e-01,  1.35103932e-01,\n",
       "         1.89624101e-01,  1.76688763e-01, -9.50059264e-02,\n",
       "         1.98353944e-01,  3.29112991e-01,  1.87199899e-01,\n",
       "        -1.65621096e-01, -2.48780599e-01, -1.86275641e-01,\n",
       "         2.19421104e-02],\n",
       "       [ 1.71924566e+00, -4.49990413e-01, -1.90007420e-01,\n",
       "        -8.68110628e-01,  1.18704422e-01,  1.01633919e+00,\n",
       "        -1.52796138e+00,  1.05920420e-01,  1.94438180e-01,\n",
       "         3.51504214e-01, -9.30131110e-02, -6.05490567e-02,\n",
       "        -2.81527417e-01, -4.24144632e-01, -2.32365762e-02,\n",
       "        -2.16302335e-02, -4.24628810e-02, -4.92178840e-02,\n",
       "        -3.31800758e-02, -3.88149976e-02, -1.92477082e-02,\n",
       "        -1.91494997e-02,  5.89457263e-03, -1.50358292e-02,\n",
       "        -4.24628810e-02,  1.07224676e-02, -7.43568071e-02,\n",
       "        -2.64118203e-02, -1.05689550e-02,  5.89457263e-03,\n",
       "         5.89457263e-03, -1.92477082e-02,  5.89457263e-03,\n",
       "        -5.23677249e-02,  5.89457263e-03,  1.07224676e-02,\n",
       "         1.30603171e-01,  7.06628191e-02,  1.58510248e-02,\n",
       "        -2.32365762e-02, -2.32365762e-02,  9.32880190e-02,\n",
       "         1.58510248e-02,  3.50257214e-02,  5.89457263e-03,\n",
       "         1.07224676e-02,  6.41568702e-02,  3.50257214e-02,\n",
       "        -5.23677249e-02,  1.07224676e-02,  3.35439347e-02,\n",
       "         4.80757930e-03,  5.89457263e-03,  7.06628191e-02,\n",
       "        -5.23677249e-02, -1.50358292e-02, -2.32365762e-02,\n",
       "         7.76247328e-02,  4.06926433e-02, -5.23677249e-02,\n",
       "        -2.32365762e-02, -4.59226832e-02, -2.32365762e-02,\n",
       "         2.13249711e-02, -5.23677249e-02, -1.92477082e-02,\n",
       "         1.07224676e-02,  1.00632995e-01, -4.92178840e-02,\n",
       "        -5.23677249e-02,  1.00632995e-01, -2.32365762e-02,\n",
       "         5.89457263e-03, -5.23677249e-02,  3.50257214e-02,\n",
       "        -7.68095373e-02,  1.00632995e-01, -2.32365762e-02,\n",
       "        -8.14988737e-02,  5.89457263e-03,  1.80681465e-01,\n",
       "        -4.24628810e-02, -5.23677249e-02,  1.58510248e-02,\n",
       "         4.06926433e-02,  3.50257214e-02, -2.32365762e-02,\n",
       "         6.41568702e-02, -7.18222649e-02,  1.00632995e-01,\n",
       "         5.89457263e-03,  5.89457263e-03,  3.50257214e-02,\n",
       "        -2.32365762e-02, -5.23677249e-02,  3.50257214e-02,\n",
       "        -2.32365762e-02, -2.32365762e-02,  1.07224676e-02,\n",
       "        -1.64035248e-02, -2.32365762e-02, -1.92477082e-02,\n",
       "        -4.92178840e-02,  5.89457263e-03, -1.92477082e-02,\n",
       "        -4.92178840e-02, -1.92477082e-02,  1.51550317e-01,\n",
       "         3.50257214e-02,  4.06926433e-02,  5.89457263e-03,\n",
       "         1.58510248e-02,  1.07224676e-02, -7.91880597e-02,\n",
       "         3.50257214e-02, -8.14988737e-02,  6.41568702e-02,\n",
       "        -2.32365762e-02,  1.07224676e-02,  5.89457263e-03,\n",
       "         1.07224676e-02, -2.32365762e-02, -4.59226832e-02,\n",
       "        -5.23677249e-02,  1.07224676e-02,  3.50257214e-02,\n",
       "         1.00632995e-01, -1.92477082e-02,  4.06926433e-02,\n",
       "         5.89457263e-03,  1.22419168e-01, -5.23677249e-02,\n",
       "        -1.05689550e-02, -8.14988737e-02, -7.68095373e-02,\n",
       "         5.89457263e-03, -2.32365762e-02, -1.92477082e-02,\n",
       "         3.50257214e-02, -5.23677249e-02,  4.06926433e-02,\n",
       "        -7.68095373e-02,  6.41568702e-02,  6.41568702e-02,\n",
       "         6.41568702e-02, -7.91880597e-02,  3.50257214e-02,\n",
       "         3.50257214e-02, -8.14988737e-02, -5.80773031e-03,\n",
       "         5.89457263e-03, -1.92477082e-02,  3.50257214e-02,\n",
       "         5.89457263e-03, -8.14988737e-02, -5.23677249e-02,\n",
       "         7.06628191e-02, -1.92477082e-02, -5.23677249e-02,\n",
       "        -8.14988737e-02,  5.89457263e-03, -7.68095373e-02,\n",
       "        -2.32365762e-02, -2.32365762e-02,  6.41568702e-02,\n",
       "        -2.32365762e-02,  1.07224676e-02,  3.50257214e-02,\n",
       "        -5.23677249e-02,  5.89457263e-03,  1.07224676e-02,\n",
       "         5.89457263e-03, -4.92178840e-02,  9.32880190e-02,\n",
       "         4.06926433e-02,  1.85180192e-01,  3.64391157e-02,\n",
       "         4.18439480e-01, -2.37851992e-01,  4.03792185e-01,\n",
       "        -1.18363504e-01, -2.30421625e-01,  1.22549375e-01,\n",
       "         1.19386182e-01,  1.55922892e-01, -2.26860965e-01,\n",
       "        -1.46980865e-01, -1.04075678e-01,  1.20382681e-02,\n",
       "        -1.67174448e-01, -1.58178053e-01, -1.45685905e-02,\n",
       "        -5.67587338e-02],\n",
       "       [-5.58613910e-01, -7.56405661e-01,  4.44075710e-01,\n",
       "        -8.91402662e-01,  5.56595282e-01, -2.78763367e-01,\n",
       "         3.97780216e-01,  4.78050319e-01,  6.32619881e-01,\n",
       "         4.14493135e-01,  4.72054069e-01,  3.33521168e-01,\n",
       "        -1.25036507e+00, -5.49308846e-01,  1.29684845e-02,\n",
       "         6.58983915e-02,  2.90697677e-02, -6.29692478e-03,\n",
       "        -3.31800758e-02, -4.50630271e-02,  6.65942102e-02,\n",
       "         8.07354622e-02, -3.42651946e-02,  2.33512742e-02,\n",
       "        -2.26435197e-02, -5.48910147e-02,  5.49264113e-02,\n",
       "         2.68869852e-02,  2.90697677e-02, -1.06483551e-02,\n",
       "        -1.06483551e-02, -3.05939698e-02, -1.06483551e-02,\n",
       "        -5.78820342e-02,  1.29684845e-02, -6.29692478e-03,\n",
       "        -5.48910147e-02,  1.80001202e-02, -2.67291315e-02,\n",
       "         3.65853240e-02,  3.65853240e-02, -3.42651946e-02,\n",
       "        -1.68892864e-03,  1.29684845e-02, -3.42651946e-02,\n",
       "         4.22971652e-02, -3.42651946e-02, -1.06483551e-02,\n",
       "         1.29684845e-02,  1.80001202e-02,  1.40958572e-02,\n",
       "         4.91005359e-02,  1.29684845e-02, -3.05939698e-02,\n",
       "         1.29684845e-02, -1.68892864e-03, -1.06483551e-02,\n",
       "        -2.67291315e-02, -6.29692478e-03, -1.06483551e-02,\n",
       "         1.29684845e-02, -1.68892864e-03,  3.65853240e-02,\n",
       "        -4.85001634e-02, -5.78820342e-02, -5.48910147e-02,\n",
       "        -5.48910147e-02, -3.05939698e-02,  4.22971652e-02,\n",
       "         3.65853240e-02,  1.80001202e-02,  3.65853240e-02,\n",
       "         1.29684845e-02, -8.14988737e-02, -3.42651946e-02,\n",
       "        -5.17693344e-02, -3.05939698e-02,  3.65853240e-02,\n",
       "        -3.42651946e-02,  1.29684845e-02, -3.42651946e-02,\n",
       "        -4.85001634e-02, -1.06483551e-02,  4.83914771e-02,\n",
       "         4.22971652e-02,  3.65853240e-02,  1.29684845e-02,\n",
       "        -8.14988737e-02,  8.45544828e-03, -6.29692478e-03,\n",
       "         1.29684845e-02, -3.42651946e-02, -1.06483551e-02,\n",
       "         1.29684845e-02,  1.31052682e-01,  3.65853240e-02,\n",
       "         1.29684845e-02,  6.02021636e-02, -6.29692478e-03,\n",
       "         4.24988466e-02,  3.65853240e-02, -5.48910147e-02,\n",
       "        -3.05939698e-02, -1.06483551e-02, -6.29692478e-03,\n",
       "         1.80001202e-02, -3.05939698e-02, -5.78820342e-02,\n",
       "        -1.06483551e-02, -5.48910147e-02,  1.29684845e-02,\n",
       "        -2.67291315e-02, -5.48910147e-02, -6.29692478e-03,\n",
       "         1.29684845e-02,  1.29684845e-02, -5.78820342e-02,\n",
       "        -1.06483551e-02,  1.80001202e-02, -5.78820342e-02,\n",
       "         1.80001202e-02, -1.06483551e-02,  9.84718829e-02,\n",
       "         1.29684845e-02, -3.05939698e-02,  3.65853240e-02,\n",
       "        -6.29692478e-03,  1.15188300e-01, -5.48910147e-02,\n",
       "        -1.06483551e-02,  1.29684845e-02, -3.42651946e-02,\n",
       "         3.21312398e-03, -1.06483551e-02,  1.23512086e-01,\n",
       "        -1.06483551e-02,  8.38190031e-02, -5.48910147e-02,\n",
       "        -1.06483551e-02,  8.38190031e-02, -6.29692478e-03,\n",
       "         4.83914771e-02, -1.06483551e-02, -1.06483551e-02,\n",
       "         3.65853240e-02, -6.29692478e-03,  3.65853240e-02,\n",
       "        -1.06483551e-02,  6.02021636e-02,  3.52146860e-02,\n",
       "        -1.06483551e-02, -5.48910147e-02, -1.06483551e-02,\n",
       "        -1.06483551e-02, -5.78820342e-02,  6.02021636e-02,\n",
       "        -3.05939698e-02,  9.08912551e-02,  1.29684845e-02,\n",
       "         3.65853240e-02,  1.29684845e-02, -2.67291315e-02,\n",
       "        -5.78820342e-02,  8.38190031e-02, -3.42651946e-02,\n",
       "        -1.06483551e-02, -6.29692478e-03, -1.06483551e-02,\n",
       "        -1.06483551e-02, -1.06483551e-02, -6.29692478e-03,\n",
       "         1.29684845e-02, -3.05939698e-02, -3.42651946e-02,\n",
       "        -3.05939698e-02, -4.68313954e-02,  2.38143434e-02,\n",
       "         2.59554973e-01, -2.39763239e-01,  2.14861456e-01,\n",
       "         5.52011122e-01, -2.26096891e-01, -3.08436601e-02,\n",
       "        -1.14524355e-01, -1.25165616e-01, -2.38904843e-01,\n",
       "        -2.39763239e-01, -1.88636163e-01, -4.38836659e-02,\n",
       "        -2.39763239e-01, -2.48780599e-01,  7.04539410e-01,\n",
       "         3.62500773e-01],\n",
       "       [-4.25512139e-02,  7.74904635e-01,  4.99954711e-02,\n",
       "         3.51587702e-01, -1.28552958e-01, -6.55768831e-02,\n",
       "         2.13515617e-01, -1.34970692e-01, -2.28168167e-01,\n",
       "        -1.79822399e-01, -1.42867244e-01, -2.90911686e-02,\n",
       "         3.96096270e-01,  5.60815377e-01, -2.38300800e-04,\n",
       "        -6.22524265e-03,  1.46104603e-02,  4.41295689e-03,\n",
       "        -3.31800758e-02,  2.02506386e-02,  4.41295689e-03,\n",
       "        -1.91494997e-02, -2.38300800e-04,  9.34852921e-03,\n",
       "         1.46104603e-02,  4.41295689e-03,  1.46104603e-02,\n",
       "         4.01864061e-02,  1.46104603e-02, -2.38300800e-04,\n",
       "        -2.38300800e-04,  4.41295689e-03, -2.38300800e-04,\n",
       "        -2.38300800e-04, -2.38300800e-04,  4.41295689e-03,\n",
       "        -3.73875514e-02,  4.41295689e-03,  9.34852921e-03,\n",
       "        -2.38300800e-04, -2.38300800e-04, -2.38300800e-04,\n",
       "        -3.37305040e-02, -2.38300800e-04, -2.38300800e-04,\n",
       "         4.41295689e-03, -2.38300800e-04, -2.38300800e-04,\n",
       "        -2.38300800e-04,  4.41295689e-03,  2.63340502e-02,\n",
       "         3.29434696e-02, -2.38300800e-04,  4.41295689e-03,\n",
       "        -2.38300800e-04,  9.34852921e-03, -2.38300800e-04,\n",
       "         9.34852921e-03,  4.41295689e-03, -2.38300800e-04,\n",
       "        -2.38300800e-04,  9.34852921e-03, -2.38300800e-04,\n",
       "         1.46104603e-02, -2.38300800e-04,  4.41295689e-03,\n",
       "         4.41295689e-03,  4.41295689e-03,  4.41295689e-03,\n",
       "        -2.38300800e-04,  4.41295689e-03, -2.38300800e-04,\n",
       "        -2.38300800e-04, -2.38300800e-04, -2.38300800e-04,\n",
       "         9.34852921e-03, -3.73875514e-02, -4.08685873e-02,\n",
       "        -2.38300800e-04, -2.38300800e-04, -2.38300800e-04,\n",
       "         1.46104603e-02, -2.38300800e-04,  9.34852921e-03,\n",
       "        -3.73875514e-02, -2.38300800e-04, -2.38300800e-04,\n",
       "        -2.38300800e-04,  2.02506386e-02,  4.41295689e-03,\n",
       "        -2.38300800e-04, -2.38300800e-04, -2.38300800e-04,\n",
       "        -2.38300800e-04, -2.38300800e-04, -2.38300800e-04,\n",
       "        -2.38300800e-04, -2.38300800e-04,  4.41295689e-03,\n",
       "        -5.75329510e-02, -2.38300800e-04,  4.41295689e-03,\n",
       "         4.41295689e-03, -2.38300800e-04,  4.41295689e-03,\n",
       "         4.41295689e-03,  4.41295689e-03, -2.38300800e-04,\n",
       "        -2.38300800e-04,  4.41295689e-03, -2.38300800e-04,\n",
       "         9.34852921e-03,  4.41295689e-03,  4.41295689e-03,\n",
       "        -2.38300800e-04, -2.38300800e-04, -2.38300800e-04,\n",
       "        -2.38300800e-04,  4.41295689e-03, -2.38300800e-04,\n",
       "         4.41295689e-03, -2.38300800e-04,  9.34852921e-03,\n",
       "        -2.38300800e-04,  4.41295689e-03, -2.38300800e-04,\n",
       "        -3.73875514e-02,  4.41295689e-03,  4.41295689e-03,\n",
       "        -2.38300800e-04, -2.38300800e-04, -8.14988737e-02,\n",
       "         1.46104603e-02, -2.38300800e-04,  9.34852921e-03,\n",
       "        -2.38300800e-04, -2.38300800e-04, -3.73875514e-02,\n",
       "        -4.08685873e-02, -2.38300800e-04,  4.41295689e-03,\n",
       "         9.34852921e-03, -2.38300800e-04, -2.38300800e-04,\n",
       "        -2.38300800e-04,  4.41295689e-03, -2.38300800e-04,\n",
       "        -2.38300800e-04, -2.38300800e-04,  2.02506386e-02,\n",
       "        -2.38300800e-04,  4.41295689e-03, -2.38300800e-04,\n",
       "        -2.38300800e-04, -2.38300800e-04, -2.38300800e-04,\n",
       "        -3.73875514e-02,  4.41295689e-03, -2.38300800e-04,\n",
       "        -2.38300800e-04, -2.38300800e-04,  9.34852921e-03,\n",
       "        -2.38300800e-04, -2.38300800e-04, -2.38300800e-04,\n",
       "        -2.38300800e-04,  4.41295689e-03, -2.38300800e-04,\n",
       "        -2.38300800e-04, -2.38300800e-04,  4.41295689e-03,\n",
       "        -2.38300800e-04,  4.41295689e-03, -2.38300800e-04,\n",
       "         4.41295689e-03, -2.40362915e-01, -2.47114818e-01,\n",
       "        -2.47948783e-01,  1.93481820e+00, -2.46278680e-01,\n",
       "        -2.03030476e-01, -2.50437871e-01, -2.36066843e-01,\n",
       "        -2.46278680e-01, -2.47948783e-01, -2.47114818e-01,\n",
       "        -2.47948783e-01, -2.46278680e-01, -2.38651773e-01,\n",
       "        -2.47948783e-01,  1.84329048e+00, -2.36066843e-01,\n",
       "        -2.36066843e-01]])"
      ]
     },
     "execution_count": 156,
     "metadata": {},
     "output_type": "execute_result"
    }
   ],
   "source": [
    "kmeans.cluster_centers_"
   ]
  },
  {
   "cell_type": "code",
   "execution_count": 157,
   "metadata": {},
   "outputs": [
    {
     "data": {
      "image/png": "[encoded data removed]",
      "text/plain": [
       "<Figure size 432x288 with 1 Axes>"
      ]
     },
     "metadata": {
      "needs_background": "light"
     },
     "output_type": "display_data"
    }
   ],
   "source": [
    "sns.countplot(kmeans.labels_)\n",
    "plt.title(\"Cantidad de muestras por cluster K means\")\n",
    "plt.xlabel(\"Clusters\")\n",
    "plt.show()"
   ]
  },
  {
   "cell_type": "markdown",
   "metadata": {},
   "source": [
    "CLUSTERING JERÁRQUICO "
   ]
  },
  {
   "cell_type": "code",
   "execution_count": 158,
   "metadata": {},
   "outputs": [],
   "source": [
    "hierclus = AgglomerativeClustering(n_clusters=5).fit(x_scal)"
   ]
  },
  {
   "cell_type": "code",
   "execution_count": 159,
   "metadata": {},
   "outputs": [
    {
     "data": {
      "text/plain": [
       "array([1, 1, 1, ..., 4, 4, 4])"
      ]
     },
     "execution_count": 159,
     "metadata": {},
     "output_type": "execute_result"
    }
   ],
   "source": [
    "hierclus.labels_"
   ]
  },
  {
   "cell_type": "code",
   "execution_count": 160,
   "metadata": {},
   "outputs": [
    {
     "data": {
      "image/png": "[encoded data removed]",
      "text/plain": [
       "<Figure size 432x288 with 1 Axes>"
      ]
     },
     "metadata": {
      "needs_background": "light"
     },
     "output_type": "display_data"
    }
   ],
   "source": [
    "sns.countplot(hierclus.labels_)\n",
    "plt.title(\"cantidad de muestras por clustering jerárquico\")\n",
    "plt.xlabel(\"Clusters\")\n",
    "plt.show()"
   ]
  },
  {
   "cell_type": "code",
   "execution_count": 161,
   "metadata": {},
   "outputs": [],
   "source": [
    "from sklearn.cluster import AgglomerativeClustering\n",
    "from sklearn import metrics"
   ]
  },
  {
   "cell_type": "code",
   "execution_count": 162,
   "metadata": {},
   "outputs": [
    {
     "name": "stdout",
     "output_type": "stream",
     "text": [
      "0.02\n",
      "0.01\n",
      "0.0\n",
      "0.0\n",
      "0.01\n",
      "0.01\n",
      "0.01\n",
      "0.02\n",
      "0.02\n"
     ]
    }
   ],
   "source": [
    "for k in range (2,11):\n",
    "    kmeans = KMeans(n_clusters=k, random_state=6).fit(x_scal)\n",
    "    kmeans.labels_\n",
    "    metrics.silhouette_score(x_scal, kmeans.labels_, metric='euclidean')\n",
    "    print(np.round(metrics.silhouette_score(x_scal, kmeans.labels_, metric='euclidean'),2))"
   ]
  },
  {
   "cell_type": "code",
   "execution_count": 163,
   "metadata": {},
   "outputs": [
    {
     "name": "stdout",
     "output_type": "stream",
     "text": [
      "(0.016960650348608792, 2)\n",
      "(0.013203267303988714, 2)\n",
      "(0.004184253623764708, 2)\n",
      "(0.004399171809040115, 2)\n",
      "(0.009254724516921727, 2)\n",
      "(0.010509091769644032, 2)\n",
      "(0.012804767105138943, 2)\n",
      "(0.016197921468398078, 2)\n",
      "(0.01900504058142222, 2)\n"
     ]
    }
   ],
   "source": [
    "for k in range (2,11):\n",
    "    kmeans = KMeans(n_clusters=k, random_state=6).fit(x_scal)\n",
    "    kmeans.labels_\n",
    "    metrics.silhouette_score(x_scal, kmeans.labels_, metric='euclidean')\n",
    "    print((metrics.silhouette_score(x_scal, kmeans.labels_, metric='euclidean'),2))"
   ]
  },
  {
   "cell_type": "code",
   "execution_count": 164,
   "metadata": {},
   "outputs": [
    {
     "data": {
      "text/plain": [
       "0.0034791580336130234"
      ]
     },
     "execution_count": 164,
     "metadata": {},
     "output_type": "execute_result"
    }
   ],
   "source": [
    "metrics.silhouette_score(x_scal, hierclus.labels_, metric='euclidean')"
   ]
  },
  {
   "cell_type": "markdown",
   "metadata": {},
   "source": [
    "## **CLUSTERING (CON PCA) :**"
   ]
  },
  {
   "cell_type": "code",
   "execution_count": 165,
   "metadata": {},
   "outputs": [],
   "source": [
    "from sklearn.decomposition import PCA\n",
    "import matplotlib.cm as cm\n",
    "n_comps = 5\n",
    "components = range(1,n_comps + 1)\n",
    "pca = PCA(n_components= n_comps)\n",
    "xpca = pd.DataFrame(pca.fit_transform(x_scal))\n",
    "eigenvalues = pca.explained_variance_ratio_"
   ]
  },
  {
   "cell_type": "code",
   "execution_count": 166,
   "metadata": {},
   "outputs": [
    {
     "data": {
      "text/plain": [
       "<function matplotlib.pyplot.show(*args, **kw)>"
      ]
     },
     "execution_count": 166,
     "metadata": {},
     "output_type": "execute_result"
    },
    {
     "data": {
      "image/png": "[encoded data removed]",
      "text/plain": [
       "<Figure size 432x288 with 1 Axes>"
      ]
     },
     "metadata": {
      "needs_background": "light"
     },
     "output_type": "display_data"
    }
   ],
   "source": [
    "components = range(1,n_comps + 1)\n",
    "plt.bar(components,eigenvalues)\n",
    "plt.xticks(components)\n",
    "plt.show"
   ]
  },
  {
   "cell_type": "code",
   "execution_count": 167,
   "metadata": {},
   "outputs": [
    {
     "data": {
      "text/plain": [
       "0.054981270522884304"
      ]
     },
     "execution_count": 167,
     "metadata": {},
     "output_type": "execute_result"
    }
   ],
   "source": [
    "np.sum(eigenvalues[:10])"
   ]
  },
  {
   "cell_type": "code",
   "execution_count": 168,
   "metadata": {},
   "outputs": [
    {
     "name": "stdout",
     "output_type": "stream",
     "text": [
      "0.19\n",
      "0.19\n",
      "0.19\n",
      "0.19\n",
      "0.19\n",
      "0.19\n",
      "0.19\n",
      "0.19\n",
      "0.19\n"
     ]
    }
   ],
   "source": [
    "for k in range (2,11):\n",
    "    kmenem = AgglomerativeClustering(n_clusters=5).fit(xpca)\n",
    "    kmenem.labels_\n",
    "    metrics.silhouette_score(xpca, kmenem.labels_, metric='euclidean')\n",
    "    print(np.round(metrics.silhouette_score(xpca, kmenem.labels_, metric='euclidean'),2))"
   ]
  },
  {
   "cell_type": "code",
   "execution_count": 169,
   "metadata": {},
   "outputs": [
    {
     "name": "stdout",
     "output_type": "stream",
     "text": [
      "(0.24778675588378762, 2)\n",
      "(0.2435096903796904, 2)\n",
      "(0.23109159752450092, 2)\n",
      "(0.24201455905560962, 2)\n",
      "(0.22600371292258506, 2)\n",
      "(0.23177205516777172, 2)\n",
      "(0.23470519541200033, 2)\n",
      "(0.19992954989925843, 2)\n",
      "(0.20526494953946578, 2)\n"
     ]
    }
   ],
   "source": [
    "for k in range (2,11):\n",
    "    kmeans = KMeans(n_clusters=k, random_state=6).fit(xpca)\n",
    "    kmeans.labels_\n",
    "    metrics.silhouette_score(xpca, kmeans.labels_, metric='euclidean')\n",
    "    print((metrics.silhouette_score(xpca, kmeans.labels_, metric='euclidean'),2))"
   ]
  },
  {
   "cell_type": "code",
   "execution_count": 170,
   "metadata": {},
   "outputs": [
    {
     "name": "stdout",
     "output_type": "stream",
     "text": [
      "0.25\n",
      "0.24\n",
      "0.23\n",
      "0.24\n",
      "0.23\n",
      "0.23\n",
      "0.23\n",
      "0.2\n",
      "0.21\n"
     ]
    }
   ],
   "source": [
    "for k in range (2,11):\n",
    "    kmeans = KMeans(n_clusters=k, random_state=6).fit(xpca)\n",
    "    kmeans.labels_\n",
    "    metrics.silhouette_score(xpca, kmeans.labels_, metric='euclidean')\n",
    "    print(np.round(metrics.silhouette_score(xpca, kmeans.labels_, metric='euclidean'),2))"
   ]
  },
  {
   "cell_type": "code",
   "execution_count": 171,
   "metadata": {},
   "outputs": [
    {
     "data": {
      "text/plain": [
       "0.24778675588378762"
      ]
     },
     "execution_count": 171,
     "metadata": {},
     "output_type": "execute_result"
    }
   ],
   "source": [
    "kmeans2 = KMeans(n_clusters=2, random_state=6).fit(xpca)\n",
    "kmeans2.labels_\n",
    "metrics.silhouette_score(xpca, kmeans2.labels_, metric='euclidean')"
   ]
  },
  {
   "cell_type": "code",
   "execution_count": 172,
   "metadata": {},
   "outputs": [
    {
     "data": {
      "image/png": "[encoded data removed]",
      "text/plain": [
       "<Figure size 648x432 with 1 Axes>"
      ]
     },
     "metadata": {
      "needs_background": "light"
     },
     "output_type": "display_data"
    }
   ],
   "source": [
    "plt.figure(figsize=(9,6))\n",
    "plt.scatter(xpca.iloc[:,0],xpca.iloc[:,1],c=kmeans2.labels_.astype(float))\n",
    "plt.xlabel('PC 1')\n",
    "plt.ylabel('PC 2')\n",
    "plt.title('Clustering K-Means')\n",
    "plt.show()"
   ]
  },
  {
   "cell_type": "code",
   "execution_count": 173,
   "metadata": {},
   "outputs": [
    {
     "data": {
      "text/plain": [
       "<function matplotlib.pyplot.show(*args, **kw)>"
      ]
     },
     "execution_count": 173,
     "metadata": {},
     "output_type": "execute_result"
    },
    {
     "data": {
      "image/png": "[encoded data removed]",
      "text/plain": [
       "<Figure size 432x288 with 1 Axes>"
      ]
     },
     "metadata": {
      "needs_background": "light"
     },
     "output_type": "display_data"
    }
   ],
   "source": [
    "sns.countplot (kmeans2.labels_)\n",
    "plt.title (\"Cantidad de muestras por cluster K means\")\n",
    "plt.xlabel (\"Clusters\")\n",
    "plt.show"
   ]
  },
  {
   "cell_type": "markdown",
   "metadata": {},
   "source": [
    "## **CLASIFICADORES :**"
   ]
  },
  {
   "cell_type": "code",
   "execution_count": 174,
   "metadata": {},
   "outputs": [],
   "source": [
    "Rubros_cla = pd.concat ([Rubros_1,Rubros_1_dummies], axis=1)"
   ]
  },
  {
   "cell_type": "code",
   "execution_count": 175,
   "metadata": {},
   "outputs": [
    {
     "data": {
      "text/html": [
       "<div>\n",
       "<style scoped>\n",
       "    .dataframe tbody tr th:only-of-type {\n",
       "        vertical-align: middle;\n",
       "    }\n",
       "\n",
       "    .dataframe tbody tr th {\n",
       "        vertical-align: top;\n",
       "    }\n",
       "\n",
       "    .dataframe thead th {\n",
       "        text-align: right;\n",
       "    }\n",
       "</style>\n",
       "<table border=\"1\" class=\"dataframe\">\n",
       "  <thead>\n",
       "    <tr style=\"text-align: right;\">\n",
       "      <th></th>\n",
       "      <th>MOC_ZONAS_ID</th>\n",
       "      <th>NIVEL_RIESGO</th>\n",
       "      <th>FACTURACION_PROM_ACTUAL</th>\n",
       "      <th>INDICE_CRECIMIENTO</th>\n",
       "      <th>INDICE_ESTABILIDAD</th>\n",
       "      <th>INDICE_APERTURA</th>\n",
       "      <th>INDICE_CIERRE</th>\n",
       "      <th>INDICE_SUPERVIVENCIA</th>\n",
       "      <th>SUP_MENOS_1</th>\n",
       "      <th>SUP_ENTRE_1_Y_2</th>\n",
       "      <th>...</th>\n",
       "      <th>INSUMOS PARA EL HOGAR</th>\n",
       "      <th>KIOSCOS Y LOTERIAS</th>\n",
       "      <th>MUSICA Y LIBRERIA</th>\n",
       "      <th>OPTICA Y JOYERIAS</th>\n",
       "      <th>PANADERIAS</th>\n",
       "      <th>RESTAURANTES</th>\n",
       "      <th>SALUD Y COSMETICA</th>\n",
       "      <th>SUPERMERCADOS Y ALMACENES</th>\n",
       "      <th>TRATAMIENTOS ESTETICOS</th>\n",
       "      <th>VETERINARIA</th>\n",
       "    </tr>\n",
       "  </thead>\n",
       "  <tbody>\n",
       "    <tr>\n",
       "      <th>0</th>\n",
       "      <td>1</td>\n",
       "      <td>5.0</td>\n",
       "      <td>1.0</td>\n",
       "      <td>3.0</td>\n",
       "      <td>1.0</td>\n",
       "      <td>0.0</td>\n",
       "      <td>16.67</td>\n",
       "      <td>0.000000</td>\n",
       "      <td>0.0</td>\n",
       "      <td>10.00</td>\n",
       "      <td>...</td>\n",
       "      <td>1</td>\n",
       "      <td>0</td>\n",
       "      <td>0</td>\n",
       "      <td>0</td>\n",
       "      <td>0</td>\n",
       "      <td>0</td>\n",
       "      <td>0</td>\n",
       "      <td>0</td>\n",
       "      <td>0</td>\n",
       "      <td>0</td>\n",
       "    </tr>\n",
       "    <tr>\n",
       "      <th>2</th>\n",
       "      <td>3</td>\n",
       "      <td>1.0</td>\n",
       "      <td>4.0</td>\n",
       "      <td>4.0</td>\n",
       "      <td>2.0</td>\n",
       "      <td>0.0</td>\n",
       "      <td>0.00</td>\n",
       "      <td>100.000000</td>\n",
       "      <td>0.0</td>\n",
       "      <td>18.18</td>\n",
       "      <td>...</td>\n",
       "      <td>1</td>\n",
       "      <td>0</td>\n",
       "      <td>0</td>\n",
       "      <td>0</td>\n",
       "      <td>0</td>\n",
       "      <td>0</td>\n",
       "      <td>0</td>\n",
       "      <td>0</td>\n",
       "      <td>0</td>\n",
       "      <td>0</td>\n",
       "    </tr>\n",
       "    <tr>\n",
       "      <th>3</th>\n",
       "      <td>4</td>\n",
       "      <td>1.0</td>\n",
       "      <td>2.0</td>\n",
       "      <td>4.0</td>\n",
       "      <td>4.0</td>\n",
       "      <td>0.0</td>\n",
       "      <td>0.00</td>\n",
       "      <td>100.000000</td>\n",
       "      <td>0.0</td>\n",
       "      <td>0.00</td>\n",
       "      <td>...</td>\n",
       "      <td>1</td>\n",
       "      <td>0</td>\n",
       "      <td>0</td>\n",
       "      <td>0</td>\n",
       "      <td>0</td>\n",
       "      <td>0</td>\n",
       "      <td>0</td>\n",
       "      <td>0</td>\n",
       "      <td>0</td>\n",
       "      <td>0</td>\n",
       "    </tr>\n",
       "    <tr>\n",
       "      <th>5</th>\n",
       "      <td>6</td>\n",
       "      <td>4.0</td>\n",
       "      <td>5.0</td>\n",
       "      <td>4.0</td>\n",
       "      <td>5.0</td>\n",
       "      <td>0.0</td>\n",
       "      <td>0.00</td>\n",
       "      <td>0.000000</td>\n",
       "      <td>0.0</td>\n",
       "      <td>18.18</td>\n",
       "      <td>...</td>\n",
       "      <td>1</td>\n",
       "      <td>0</td>\n",
       "      <td>0</td>\n",
       "      <td>0</td>\n",
       "      <td>0</td>\n",
       "      <td>0</td>\n",
       "      <td>0</td>\n",
       "      <td>0</td>\n",
       "      <td>0</td>\n",
       "      <td>0</td>\n",
       "    </tr>\n",
       "    <tr>\n",
       "      <th>6</th>\n",
       "      <td>7</td>\n",
       "      <td>1.0</td>\n",
       "      <td>5.0</td>\n",
       "      <td>4.0</td>\n",
       "      <td>5.0</td>\n",
       "      <td>0.0</td>\n",
       "      <td>0.00</td>\n",
       "      <td>86.168392</td>\n",
       "      <td>0.0</td>\n",
       "      <td>11.11</td>\n",
       "      <td>...</td>\n",
       "      <td>1</td>\n",
       "      <td>0</td>\n",
       "      <td>0</td>\n",
       "      <td>0</td>\n",
       "      <td>0</td>\n",
       "      <td>0</td>\n",
       "      <td>0</td>\n",
       "      <td>0</td>\n",
       "      <td>0</td>\n",
       "      <td>0</td>\n",
       "    </tr>\n",
       "  </tbody>\n",
       "</table>\n",
       "<p>5 rows × 33 columns</p>\n",
       "</div>"
      ],
      "text/plain": [
       "   MOC_ZONAS_ID  NIVEL_RIESGO  FACTURACION_PROM_ACTUAL  INDICE_CRECIMIENTO  \\\n",
       "0             1           5.0                      1.0                 3.0   \n",
       "2             3           1.0                      4.0                 4.0   \n",
       "3             4           1.0                      2.0                 4.0   \n",
       "5             6           4.0                      5.0                 4.0   \n",
       "6             7           1.0                      5.0                 4.0   \n",
       "\n",
       "   INDICE_ESTABILIDAD  INDICE_APERTURA  INDICE_CIERRE  INDICE_SUPERVIVENCIA  \\\n",
       "0                 1.0              0.0          16.67              0.000000   \n",
       "2                 2.0              0.0           0.00            100.000000   \n",
       "3                 4.0              0.0           0.00            100.000000   \n",
       "5                 5.0              0.0           0.00              0.000000   \n",
       "6                 5.0              0.0           0.00             86.168392   \n",
       "\n",
       "   SUP_MENOS_1  SUP_ENTRE_1_Y_2  ...  INSUMOS PARA EL HOGAR  \\\n",
       "0          0.0            10.00  ...                      1   \n",
       "2          0.0            18.18  ...                      1   \n",
       "3          0.0             0.00  ...                      1   \n",
       "5          0.0            18.18  ...                      1   \n",
       "6          0.0            11.11  ...                      1   \n",
       "\n",
       "   KIOSCOS Y LOTERIAS  MUSICA Y LIBRERIA  OPTICA Y JOYERIAS  PANADERIAS  \\\n",
       "0                   0                  0                  0           0   \n",
       "2                   0                  0                  0           0   \n",
       "3                   0                  0                  0           0   \n",
       "5                   0                  0                  0           0   \n",
       "6                   0                  0                  0           0   \n",
       "\n",
       "   RESTAURANTES  SALUD Y COSMETICA  SUPERMERCADOS Y ALMACENES  \\\n",
       "0             0                  0                          0   \n",
       "2             0                  0                          0   \n",
       "3             0                  0                          0   \n",
       "5             0                  0                          0   \n",
       "6             0                  0                          0   \n",
       "\n",
       "   TRATAMIENTOS ESTETICOS  VETERINARIA  \n",
       "0                       0            0  \n",
       "2                       0            0  \n",
       "3                       0            0  \n",
       "5                       0            0  \n",
       "6                       0            0  \n",
       "\n",
       "[5 rows x 33 columns]"
      ]
     },
     "execution_count": 175,
     "metadata": {},
     "output_type": "execute_result"
    }
   ],
   "source": [
    "Rubros_cla1 =Rubros_cla.drop(['MOC_RUBROS_ID','RUBRO'], axis=1)\n",
    "Rubros_cla1.head()"
   ]
  },
  {
   "cell_type": "code",
   "execution_count": 176,
   "metadata": {},
   "outputs": [
    {
     "data": {
      "text/plain": [
       "(2728, 33)"
      ]
     },
     "execution_count": 176,
     "metadata": {},
     "output_type": "execute_result"
    }
   ],
   "source": [
    "Rubros_cla1.shape"
   ]
  },
  {
   "cell_type": "code",
   "execution_count": 177,
   "metadata": {},
   "outputs": [
    {
     "data": {
      "text/html": [
       "<div>\n",
       "<style scoped>\n",
       "    .dataframe tbody tr th:only-of-type {\n",
       "        vertical-align: middle;\n",
       "    }\n",
       "\n",
       "    .dataframe tbody tr th {\n",
       "        vertical-align: top;\n",
       "    }\n",
       "\n",
       "    .dataframe thead th {\n",
       "        text-align: right;\n",
       "    }\n",
       "</style>\n",
       "<table border=\"1\" class=\"dataframe\">\n",
       "  <thead>\n",
       "    <tr style=\"text-align: right;\">\n",
       "      <th></th>\n",
       "      <th>NIVEL_RIESGO</th>\n",
       "      <th>FACTURACION_PROM_ACTUAL</th>\n",
       "      <th>INDICE_CRECIMIENTO</th>\n",
       "      <th>INDICE_ESTABILIDAD</th>\n",
       "      <th>INDICE_APERTURA</th>\n",
       "      <th>INDICE_CIERRE</th>\n",
       "      <th>INDICE_SUPERVIVENCIA</th>\n",
       "      <th>SUP_MENOS_1</th>\n",
       "      <th>SUP_ENTRE_1_Y_2</th>\n",
       "      <th>SUP_ENTRE_2_Y_3</th>\n",
       "      <th>...</th>\n",
       "      <th>INSUMOS PARA EL HOGAR</th>\n",
       "      <th>KIOSCOS Y LOTERIAS</th>\n",
       "      <th>MUSICA Y LIBRERIA</th>\n",
       "      <th>OPTICA Y JOYERIAS</th>\n",
       "      <th>PANADERIAS</th>\n",
       "      <th>RESTAURANTES</th>\n",
       "      <th>SALUD Y COSMETICA</th>\n",
       "      <th>SUPERMERCADOS Y ALMACENES</th>\n",
       "      <th>TRATAMIENTOS ESTETICOS</th>\n",
       "      <th>VETERINARIA</th>\n",
       "    </tr>\n",
       "  </thead>\n",
       "  <tbody>\n",
       "    <tr>\n",
       "      <th>0</th>\n",
       "      <td>5.0</td>\n",
       "      <td>1.0</td>\n",
       "      <td>3.0</td>\n",
       "      <td>1.0</td>\n",
       "      <td>0.0</td>\n",
       "      <td>16.67</td>\n",
       "      <td>0.00</td>\n",
       "      <td>0.0</td>\n",
       "      <td>10.00</td>\n",
       "      <td>45.00</td>\n",
       "      <td>...</td>\n",
       "      <td>1</td>\n",
       "      <td>0</td>\n",
       "      <td>0</td>\n",
       "      <td>0</td>\n",
       "      <td>0</td>\n",
       "      <td>0</td>\n",
       "      <td>0</td>\n",
       "      <td>0</td>\n",
       "      <td>0</td>\n",
       "      <td>0</td>\n",
       "    </tr>\n",
       "    <tr>\n",
       "      <th>2</th>\n",
       "      <td>1.0</td>\n",
       "      <td>4.0</td>\n",
       "      <td>4.0</td>\n",
       "      <td>2.0</td>\n",
       "      <td>0.0</td>\n",
       "      <td>0.00</td>\n",
       "      <td>100.00</td>\n",
       "      <td>0.0</td>\n",
       "      <td>18.18</td>\n",
       "      <td>27.27</td>\n",
       "      <td>...</td>\n",
       "      <td>1</td>\n",
       "      <td>0</td>\n",
       "      <td>0</td>\n",
       "      <td>0</td>\n",
       "      <td>0</td>\n",
       "      <td>0</td>\n",
       "      <td>0</td>\n",
       "      <td>0</td>\n",
       "      <td>0</td>\n",
       "      <td>0</td>\n",
       "    </tr>\n",
       "    <tr>\n",
       "      <th>3</th>\n",
       "      <td>1.0</td>\n",
       "      <td>2.0</td>\n",
       "      <td>4.0</td>\n",
       "      <td>4.0</td>\n",
       "      <td>0.0</td>\n",
       "      <td>0.00</td>\n",
       "      <td>100.00</td>\n",
       "      <td>0.0</td>\n",
       "      <td>0.00</td>\n",
       "      <td>0.00</td>\n",
       "      <td>...</td>\n",
       "      <td>1</td>\n",
       "      <td>0</td>\n",
       "      <td>0</td>\n",
       "      <td>0</td>\n",
       "      <td>0</td>\n",
       "      <td>0</td>\n",
       "      <td>0</td>\n",
       "      <td>0</td>\n",
       "      <td>0</td>\n",
       "      <td>0</td>\n",
       "    </tr>\n",
       "    <tr>\n",
       "      <th>5</th>\n",
       "      <td>4.0</td>\n",
       "      <td>5.0</td>\n",
       "      <td>4.0</td>\n",
       "      <td>5.0</td>\n",
       "      <td>0.0</td>\n",
       "      <td>0.00</td>\n",
       "      <td>0.00</td>\n",
       "      <td>0.0</td>\n",
       "      <td>18.18</td>\n",
       "      <td>0.00</td>\n",
       "      <td>...</td>\n",
       "      <td>1</td>\n",
       "      <td>0</td>\n",
       "      <td>0</td>\n",
       "      <td>0</td>\n",
       "      <td>0</td>\n",
       "      <td>0</td>\n",
       "      <td>0</td>\n",
       "      <td>0</td>\n",
       "      <td>0</td>\n",
       "      <td>0</td>\n",
       "    </tr>\n",
       "    <tr>\n",
       "      <th>6</th>\n",
       "      <td>1.0</td>\n",
       "      <td>5.0</td>\n",
       "      <td>4.0</td>\n",
       "      <td>5.0</td>\n",
       "      <td>0.0</td>\n",
       "      <td>0.00</td>\n",
       "      <td>86.17</td>\n",
       "      <td>0.0</td>\n",
       "      <td>11.11</td>\n",
       "      <td>0.00</td>\n",
       "      <td>...</td>\n",
       "      <td>1</td>\n",
       "      <td>0</td>\n",
       "      <td>0</td>\n",
       "      <td>0</td>\n",
       "      <td>0</td>\n",
       "      <td>0</td>\n",
       "      <td>0</td>\n",
       "      <td>0</td>\n",
       "      <td>0</td>\n",
       "      <td>0</td>\n",
       "    </tr>\n",
       "  </tbody>\n",
       "</table>\n",
       "<p>5 rows × 32 columns</p>\n",
       "</div>"
      ],
      "text/plain": [
       "   NIVEL_RIESGO  FACTURACION_PROM_ACTUAL  INDICE_CRECIMIENTO  \\\n",
       "0           5.0                      1.0                 3.0   \n",
       "2           1.0                      4.0                 4.0   \n",
       "3           1.0                      2.0                 4.0   \n",
       "5           4.0                      5.0                 4.0   \n",
       "6           1.0                      5.0                 4.0   \n",
       "\n",
       "   INDICE_ESTABILIDAD  INDICE_APERTURA  INDICE_CIERRE  INDICE_SUPERVIVENCIA  \\\n",
       "0                 1.0              0.0          16.67                  0.00   \n",
       "2                 2.0              0.0           0.00                100.00   \n",
       "3                 4.0              0.0           0.00                100.00   \n",
       "5                 5.0              0.0           0.00                  0.00   \n",
       "6                 5.0              0.0           0.00                 86.17   \n",
       "\n",
       "   SUP_MENOS_1  SUP_ENTRE_1_Y_2  SUP_ENTRE_2_Y_3  ...  INSUMOS PARA EL HOGAR  \\\n",
       "0          0.0            10.00            45.00  ...                      1   \n",
       "2          0.0            18.18            27.27  ...                      1   \n",
       "3          0.0             0.00             0.00  ...                      1   \n",
       "5          0.0            18.18             0.00  ...                      1   \n",
       "6          0.0            11.11             0.00  ...                      1   \n",
       "\n",
       "   KIOSCOS Y LOTERIAS  MUSICA Y LIBRERIA  OPTICA Y JOYERIAS  PANADERIAS  \\\n",
       "0                   0                  0                  0           0   \n",
       "2                   0                  0                  0           0   \n",
       "3                   0                  0                  0           0   \n",
       "5                   0                  0                  0           0   \n",
       "6                   0                  0                  0           0   \n",
       "\n",
       "   RESTAURANTES  SALUD Y COSMETICA  SUPERMERCADOS Y ALMACENES  \\\n",
       "0             0                  0                          0   \n",
       "2             0                  0                          0   \n",
       "3             0                  0                          0   \n",
       "5             0                  0                          0   \n",
       "6             0                  0                          0   \n",
       "\n",
       "   TRATAMIENTOS ESTETICOS  VETERINARIA  \n",
       "0                       0            0  \n",
       "2                       0            0  \n",
       "3                       0            0  \n",
       "5                       0            0  \n",
       "6                       0            0  \n",
       "\n",
       "[5 rows x 32 columns]"
      ]
     },
     "execution_count": 177,
     "metadata": {},
     "output_type": "execute_result"
    }
   ],
   "source": [
    "x = Rubros_cla1.iloc[:,1:33]\n",
    "np.round(x.head(),2)"
   ]
  },
  {
   "cell_type": "markdown",
   "metadata": {},
   "source": [
    "**SEPARAMOS FEATURES CON LAS QUE VAMOS A TRABAJAR**"
   ]
  },
  {
   "cell_type": "code",
   "execution_count": 178,
   "metadata": {},
   "outputs": [
    {
     "data": {
      "text/plain": [
       "2892    156\n",
       "2893    157\n",
       "2894    158\n",
       "2895    159\n",
       "2896    160\n",
       "Name: MOC_ZONAS_ID, dtype: int64"
      ]
     },
     "execution_count": 178,
     "metadata": {},
     "output_type": "execute_result"
    }
   ],
   "source": [
    "y = Rubros_1.iloc[:,1]\n",
    "y.tail()"
   ]
  },
  {
   "cell_type": "code",
   "execution_count": 179,
   "metadata": {},
   "outputs": [
    {
     "data": {
      "text/plain": [
       "array([  0,   2,   3, ..., 157, 158, 159])"
      ]
     },
     "execution_count": 179,
     "metadata": {},
     "output_type": "execute_result"
    }
   ],
   "source": [
    "le = preprocessing.LabelEncoder()\n",
    "y=le.fit_transform(y)\n",
    "y"
   ]
  },
  {
   "cell_type": "code",
   "execution_count": 180,
   "metadata": {},
   "outputs": [],
   "source": [
    "xtrain, xtest, ytrain, ytest = train_test_split(x, y, test_size=0.6, random_state=4)"
   ]
  },
  {
   "cell_type": "markdown",
   "metadata": {},
   "source": [
    "**Pre procesamiento: Autoscaling¶**"
   ]
  },
  {
   "cell_type": "code",
   "execution_count": 181,
   "metadata": {},
   "outputs": [
    {
     "data": {
      "text/plain": [
       "StandardScaler(copy=True, with_mean=True, with_std=True)"
      ]
     },
     "execution_count": 181,
     "metadata": {},
     "output_type": "execute_result"
    }
   ],
   "source": [
    "scaler = preprocessing.StandardScaler().fit(xtrain)\n",
    "scaler"
   ]
  },
  {
   "cell_type": "code",
   "execution_count": 182,
   "metadata": {},
   "outputs": [],
   "source": [
    "xtrain_scal = scaler.transform(xtrain)  \n",
    "xtest_scal = scaler.transform(xtest) "
   ]
  },
  {
   "cell_type": "code",
   "execution_count": 183,
   "metadata": {},
   "outputs": [
    {
     "name": "stdout",
     "output_type": "stream",
     "text": [
      "[-1.44094941e-16 -9.76914852e-17 -6.83840396e-17 -2.34459565e-16\n",
      "  1.62819142e-17 -5.69866997e-17 -3.80996792e-16 -6.51276568e-18\n",
      " -7.97813796e-17 -6.18712740e-17  2.27946799e-17 -2.27946799e-17\n",
      "  8.46659538e-17 -4.07047855e-17 -5.04739340e-17 -3.25638284e-18\n",
      " -4.55893598e-17 -4.88457426e-17 -8.62941453e-17 -7.16404225e-17\n",
      " -6.10571783e-17  3.33779241e-17  5.69866997e-17 -1.62819142e-17\n",
      "  3.25638284e-17  8.62941453e-17 -1.62819142e-18  6.83840396e-17\n",
      "  6.83840396e-17  6.51276568e-18 -3.90765941e-17 -2.76792541e-17]\n",
      "[1. 1. 1. 1. 1. 1. 1. 1. 1. 1. 1. 1. 1. 1. 1. 1. 1. 1. 1. 1. 1. 1. 1. 1.\n",
      " 1. 1. 1. 1. 1. 1. 1. 1.]\n"
     ]
    }
   ],
   "source": [
    "print (xtrain_scal.mean(axis=0))\n",
    "print (xtrain_scal.std(axis=0))"
   ]
  },
  {
   "cell_type": "code",
   "execution_count": 184,
   "metadata": {},
   "outputs": [
    {
     "name": "stdout",
     "output_type": "stream",
     "text": [
      "[-0.00967852  0.00993451  0.01302759  0.00796289  0.01413951 -0.0162997\n",
      "  0.00406906  0.00638842  0.000564    0.06818461 -0.01391817  0.04102071\n",
      " -0.05288417  0.08806222 -0.03491699  0.00520221  0.00123381  0.04247932\n",
      " -0.04744609 -0.03580882  0.05806308  0.10551098 -0.02933895 -0.01169025\n",
      " -0.03292813  0.02136317 -0.08166949 -0.00142349  0.02828653  0.0104794\n",
      "  0.02527764  0.01100212]\n",
      "[0.9904938  1.0100677  1.00781183 0.97589115 1.04494823 1.07861177\n",
      " 0.99825772 0.90819406 0.98868754 1.06940506 0.9719488  1.05628107\n",
      " 0.98699608 1.09625982 0.93211841 1.00989571 1.00233577 1.08127128\n",
      " 0.91047768 0.91623055 1.11028869 1.21734402 0.94442869 0.9779369\n",
      " 0.93791672 1.04064706 0.84688717 0.9971885  1.05391596 1.01980883\n",
      " 1.0508875  1.02206597]\n"
     ]
    }
   ],
   "source": [
    "print (xtest_scal.mean(axis=0))\n",
    "print (xtest_scal.std(axis=0))"
   ]
  },
  {
   "cell_type": "code",
   "execution_count": 185,
   "metadata": {},
   "outputs": [
    {
     "data": {
      "text/plain": [
       "(1091, 32)"
      ]
     },
     "execution_count": 185,
     "metadata": {},
     "output_type": "execute_result"
    }
   ],
   "source": [
    "xtrain_scal.shape"
   ]
  },
  {
   "cell_type": "markdown",
   "metadata": {},
   "source": [
    "## **MODELOS DE CLASIFICACIÓN :**"
   ]
  },
  {
   "cell_type": "markdown",
   "metadata": {},
   "source": [
    "**LOGISTIC REGRESSIÓN**"
   ]
  },
  {
   "cell_type": "code",
   "execution_count": 186,
   "metadata": {},
   "outputs": [],
   "source": [
    "lr_model = LogisticRegression(random_state=0, solver='lbfgs')"
   ]
  },
  {
   "cell_type": "code",
   "execution_count": 187,
   "metadata": {},
   "outputs": [],
   "source": [
    "params_lr = {'C':[1, 2,3,5,4]}"
   ]
  },
  {
   "cell_type": "code",
   "execution_count": 188,
   "metadata": {},
   "outputs": [],
   "source": [
    "lr_cv = GridSearchCV(lr_model, param_grid = params_lr, refit = True, cv = 5)"
   ]
  },
  {
   "cell_type": "code",
   "execution_count": 189,
   "metadata": {},
   "outputs": [
    {
     "data": {
      "text/plain": [
       "GridSearchCV(cv=5, error_score='raise-deprecating',\n",
       "             estimator=LogisticRegression(C=1.0, class_weight=None, dual=False,\n",
       "                                          fit_intercept=True,\n",
       "                                          intercept_scaling=1, l1_ratio=None,\n",
       "                                          max_iter=100, multi_class='warn',\n",
       "                                          n_jobs=None, penalty='l2',\n",
       "                                          random_state=0, solver='lbfgs',\n",
       "                                          tol=0.0001, verbose=0,\n",
       "                                          warm_start=False),\n",
       "             iid='warn', n_jobs=None, param_grid={'C': [1, 2, 3, 5, 4]},\n",
       "             pre_dispatch='2*n_jobs', refit=True, return_train_score=False,\n",
       "             scoring=None, verbose=0)"
      ]
     },
     "execution_count": 189,
     "metadata": {},
     "output_type": "execute_result"
    }
   ],
   "source": [
    "lr_cv.fit(xtrain_scal, ytrain.ravel())"
   ]
  },
  {
   "cell_type": "code",
   "execution_count": 190,
   "metadata": {},
   "outputs": [
    {
     "data": {
      "text/plain": [
       "{'C': 1}"
      ]
     },
     "execution_count": 190,
     "metadata": {},
     "output_type": "execute_result"
    }
   ],
   "source": [
    "lr_cv.best_params_"
   ]
  },
  {
   "cell_type": "code",
   "execution_count": 191,
   "metadata": {},
   "outputs": [],
   "source": [
    "ypred_train_lr = lr_cv.predict(xtrain_scal)"
   ]
  },
  {
   "cell_type": "code",
   "execution_count": 192,
   "metadata": {},
   "outputs": [],
   "source": [
    "ypred_train_lr = lr_cv.predict(xtest_scal)"
   ]
  },
  {
   "cell_type": "code",
   "execution_count": 193,
   "metadata": {},
   "outputs": [
    {
     "data": {
      "text/plain": [
       "0.0"
      ]
     },
     "execution_count": 193,
     "metadata": {},
     "output_type": "execute_result"
    }
   ],
   "source": [
    "train_acc_lr = accuracy_score(ytest, ypred_train_lr)\n",
    "train_acc_lr"
   ]
  },
  {
   "cell_type": "code",
   "execution_count": 194,
   "metadata": {},
   "outputs": [],
   "source": [
    "ypred_lr = lr_cv.predict(xtest_scal)"
   ]
  },
  {
   "cell_type": "code",
   "execution_count": 195,
   "metadata": {},
   "outputs": [
    {
     "name": "stdout",
     "output_type": "stream",
     "text": [
      "La exactitud (accuracy) en test de clasificación utilizando Logistic Regression es de = 0.0\n"
     ]
    }
   ],
   "source": [
    "print(\"La exactitud (accuracy) en test de clasificación utilizando Logistic Regression es de = \" +str(np.round(train_acc_lr,3)))"
   ]
  },
  {
   "cell_type": "markdown",
   "metadata": {},
   "source": [
    "**KNN**"
   ]
  },
  {
   "cell_type": "code",
   "execution_count": 196,
   "metadata": {},
   "outputs": [],
   "source": [
    "from sklearn.neighbors import KNeighborsClassifier\n",
    "from sklearn.metrics import accuracy_score\n",
    "from sklearn.model_selection import cross_val_score\n",
    "from sklearn.metrics import roc_curve, auc\n",
    "from sklearn import metrics\n",
    "RubrosKN = KNeighborsClassifier(n_neighbors=5)"
   ]
  },
  {
   "cell_type": "code",
   "execution_count": 197,
   "metadata": {},
   "outputs": [
    {
     "data": {
      "text/plain": [
       "array([ 1,  4,  7, 10, 13, 16, 19, 22, 25, 28, 31, 34, 37, 40, 43, 46, 49,\n",
       "       52, 55, 58, 61, 64, 67, 70, 73, 76, 79, 82, 85, 88, 91, 94, 97])"
      ]
     },
     "execution_count": 197,
     "metadata": {},
     "output_type": "execute_result"
    }
   ],
   "source": [
    "parameters_k = np.arange(1,100,3)\n",
    "parameters_k"
   ]
  },
  {
   "cell_type": "code",
   "execution_count": 198,
   "metadata": {},
   "outputs": [],
   "source": [
    "parameters_knn = [{'n_neighbors': parameters_k}]\n",
    "n_folds = 5\n",
    "Classifier_Rubro = GridSearchCV(RubrosKN, parameters_knn, refit = True, cv=n_folds, verbose=True)"
   ]
  },
  {
   "cell_type": "code",
   "execution_count": 199,
   "metadata": {},
   "outputs": [
    {
     "name": "stdout",
     "output_type": "stream",
     "text": [
      "Fitting 5 folds for each of 33 candidates, totalling 165 fits\n"
     ]
    },
    {
     "name": "stderr",
     "output_type": "stream",
     "text": [
      "[Parallel(n_jobs=1)]: Using backend SequentialBackend with 1 concurrent workers.\n",
      "[Parallel(n_jobs=1)]: Done 165 out of 165 | elapsed:    6.5s finished\n"
     ]
    },
    {
     "data": {
      "text/plain": [
       "GridSearchCV(cv=5, error_score='raise-deprecating',\n",
       "             estimator=KNeighborsClassifier(algorithm='auto', leaf_size=30,\n",
       "                                            metric='minkowski',\n",
       "                                            metric_params=None, n_jobs=None,\n",
       "                                            n_neighbors=5, p=2,\n",
       "                                            weights='uniform'),\n",
       "             iid='warn', n_jobs=None,\n",
       "             param_grid=[{'n_neighbors': array([ 1,  4,  7, 10, 13, 16, 19, 22, 25, 28, 31, 34, 37, 40, 43, 46, 49,\n",
       "       52, 55, 58, 61, 64, 67, 70, 73, 76, 79, 82, 85, 88, 91, 94, 97])}],\n",
       "             pre_dispatch='2*n_jobs', refit=True, return_train_score=False,\n",
       "             scoring=None, verbose=True)"
      ]
     },
     "execution_count": 199,
     "metadata": {},
     "output_type": "execute_result"
    }
   ],
   "source": [
    "Classifier_Rubro.fit(xtrain_scal, ytrain)"
   ]
  },
  {
   "cell_type": "code",
   "execution_count": 200,
   "metadata": {},
   "outputs": [
    {
     "data": {
      "text/plain": [
       "{'n_neighbors': 91}"
      ]
     },
     "execution_count": 200,
     "metadata": {},
     "output_type": "execute_result"
    }
   ],
   "source": [
    "Classifier_Rubro.best_params_"
   ]
  },
  {
   "cell_type": "code",
   "execution_count": 201,
   "metadata": {},
   "outputs": [
    {
     "data": {
      "text/plain": [
       "0.008249312557286892"
      ]
     },
     "execution_count": 201,
     "metadata": {},
     "output_type": "execute_result"
    }
   ],
   "source": [
    "Classifier_Rubro.best_score_"
   ]
  },
  {
   "cell_type": "code",
   "execution_count": 202,
   "metadata": {},
   "outputs": [],
   "source": [
    "ypred_train_Knn = Classifier_Rubro.predict(xtrain_scal)"
   ]
  },
  {
   "cell_type": "code",
   "execution_count": 203,
   "metadata": {},
   "outputs": [
    {
     "data": {
      "text/plain": [
       "0.01833180568285976"
      ]
     },
     "execution_count": 203,
     "metadata": {},
     "output_type": "execute_result"
    }
   ],
   "source": [
    "train_acc_Knn = accuracy_score(ytrain, ypred_train_Knn)\n",
    "train_acc_Knn"
   ]
  },
  {
   "cell_type": "code",
   "execution_count": 204,
   "metadata": {},
   "outputs": [],
   "source": [
    "ypred_Knn = Classifier_Rubro.predict(xtest_scal)"
   ]
  },
  {
   "cell_type": "code",
   "execution_count": 205,
   "metadata": {},
   "outputs": [
    {
     "data": {
      "text/plain": [
       "0.0018326206475259622"
      ]
     },
     "execution_count": 205,
     "metadata": {},
     "output_type": "execute_result"
    }
   ],
   "source": [
    "test_acc_Knn = accuracy_score(ytest, ypred_Knn)\n",
    "test_acc_Knn"
   ]
  },
  {
   "cell_type": "code",
   "execution_count": 206,
   "metadata": {},
   "outputs": [
    {
     "name": "stdout",
     "output_type": "stream",
     "text": [
      "La exactitud (accuracy) en test de clasificación utilizando Knn es de = 0.002\n"
     ]
    }
   ],
   "source": [
    "print(\"La exactitud (accuracy) en test de clasificación utilizando Knn es de = \" +str(np.round(test_acc_Knn,3)))"
   ]
  },
  {
   "cell_type": "markdown",
   "metadata": {},
   "source": [
    "**SVM**"
   ]
  },
  {
   "cell_type": "code",
   "execution_count": 207,
   "metadata": {},
   "outputs": [
    {
     "data": {
      "text/plain": [
       "GridSearchCV(cv=5, error_score='raise-deprecating',\n",
       "             estimator=SVC(C=1.0, cache_size=200, class_weight=None, coef0=0.0,\n",
       "                           decision_function_shape='ovr', degree=3,\n",
       "                           gamma='auto_deprecated', kernel='rbf', max_iter=-1,\n",
       "                           probability=True, random_state=None, shrinking=True,\n",
       "                           tol=0.001, verbose=False),\n",
       "             iid='warn', n_jobs=None,\n",
       "             param_grid={'C': [15, 16, 17], 'gamma': [0.001, 0.01, 0.1, 1],\n",
       "                         'kernel': ('linear', 'rbf')},\n",
       "             pre_dispatch='2*n_jobs', refit=True, return_train_score=False,\n",
       "             scoring=None, verbose=0)"
      ]
     },
     "execution_count": 207,
     "metadata": {},
     "output_type": "execute_result"
    }
   ],
   "source": [
    "parameters = {'kernel':('linear', 'rbf'), 'C':[15, 16, 17], 'gamma':[0.001, 0.01, 0.1,1]}\n",
    "svc = svm.SVC(probability = True)\n",
    "clf = GridSearchCV(svc, param_grid = parameters, refit = True, cv = 5)\n",
    "clf.fit(xtrain_scal, ytrain.ravel())"
   ]
  },
  {
   "cell_type": "code",
   "execution_count": 208,
   "metadata": {},
   "outputs": [
    {
     "name": "stdout",
     "output_type": "stream",
     "text": [
      "The best parameters are {'C': 15, 'gamma': 1, 'kernel': 'rbf'} with a score of 0.01\n"
     ]
    }
   ],
   "source": [
    "print(\"The best parameters are %s with a score of %0.2f\" % (clf.best_params_, clf.best_score_))"
   ]
  },
  {
   "cell_type": "code",
   "execution_count": 209,
   "metadata": {},
   "outputs": [],
   "source": [
    "ypred_train_SVC = clf.predict(xtrain_scal)"
   ]
  },
  {
   "cell_type": "code",
   "execution_count": 210,
   "metadata": {},
   "outputs": [
    {
     "data": {
      "text/plain": [
       "0.9908340971585701"
      ]
     },
     "execution_count": 210,
     "metadata": {},
     "output_type": "execute_result"
    }
   ],
   "source": [
    "train_acc_SVC = accuracy_score(ytrain, ypred_train_SVC)\n",
    "train_acc_SVC"
   ]
  },
  {
   "cell_type": "code",
   "execution_count": 211,
   "metadata": {},
   "outputs": [],
   "source": [
    "ypred_SVC = clf.predict(xtest_scal)"
   ]
  },
  {
   "cell_type": "code",
   "execution_count": 212,
   "metadata": {},
   "outputs": [
    {
     "data": {
      "text/plain": [
       "0.0018326206475259622"
      ]
     },
     "execution_count": 212,
     "metadata": {},
     "output_type": "execute_result"
    }
   ],
   "source": [
    "test_acc_SVC = accuracy_score(ytest, ypred_SVC)\n",
    "test_acc_SVC"
   ]
  },
  {
   "cell_type": "code",
   "execution_count": 213,
   "metadata": {},
   "outputs": [
    {
     "name": "stdout",
     "output_type": "stream",
     "text": [
      "La exactitud (accuracy) en test de clasificación utilizando SVR es de = 0.002\n"
     ]
    }
   ],
   "source": [
    "print(\"La exactitud (accuracy) en test de clasificación utilizando SVR es de = \" +str(np.round(test_acc_SVC,3)))"
   ]
  },
  {
   "cell_type": "markdown",
   "metadata": {},
   "source": [
    "**Xgboost**"
   ]
  },
  {
   "cell_type": "code",
   "execution_count": 214,
   "metadata": {},
   "outputs": [
    {
     "name": "stdout",
     "output_type": "stream",
     "text": [
      "XGBClassifier(base_score=0.5, booster='gbtree', colsample_bylevel=1,\n",
      "              colsample_bynode=1, colsample_bytree=1, gamma=0,\n",
      "              learning_rate=0.1, max_delta_step=0, max_depth=3,\n",
      "              min_child_weight=1, missing=None, n_estimators=100, n_jobs=1,\n",
      "              nthread=None, objective='multi:softprob', random_state=0,\n",
      "              reg_alpha=0, reg_lambda=1, scale_pos_weight=1, seed=None,\n",
      "              silent=None, subsample=1, verbosity=1)\n"
     ]
    }
   ],
   "source": [
    "model = XGBClassifier()\n",
    "model.fit(xtrain_scal, ytrain.ravel())\n",
    "print(model)\n"
   ]
  },
  {
   "cell_type": "code",
   "execution_count": 215,
   "metadata": {},
   "outputs": [],
   "source": [
    "# make predictions for test data\n",
    "y_pred = model.predict(xtest_scal)\n",
    "predictions = [round(value) for value in y_pred]"
   ]
  },
  {
   "cell_type": "code",
   "execution_count": 216,
   "metadata": {},
   "outputs": [
    {
     "name": "stdout",
     "output_type": "stream",
     "text": [
      "Accuracy: 1.10%\n"
     ]
    }
   ],
   "source": [
    "accuracy = accuracy_score(ytest.ravel(), predictions)\n",
    "print(\"Accuracy: %.2f%%\" % (accuracy * 100.0))"
   ]
  }
 ],
 "metadata": {
  "hide_input": false,
  "kernelspec": {
   "display_name": "Python 3",
   "language": "python",
   "name": "python3"
  },
  "language_info": {
   "codemirror_mode": {
    "name": "ipython",
    "version": 3
   },
   "file_extension": ".py",
   "mimetype": "text/x-python",
   "name": "python",
   "nbconvert_exporter": "python",
   "pygments_lexer": "ipython3",
   "version": "3.7.3"
  },
  "varInspector": {
   "cols": {
    "lenName": 16,
    "lenType": 16,
    "lenVar": 40
   },
   "kernels_config": {
    "python": {
     "delete_cmd_postfix": "",
     "delete_cmd_prefix": "del ",
     "library": "var_list.py",
     "varRefreshCmd": "print(var_dic_list())"
    },
    "r": {
     "delete_cmd_postfix": ") ",
     "delete_cmd_prefix": "rm(",
     "library": "var_list.r",
     "varRefreshCmd": "cat(var_dic_list()) "
    }
   },
   "types_to_exclude": [
    "module",
    "function",
    "builtin_function_or_method",
    "instance",
    "_Feature"
   ],
   "window_display": false
  }
 },
 "nbformat": 4,
 "nbformat_minor": 2
}
